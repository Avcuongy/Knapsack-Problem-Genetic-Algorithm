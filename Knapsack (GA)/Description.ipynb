{
 "cells": [
  {
   "cell_type": "markdown",
   "metadata": {},
   "source": [
    "--- \n",
    "\n",
    "<h1 style=\"color: #D97C00\">KNAPSACK 0/1</h1>\n",
    "\n",
    "- Mô tả: Bạn có một balo với một sức chứa nhất định và một tập hợp các vật phẩm. Mỗi vật phẩm có một trọng lượng và một giá trị. \n",
    "- Mục tiêu là chọn một tập hợp con các vật phẩm sao cho tổng trọng lượng không vượt quá sức chứa của balo, đồng thời tổng giá trị là lớn nhất.\n",
    "- Đặc điểm: Mỗi vật phẩm chỉ có thể chọn hoặc không chọn (0 hoặc 1).\n"
   ]
  },
  {
   "cell_type": "code",
   "execution_count": 1,
   "metadata": {},
   "outputs": [],
   "source": [
    "import random"
   ]
  },
  {
   "cell_type": "markdown",
   "metadata": {},
   "source": [
    "<h3 style=\"color:#F9E15B\">I. Các thông số tối ưu của GA</h3>\n",
    "\n",
    "- Kích thước quần thể. (Population Size)\n",
    "- Số thế hệ. (Generations)\n",
    "- Tỷ lệ lai ghép. (Crossover Rate)\n",
    "- Tỷ lệ đột biến. (Mutation Rate)"
   ]
  },
  {
   "cell_type": "code",
   "execution_count": 2,
   "metadata": {},
   "outputs": [],
   "source": [
    "POPULATION_SIZE = 200  # Kích thước quần thể\n",
    "GENERATIONS = 200  # Số thế hệ\n",
    "CROSSOVER_RATE = 0.8  # Tỷ lệ lai ghép\n",
    "MUTATION_RATE = 0.02  # Tỷ lệ đột biến"
   ]
  },
  {
   "cell_type": "markdown",
   "metadata": {},
   "source": [
    "<h3 style=\"color:#F9E15B\">II. Các thông số của Knapsack problem</h3>\n",
    "\n",
    "- Danh sách chứa thông tin về các vật phẩm trong bài toán cái ba lô, bao gồm trọng lượng và giá trị của mỗi vật phẩm.\n",
    "- Dung lượng tối đa của cái ba lô trong bài toán.\n",
    "- Danh sách lưu trữ giá trị fitness của các cá thể tốt nhất qua từng thế hệ."
   ]
  },
  {
   "cell_type": "code",
   "execution_count": 11,
   "metadata": {},
   "outputs": [],
   "source": [
    "items = [] # Vật phẩm chứa weights và values\n",
    "max_capacity = 0 # maximum capacity\n",
    "fitness_history = [] # Chứa lịch sử fitness qua các thế hệ"
   ]
  },
  {
   "cell_type": "markdown",
   "metadata": {},
   "source": [
    "<h3 style=\"color:#F9E15B\">III. Nhập liệu</h3>"
   ]
  },
  {
   "cell_type": "markdown",
   "metadata": {},
   "source": [
    "**1. Chuyển đổi chuỗi trọng lượng và giá trị, sức chứa tối đa balo.**"
   ]
  },
  {
   "cell_type": "code",
   "execution_count": 4,
   "metadata": {},
   "outputs": [],
   "source": [
    "def get_user_input():\n",
    "    global items, max_capacity\n",
    "    \n",
    "    weights_str = input(\"Nhập danh sách trọng lượng (phân tách bằng dấu phẩy): \")\n",
    "    values_str = input(\"Nhập danh sách giá trị (phân tách bằng dấu phẩy): \")\n",
    "    max_capacity = int(input(\"Nhập sức chứa tối đa: \"))\n",
    "    \n",
    "    weights = list(map(int, weights_str.split(\",\")))\n",
    "    values = list(map(int, values_str.split(\",\")))\n",
    "    items = list(zip(weights, values))\n",
    "    \n",
    "    return items, max_capacity"
   ]
  },
  {
   "cell_type": "markdown",
   "metadata": {},
   "source": [
    "**2. Hiển thị thông tin về các vật phẩm và dung lượng tối đa của cái ba lô.**"
   ]
  },
  {
   "cell_type": "code",
   "execution_count": 5,
   "metadata": {},
   "outputs": [],
   "source": [
    "def get_info():\n",
    "    print(\"\\nThông tin bài toán:\\n\")\n",
    "    stt = 1\n",
    "    for weight, value in items:\n",
    "        print(f\"Vật phẩm {stt}: Weight = {weight}, Value = {value}\")\n",
    "        stt += 1\n",
    "    print(f\"\\nMaximum capacity = {max_capacity}\")"
   ]
  },
  {
   "cell_type": "markdown",
   "metadata": {},
   "source": [
    "<h3 style=\"color:#F9E15B\">IV. Tính toán giá trị fitness của cá thể dựa trên trọng lượng và giá trị vật phẩm</h3>\n",
    "\n",
    "- Fitness của mỗi cá thể được tính dựa trên số vật phẩm được chọn và tính tổng value của số vật phẩm được chọn.\n",
    "- Nếu cá thể có fitness > dung lượng của balo thì fitness sẽ được gán 0."
   ]
  },
  {
   "cell_type": "code",
   "execution_count": 6,
   "metadata": {},
   "outputs": [],
   "source": [
    "def fitness(individual):\n",
    "    total_weight = sum(individual[i] * items[i][0] for i in range(len(items)))\n",
    "    total_value = sum(individual[i] * items[i][1] for i in range(len(items)))\n",
    "    return total_value if total_weight <= max_capacity else 0"
   ]
  },
  {
   "cell_type": "markdown",
   "metadata": {},
   "source": [
    "<h3 style=\"color:#F9E15B\">V. Khởi tạo quần thể</h3>"
   ]
  },
  {
   "cell_type": "code",
   "execution_count": 7,
   "metadata": {},
   "outputs": [],
   "source": [
    "def initialize_population(num_items):\n",
    "    return [[random.randint(0, 1) for _ in range(num_items)] for _ in range(POPULATION_SIZE)]"
   ]
  },
  {
   "cell_type": "markdown",
   "metadata": {},
   "source": [
    "<h3 style=\"color:#F9E15B\">VI. Rank Selection.</h3>\n",
    "\n",
    "- Sử dụng chọn lọc xếp hạng\n",
    "- Xếp hạng quần thể theo fitness\n",
    "- Tính toán xác suất chọn lọc dựa trên thứ hạng\n",
    "- Chọn cá thể dựa trên xác suất"
   ]
  },
  {
   "cell_type": "code",
   "execution_count": null,
   "metadata": {},
   "outputs": [],
   "source": [
    "def select_population(population): \n",
    "    size_to_select = min(POPULATION_SIZE, len(population)) \n",
    "    ranked_population = sorted(population, key=lambda x: fitness(x), reverse=True) \n",
    "    total_rank = sum(range(1, len(population) + 1))\n",
    "    rank_probabilities = [(len(population) - rank) / total_rank for rank in range(len(population))]\n",
    "    selected_population = []\n",
    "    for _ in range(size_to_select):  \n",
    "        pick = random.uniform(0, 1)\n",
    "        cumulative_probability = 0\n",
    "        for i, prob in enumerate(rank_probabilities):\n",
    "            cumulative_probability += prob\n",
    "            if pick <= cumulative_probability:\n",
    "                selected_population.append(ranked_population[i])\n",
    "                break \n",
    "    return selected_population"
   ]
  },
  {
   "cell_type": "markdown",
   "metadata": {},
   "source": [
    "<h3 style=\"color:#F9E15B\">VII. Arithmetic Crossover.</h3>\n",
    "\n",
    "- Cá thể con được tính toán dựa trên giá trị trung bình có trọng số của các gen từ cha mẹ\n",
    "- Các giá trị gen sau đó được làm tròn thành 0 hoặc 1"
   ]
  },
  {
   "cell_type": "code",
   "execution_count": null,
   "metadata": {},
   "outputs": [],
   "source": [
    "def crossover(parent1, parent2, alpha=0.5):\n",
    "    child1 = []\n",
    "    child2 = []\n",
    "    for p1, p2 in zip(parent1, parent2):\n",
    "        c1 = alpha * p1 + (1 - alpha) * p2\n",
    "        c2 = (1 - alpha) * p1 + alpha * p2\n",
    "        c1 = round(c1) if c1 in [0, 1] else random.randint(0, 1)\n",
    "        c2 = round(c2) if c2 in [0, 1] else random.randint(0, 1)\n",
    "        child1.append(c1)\n",
    "        child2.append(c2)\n",
    "    return child1, child2"
   ]
  },
  {
   "cell_type": "markdown",
   "metadata": {},
   "source": [
    "<h3 style=\"color:#F9E15B\">VIII. Swap Mutation.</h3>\n",
    "\n",
    "- Sử dụng đột biến thông qua cách sử dụng tới thông số tỉ lệ đột biến.\n",
    "- Nếu số random nhỏ hơn thông số tỉ lệ đột biến thì chọn hai vị trí ngẫu nhiên để hoán đổi."
   ]
  },
  {
   "cell_type": "code",
   "execution_count": null,
   "metadata": {},
   "outputs": [],
   "source": [
    "def mutate(individual):\n",
    "    if random.random() <= MUTATION_RATE:\n",
    "        idx1 = random.randint(0, len(individual) - 1)\n",
    "        idx2 = idx1\n",
    "        while idx2 == idx1:  \n",
    "            idx2 = random.randint(0, len(individual) - 1)\n",
    "        individual[idx1], individual[idx2] = individual[idx2], individual[idx1]\n",
    "    return individual"
   ]
  },
  {
   "cell_type": "markdown",
   "metadata": {},
   "source": [
    "<h3 style=\"color:#F9E15B\">IX. Triển khai thuật toán</h3>"
   ]
  },
  {
   "cell_type": "code",
   "execution_count": null,
   "metadata": {},
   "outputs": [],
   "source": [
    "def genetic_algorithm():\n",
    "    global fitness_history\n",
    "    \n",
    "    population = initialize_population(len(items))\n",
    "    best_individual = max(population, key=lambda ind: fitness(ind))\n",
    "\n",
    "    for gen in range(GENERATIONS):\n",
    "        selected_population = select_population(population)\n",
    "        \n",
    "        offspring = []\n",
    "        for i in range(0, len(selected_population), 2):\n",
    "            if random.random() < CROSSOVER_RATE and i+1 < len(selected_population):\n",
    "                child1, child2 = crossover(selected_population[i], selected_population[i+1])\n",
    "                offspring.extend([child1, child2])\n",
    "            else:\n",
    "                offspring.extend([selected_population[i], selected_population[i+1]])\n",
    "\n",
    "        offspring = [mutate(ind) for ind in offspring]\n",
    "        \n",
    "        population.extend(offspring)\n",
    "        \n",
    "        population = sorted(population, key=lambda ind: fitness(ind), reverse=True)\n",
    "        population = population[:POPULATION_SIZE]\n",
    "        \n",
    "        current_best = max(population, key=lambda ind: fitness(ind))\n",
    "        fitness_history.append(fitness(current_best))\n",
    "        \n",
    "        if fitness(current_best) > fitness(best_individual):\n",
    "            best_individual = current_best\n",
    "\n",
    "    return best_individual, fitness(best_individual)"
   ]
  }
 ],
 "metadata": {
  "kernelspec": {
   "display_name": "Python 3",
   "language": "python",
   "name": "python3"
  },
  "language_info": {
   "codemirror_mode": {
    "name": "ipython",
    "version": 3
   },
   "file_extension": ".py",
   "mimetype": "text/x-python",
   "name": "python",
   "nbconvert_exporter": "python",
   "pygments_lexer": "ipython3",
   "version": "3.12.5"
  }
 },
 "nbformat": 4,
 "nbformat_minor": 2
}
