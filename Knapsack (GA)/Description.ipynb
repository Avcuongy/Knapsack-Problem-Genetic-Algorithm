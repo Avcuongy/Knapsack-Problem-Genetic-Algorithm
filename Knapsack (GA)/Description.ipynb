{
 "cells": [
  {
   "cell_type": "markdown",
   "metadata": {},
   "source": [
    "--- \n",
    "\n",
    "<h1 style=\"color: #D97C00\">MÔ TẢ</h1>\n",
    "\n",
    "---"
   ]
  },
  {
   "cell_type": "code",
   "execution_count": null,
   "metadata": {},
   "outputs": [],
   "source": [
    "import random"
   ]
  },
  {
   "cell_type": "markdown",
   "metadata": {},
   "source": [
    "<h3 style=\"color:#F9E15B\">I. Các thông số tối ưu của GA</h3>\n",
    "\n",
    "- Kích thước quần thể. (Population Size)\n",
    "- Số thế hệ. (Generations)\n",
    "- Tỷ lệ lai ghép. (Crossover Rate)\n",
    "- Tỷ lệ đột biến. (Mutation Rate)"
   ]
  },
  {
   "cell_type": "code",
   "execution_count": null,
   "metadata": {},
   "outputs": [],
   "source": [
    "POPULATION_SIZE = 200  # Kích thước quần thể\n",
    "GENERATIONS = 200  # Số thế hệ\n",
    "CROSSOVER_RATE = 0.8  # Tỷ lệ lai ghép\n",
    "MUTATION_RATE = 0.02  # Tỷ lệ đột biến"
   ]
  },
  {
   "cell_type": "markdown",
   "metadata": {},
   "source": [
    "<h3 style=\"color:#F9E15B\">II. Các thông số của Knapsack problem</h3>\n",
    "\n",
    "- Danh sách chứa thông tin về các vật phẩm trong bài toán cái ba lô, bao gồm trọng lượng và giá trị của mỗi vật phẩm.\n",
    "- Dung lượng tối đa của cái ba lô trong bài toán.\n",
    "- Danh sách lưu trữ giá trị fitness của các cá thể tốt nhất qua từng thế hệ."
   ]
  },
  {
   "cell_type": "code",
   "execution_count": null,
   "metadata": {},
   "outputs": [],
   "source": [
    "items = [] # Vật phẩm chứa weights và values\n",
    "max_capacity = 0 # maximum capacity\n",
    "fitness_history = [] # Chứa lịch sử fitness qua các thế hệ"
   ]
  },
  {
   "cell_type": "markdown",
   "metadata": {},
   "source": [
    "<h3 style=\"color:#F9E15B\">III. Nhập liệu</h3>"
   ]
  },
  {
   "cell_type": "markdown",
   "metadata": {},
   "source": [
    "**1. Chuyển đổi chuỗi trọng lượng và giá trị thành danh sách các vật phẩm.**"
   ]
  },
  {
   "cell_type": "code",
   "execution_count": null,
   "metadata": {},
   "outputs": [],
   "source": [
    "def parse_items(weights_str, values_str):\n",
    "    weights = list(map(int, weights_str.split(\",\")))\n",
    "    values = list(map(int, values_str.split(\",\")))\n",
    "    items = list(zip(weights, values))\n",
    "    return items"
   ]
  },
  {
   "cell_type": "markdown",
   "metadata": {},
   "source": [
    "**2. Nhận thông tin đầu vào từ người dùng về trọng lượng, giá trị và dung lượng ba lô.**"
   ]
  },
  {
   "cell_type": "code",
   "execution_count": null,
   "metadata": {},
   "outputs": [],
   "source": [
    "def get_user_input():\n",
    "    weights_str = input(\"Nhập danh sách trọng lượng (phân tách bằng dấu phẩy): \")\n",
    "    values_str = input(\"Nhập danh sách giá trị (phân tách bằng dấu phẩy): \")\n",
    "    max_capacity = int(input(\"Maximum capacity: \"))\n",
    "    return parse_items(weights_str, values_str), max_capacity"
   ]
  },
  {
   "cell_type": "markdown",
   "metadata": {},
   "source": [
    "**3. Hiển thị thông tin về các vật phẩm và dung lượng tối đa của cái ba lô.**"
   ]
  },
  {
   "cell_type": "code",
   "execution_count": null,
   "metadata": {},
   "outputs": [],
   "source": [
    "def get_info():\n",
    "    print(\"\\nThông tin bài toán:\\n\")\n",
    "    stt = 1\n",
    "    for weight, value in items:\n",
    "        print(f\"Vật phẩm {stt}: Weight = {weight}, Value = {value}\")\n",
    "        stt += 1\n",
    "    print(f\"\\nMaximum capacity = {max_capacity}\")"
   ]
  },
  {
   "cell_type": "markdown",
   "metadata": {},
   "source": [
    "<h3 style=\"color:#F9E15B\">IV. Tính toán giá trị fitness của cá thể dựa trên trọng lượng và giá trị vật phẩm</h3>"
   ]
  },
  {
   "cell_type": "code",
   "execution_count": null,
   "metadata": {},
   "outputs": [],
   "source": [
    "def fitness(individual):\n",
    "    total_weight = sum(individual[i] * items[i][0] for i in range(len(items)))\n",
    "    total_value = sum(individual[i] * items[i][1] for i in range(len(items)))\n",
    "    return total_value if total_weight <= max_capacity else 0"
   ]
  },
  {
   "cell_type": "markdown",
   "metadata": {},
   "source": [
    "<h3 style=\"color:#F9E15B\">V. Khởi tạo quần thể</h3>"
   ]
  },
  {
   "cell_type": "code",
   "execution_count": null,
   "metadata": {},
   "outputs": [],
   "source": [
    "def initialize_population(num_items):\n",
    "    return [[random.randint(0, 1) for _ in range(num_items)] for _ in range(POPULATION_SIZE)]"
   ]
  },
  {
   "cell_type": "markdown",
   "metadata": {},
   "source": [
    "<h3 style=\"color:#F9E15B\">VI. Elitism Selection.</h3>"
   ]
  },
  {
   "cell_type": "code",
   "execution_count": null,
   "metadata": {},
   "outputs": [],
   "source": [
    "def select_population(population):\n",
    "    sorted_population = sorted(population, key=lambda x: fitness(x), reverse=True)\n",
    "    return sorted_population[:POPULATION_SIZE]"
   ]
  },
  {
   "cell_type": "markdown",
   "metadata": {},
   "source": [
    "<h3 style=\"color:#F9E15B\">VII. Uniform Crossover.</h3>"
   ]
  },
  {
   "cell_type": "code",
   "execution_count": null,
   "metadata": {},
   "outputs": [],
   "source": [
    "def crossover(parent1, parent2):\n",
    "    child1, child2 = parent1[:], parent2[:]\n",
    "    for i in range(len(parent1)):\n",
    "        coin_flip = random.choice([0, 1])\n",
    "        if coin_flip == 0:\n",
    "            child1[i] = parent1[i]\n",
    "            child2[i] = parent2[i]\n",
    "        else:\n",
    "            child1[i] = parent2[i]\n",
    "            child2[i] = parent1[i]\n",
    "    return child1, child2"
   ]
  },
  {
   "cell_type": "markdown",
   "metadata": {},
   "source": [
    "<h3 style=\"color:#F9E15B\">VIII. Bit-flip mutation.</h3>"
   ]
  },
  {
   "cell_type": "code",
   "execution_count": null,
   "metadata": {},
   "outputs": [],
   "source": [
    "def mutate(individual):\n",
    "    for i in range(len(individual)):\n",
    "        if random.random() < MUTATION_RATE:\n",
    "            individual[i] = 1 - individual[i]\n",
    "    return individual"
   ]
  },
  {
   "cell_type": "markdown",
   "metadata": {},
   "source": [
    "<h3 style=\"color:#F9E15B\">IX. Triển khai thuật toán</h3>"
   ]
  },
  {
   "cell_type": "code",
   "execution_count": null,
   "metadata": {},
   "outputs": [],
   "source": [
    "def genetic_algorithm():\n",
    "    population = initialize_population(len(items))\n",
    "    best_individual = max(population, key=lambda ind: fitness(ind))\n",
    "\n",
    "    for gen in range(GENERATIONS):\n",
    "        selected_population = select_population(population)\n",
    "        \n",
    "        offspring = []\n",
    "        for i in range(0, len(selected_population), 2):\n",
    "            if random.random() < CROSSOVER_RATE and i+1 < len(selected_population):\n",
    "                child1, child2 = crossover(selected_population[i], selected_population[i+1])\n",
    "                offspring.extend([child1, child2])\n",
    "            else:\n",
    "                offspring.extend([selected_population[i], selected_population[i+1]])\n",
    "\n",
    "        offspring = [mutate(ind) for ind in offspring]\n",
    "        \n",
    "        population = offspring\n",
    "        current_best = max(population, key=lambda ind: fitness(ind))\n",
    "        fitness_history.append(fitness(current_best))\n",
    "        \n",
    "        if fitness(current_best) > fitness(best_individual):\n",
    "            best_individual = current_best\n",
    "\n",
    "    return best_individual, fitness(best_individual)"
   ]
  }
 ],
 "metadata": {
  "language_info": {
   "name": "python"
  }
 },
 "nbformat": 4,
 "nbformat_minor": 2
}
