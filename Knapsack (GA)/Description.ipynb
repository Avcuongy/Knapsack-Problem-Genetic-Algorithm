{
 "cells": [
  {
   "cell_type": "markdown",
   "metadata": {},
   "source": [
    "--- \n",
    "\n",
    "<h1 style=\"color: #D97C00\">KNAPSACK 0/1</h1>\n",
    "\n",
    "---\n",
    "\n",
    "- Mô tả: Bạn có một balo với một sức chứa nhất định và một tập hợp các vật phẩm. Mỗi vật phẩm có một trọng lượng và một giá trị. \n",
    "- Mục tiêu là chọn một tập hợp con các vật phẩm sao cho tổng trọng lượng không vượt quá sức chứa của balo, đồng thời tổng giá trị là lớn nhất.\n",
    "- Đặc điểm: Mỗi vật phẩm chỉ có thể chọn hoặc không chọn (0 hoặc 1).\n"
   ]
  },
  {
   "cell_type": "markdown",
   "metadata": {},
   "source": [
    "<h3 style=\"color:#F9E15B\"> Thư viện Random </h3>    \n",
    "\n",
    "- Tạo các cá thể ban đầu một cách ngẫu nhiên."
   ]
  },
  {
   "cell_type": "code",
   "execution_count": 1,
   "metadata": {},
   "outputs": [],
   "source": [
    "import random"
   ]
  },
  {
   "cell_type": "markdown",
   "metadata": {},
   "source": [
    "<h3 style=\"color:#F9E15B\">I. Các thông số tối ưu của GA</h3>\n",
    "\n",
    "- Kích thước quần thể. (Population Size)\n",
    "- Số thế hệ. (Generations)\n",
    "- Tỷ lệ lai ghép. (Crossover Rate)\n",
    "- Tỷ lệ đột biến. (Mutation Rate)"
   ]
  },
  {
   "cell_type": "code",
   "execution_count": null,
   "metadata": {},
   "outputs": [],
   "source": [
    "POPULATION_SIZE = 200  # Kích thước quần thể\n",
    "GENERATIONS = 200  # Số thế hệ\n",
    "CROSSOVER_RATE = 0.8  # Tỷ lệ lai ghép\n",
    "MUTATION_RATE = 0.04  # Tỷ lệ đột biến"
   ]
  },
  {
   "cell_type": "markdown",
   "metadata": {},
   "source": [
    "<h3 style=\"color:#F9E15B\">II. Các thông số của Knapsack problem</h3>\n",
    "\n",
    "- Danh sách chứa thông tin về các vật phẩm trong bài toán cái ba lô, bao gồm trọng lượng và giá trị của mỗi vật phẩm.\n",
    "- Dung lượng tối đa của cái ba lô trong bài toán.\n",
    "- Danh sách lưu trữ giá trị fitness của các cá thể tốt nhất qua từng thế hệ."
   ]
  },
  {
   "cell_type": "code",
   "execution_count": 11,
   "metadata": {},
   "outputs": [],
   "source": [
    "items = [] # Vật phẩm chứa weights và values\n",
    "max_capacity = 0 # maximum capacity\n",
    "fitness_history = [] # Chứa lịch sử fitness qua các thế hệ"
   ]
  },
  {
   "cell_type": "markdown",
   "metadata": {},
   "source": [
    "<h3 style=\"color:#F9E15B\">III. Khởi tạo quần thể</h3>  \n",
    "\n",
    "- Quần thể được tạo ngẫu nhiên, mỗi cá thể biểu diễn một giải pháp tiềm năng thông qua chuỗi gene nhị phân (0 và 1)."
   ]
  },
  {
   "cell_type": "code",
   "execution_count": 7,
   "metadata": {},
   "outputs": [],
   "source": [
    "def initialize_population(num_items):\n",
    "    return [[random.randint(0, 1) for _ in range(num_items)] for _ in range(POPULATION_SIZE)]"
   ]
  },
  {
   "cell_type": "markdown",
   "metadata": {},
   "source": [
    "<h3 style=\"color:#F9E15B\">IV. Tính toán giá trị fitness của cá thể dựa trên trọng lượng và giá trị vật phẩm</h3>\n",
    "\n",
    "- Fitness của mỗi cá thể được tính dựa trên số vật phẩm được chọn và tính tổng value của số vật phẩm được chọn.\n",
    "- Nếu cá thể có fitness > dung lượng của balo thì fitness sẽ được gán 0."
   ]
  },
  {
   "cell_type": "code",
   "execution_count": 6,
   "metadata": {},
   "outputs": [],
   "source": [
    "def fitness(individual):\n",
    "    total_weight = sum(individual[i] * items[i][0] for i in range(len(items)))\n",
    "    total_value = sum(individual[i] * items[i][1] for i in range(len(items)))\n",
    "    return total_value if total_weight <= max_capacity else 0"
   ]
  },
  {
   "cell_type": "markdown",
   "metadata": {},
   "source": [
    "<h3 style=\"color:#F9E15B\">V. Elitism Selection.</h3>\n",
    "\n",
    "- Sử dụng chọn lọc ưu tú.\n",
    "- Chọn cá thể có fitness cao nhất để giữ lại.\n",
    "- Các cá thể khác được chọn theo thứ tự giảm dần fitness."
   ]
  },
  {
   "cell_type": "code",
   "execution_count": 8,
   "metadata": {},
   "outputs": [],
   "source": [
    "def select_population(population):\n",
    "    sorted_population = sorted(population, key=lambda x: fitness(x), reverse=True)\n",
    "    return sorted_population[:POPULATION_SIZE]"
   ]
  },
  {
   "cell_type": "markdown",
   "metadata": {},
   "source": [
    "<h3 style=\"color:#F9E15B\">VI. Uniform Crossover.</h3>\n",
    "\n",
    "- Theo cơ chế tung đồng xu (0,1).\n",
    "- Mỗi lần tung đồng xu, duyệt qua từng phần tử cá thể con.\n",
    "- Thay thế gán mỗi bit bằng bit của cha hoặc mẹ tuỳ vào thiết lập."
   ]
  },
  {
   "cell_type": "code",
   "execution_count": null,
   "metadata": {},
   "outputs": [],
   "source": [
    "def crossover(parent1, parent2):\n",
    "    child1, child2 = parent1[:], parent2[:]\n",
    "    for i in range(len(parent1)):\n",
    "        coin_flip = random.choice([0, 1])\n",
    "        if coin_flip == 0:\n",
    "            child1[i] = parent1[i]\n",
    "            child2[i] = parent2[i]\n",
    "        else:\n",
    "            child1[i] = parent2[i]\n",
    "            child2[i] = parent1[i]\n",
    "    return child1, child2  "
   ]
  },
  {
   "cell_type": "markdown",
   "metadata": {},
   "source": [
    "<h3 style=\"color:#F9E15B\">VII. Bit-flip mutation.</h3>\n",
    "\n",
    "- Sử dụng đột biến thông qua cách sử dụng tới thông số tỉ lệ đột biến.\n",
    "- Duyệt qua từng bit trong cá thể, nếu số random nhỏ hơn thông số tỉ lệ đột biến thì bit bị lật (0 thành 1 hoặc 1 thành 0)."
   ]
  },
  {
   "cell_type": "code",
   "execution_count": null,
   "metadata": {},
   "outputs": [],
   "source": [
    "def mutate(individual):\n",
    "    for i in range(len(individual)):\n",
    "        if random.random() < MUTATION_RATE:\n",
    "            individual[i] = 1 - individual[i]\n",
    "    return individual"
   ]
  },
  {
   "cell_type": "markdown",
   "metadata": {},
   "source": [
    "<h3 style=\"color:#F9E15B\">VIII. Triển khai thuật toán</h3>  \n",
    "\n",
    "Lặp qua các thế hệ: Trong mỗi thế hệ, thực hiện:\n",
    "\n",
    "- Chọn lọc quần thể dựa trên fitness.\n",
    "- Lai ghép các cặp cá thể để tạo thế hệ con với xác suất lai ghép.\n",
    "- Thực hiện đột biến trên các cá thể con để tăng tính đa dạng.\n",
    "- Cập nhật quần thể và cá thể tốt nhất nếu có cá thể mới vượt trội.  \n",
    "\n",
    "Lưu giá trị fitness tốt nhất qua từng thế hệ để đánh giá quá trình tiến hóa.  \n",
    "\n",
    "Trả về kết quả cá thể tốt nhất và giá trị fitness tương ứng "
   ]
  },
  {
   "cell_type": "code",
   "execution_count": null,
   "metadata": {},
   "outputs": [],
   "source": [
    "def genetic_algorithm():\n",
    "    global fitness_history\n",
    "    \n",
    "    population = initialize_population(len(items))\n",
    "    best_individual = max(population, key=lambda ind: fitness(ind))\n",
    "\n",
    "    for gen in range(GENERATIONS):\n",
    "        selected_population = select_population(population)\n",
    "        \n",
    "        num_to_crossover = int(POPULATION_SIZE * CROSSOVER_RATE)\n",
    "        selected_for_crossover = selected_population[:num_to_crossover]\n",
    "        \n",
    "        offspring = []\n",
    "        for i in range(0, num_to_crossover, 2):\n",
    "            if i + 1 < len(selected_for_crossover):\n",
    "                child1, child2 = crossover(selected_for_crossover[i], selected_for_crossover[i + 1])\n",
    "                offspring.extend([child1, child2])\n",
    "        \n",
    "        offspring = [mutate(ind) for ind in offspring]\n",
    "        \n",
    "        # Cắt tỉa quần thể để đảm bảo kích thước không vượt quá POPULATION_SIZE\n",
    "        population.extend(offspring)\n",
    "        population = sorted(population, key=lambda ind: fitness(ind), reverse=True)\n",
    "        population = population[:POPULATION_SIZE]\n",
    "        \n",
    "        current_best = max(population, key=lambda ind: fitness(ind))\n",
    "        fitness_history.append(fitness(current_best))\n",
    "        \n",
    "        if fitness(current_best) > fitness(best_individual):\n",
    "            best_individual = current_best\n",
    "\n",
    "    return best_individual, fitness(best_individual)"
   ]
  },
  {
   "cell_type": "markdown",
   "metadata": {},
   "source": [
    "--- \n",
    "\n",
    "<h2 style=\"color:#D97C00\"> Tổng thể </h2>\n",
    "\n",
    "---"
   ]
  },
  {
   "cell_type": "markdown",
   "metadata": {},
   "source": [
    "- Bài toán trên được thiết kế để tối ưu hóa trong không gian tìm kiếm rộng lớn và phức tạp, nơi các phương pháp giải quyết truyền thống gặp khó khăn.  \n",
    "- Với các khả năng tìm kiếm toàn cục hiệu quả, tránh bị kẹt trong các nghiệm cục bộ nhờ vào sự kết hợp giữa các cơ chế Selection, Crossover, và Mutation.  "
   ]
  }
 ],
 "metadata": {
  "kernelspec": {
   "display_name": "Python 3",
   "language": "python",
   "name": "python3"
  },
  "language_info": {
   "codemirror_mode": {
    "name": "ipython",
    "version": 3
   },
   "file_extension": ".py",
   "mimetype": "text/x-python",
   "name": "python",
   "nbconvert_exporter": "python",
   "pygments_lexer": "ipython3",
   "version": "3.12.5"
  }
 },
 "nbformat": 4,
 "nbformat_minor": 2
}
