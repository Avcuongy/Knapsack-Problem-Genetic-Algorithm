{
 "cells": [
  {
   "cell_type": "markdown",
   "metadata": {},
   "source": [
    "---\n",
    "\n",
    "<h1>Thí Nghiệm</h1>\n",
    "\n",
    "---"
   ]
  },
  {
   "cell_type": "markdown",
   "metadata": {},
   "source": [
    "| Thông số ảnh hưởng |\n",
    "|----------|\n",
    "| Kích Thước Thế Hệ |"
   ]
  },
  {
   "cell_type": "markdown",
   "metadata": {},
   "source": [
    "| Kỹ thuật ảnh hưởng |\n",
    "|----------|\n",
    "| Selection: Elitism Selection |\n",
    "| Crossover: One-point crossover |\n",
    "| Mutation: Bit-flip Mutation |"
   ]
  },
  {
   "cell_type": "markdown",
   "metadata": {},
   "source": [
    "<h2>I. Thông số ảnh hưởng</h2>"
   ]
  },
  {
   "cell_type": "markdown",
   "metadata": {},
   "source": [
    "<h2>II. Kỹ Thuật ảnh hưởng</h2>"
   ]
  }
 ],
 "metadata": {
  "language_info": {
   "name": "python"
  }
 },
 "nbformat": 4,
 "nbformat_minor": 2
}
