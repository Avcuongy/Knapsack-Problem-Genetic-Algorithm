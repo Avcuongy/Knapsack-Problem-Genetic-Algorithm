{
 "cells": [
  {
   "cell_type": "markdown",
   "metadata": {},
   "source": [
    "---\n",
    "\n",
    "<h1 style=\"text-align:center\">THÍ NGHIỆM</h1>\n",
    "\n",
    "---"
   ]
  },
  {
   "cell_type": "markdown",
   "metadata": {},
   "source": [
    "# Tình huống tổng quan: \n",
    "\n",
    "Sau khi đã thí nghiệm với các thông số và thuật toán, ta chọn ra được:\n",
    "\n",
    "### Thông số: \n",
    "-\n",
    "-\n",
    "-\n",
    "-\n",
    "\n",
    "### Kỹ thuật sử dụng:\n",
    "-\n",
    "-\n",
    "-\n",
    "\n",
    "Ta sẽ dùng các thông số, kỹ thuật này để giải quyết vấn đề về tối ưu bài toán."
   ]
  }
 ],
 "metadata": {
  "kernelspec": {
   "display_name": "Python 3",
   "language": "python",
   "name": "python3"
  },
  "language_info": {
   "codemirror_mode": {
    "name": "ipython",
    "version": 3
   },
   "file_extension": ".py",
   "mimetype": "text/x-python",
   "name": "python",
   "nbconvert_exporter": "python",
   "pygments_lexer": "ipython3",
   "version": "3.12.5"
  }
 },
 "nbformat": 4,
 "nbformat_minor": 2
}
