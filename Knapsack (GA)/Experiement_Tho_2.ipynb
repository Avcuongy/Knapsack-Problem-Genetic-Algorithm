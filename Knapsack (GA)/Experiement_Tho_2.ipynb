{
 "cells": [
  {
   "cell_type": "markdown",
   "metadata": {},
   "source": [
    "---\n",
    "\n",
    "<h2> Thí nghiệm </h2>\n",
    "\n",
    "---"
   ]
  },
  {
   "cell_type": "code",
   "execution_count": 144,
   "metadata": {},
   "outputs": [],
   "source": [
    "import matplotlib.pyplot as plt\n",
    "import numpy as np\n",
    "import pandas as pd\n",
    "from Genetic_Algorithm import * "
   ]
  },
  {
   "cell_type": "markdown",
   "metadata": {},
   "source": [
    "Nhập số liệu tính toán:"
   ]
  },
  {
   "cell_type": "code",
   "execution_count": 215,
   "metadata": {},
   "outputs": [
    {
     "name": "stdout",
     "output_type": "stream",
     "text": [
      "\n",
      "Thông tin bài toán:\n",
      "\n",
      "Vật phẩm 1: Weight = 330, Value = 2870\n",
      "Vật phẩm 2: Weight = 176, Value = 308\n",
      "Vật phẩm 3: Weight = 2431, Value = 570\n",
      "Vật phẩm 4: Weight = 2808, Value = 137\n",
      "Vật phẩm 5: Weight = 1038, Value = 445\n",
      "Vật phẩm 6: Weight = 3996, Value = 771\n",
      "Vật phẩm 7: Weight = 3193, Value = 108\n",
      "Vật phẩm 8: Weight = 805, Value = 469\n",
      "Vật phẩm 9: Weight = 627, Value = 3678\n",
      "Vật phẩm 10: Weight = 2257, Value = 2760\n",
      "Vật phẩm 11: Weight = 1649, Value = 842\n",
      "Vật phẩm 12: Weight = 1210, Value = 1237\n",
      "Vật phẩm 13: Weight = 2642, Value = 1829\n",
      "Vật phẩm 14: Weight = 508, Value = 967\n",
      "Vật phẩm 15: Weight = 1192, Value = 313\n",
      "Vật phẩm 16: Weight = 3446, Value = 1322\n",
      "Vật phẩm 17: Weight = 3626, Value = 651\n",
      "Vật phẩm 18: Weight = 1706, Value = 679\n",
      "Vật phẩm 19: Weight = 3068, Value = 2254\n",
      "Vật phẩm 20: Weight = 2977, Value = 525\n",
      "Vật phẩm 21: Weight = 1688, Value = 1571\n",
      "Vật phẩm 22: Weight = 709, Value = 697\n",
      "Vật phẩm 23: Weight = 3522, Value = 2262\n",
      "Vật phẩm 24: Weight = 85, Value = 3065\n",
      "Vật phẩm 25: Weight = 3350, Value = 3059\n",
      "Vật phẩm 26: Weight = 451, Value = 2753\n",
      "Vật phẩm 27: Weight = 2430, Value = 2264\n",
      "Vật phẩm 28: Weight = 151, Value = 1820\n",
      "Vật phẩm 29: Weight = 2696, Value = 47\n",
      "Vật phẩm 30: Weight = 922, Value = 2845\n",
      "Vật phẩm 31: Weight = 3930, Value = 339\n",
      "Vật phẩm 32: Weight = 323, Value = 2294\n",
      "Vật phẩm 33: Weight = 1817, Value = 729\n",
      "Vật phẩm 34: Weight = 184, Value = 2603\n",
      "Vật phẩm 35: Weight = 1043, Value = 1720\n",
      "Vật phẩm 36: Weight = 2839, Value = 3385\n",
      "Vật phẩm 37: Weight = 3439, Value = 1854\n",
      "Vật phẩm 38: Weight = 484, Value = 2539\n",
      "Vật phẩm 39: Weight = 2432, Value = 762\n",
      "Vật phẩm 40: Weight = 1783, Value = 2005\n",
      "Vật phẩm 41: Weight = 622, Value = 201\n",
      "\n",
      "Maximum capacity = 35000\n"
     ]
    }
   ],
   "source": [
    "items, max_capacity = get_user_input()\n",
    "get_info()"
   ]
  },
  {
   "cell_type": "markdown",
   "metadata": {},
   "source": [
    "<h2> So sánh kĩ thuật:"
   ]
  },
  {
   "cell_type": "markdown",
   "metadata": {},
   "source": [
    "<h3> Roulette-wheel Slection và Elitism Selection</h3>"
   ]
  },
  {
   "cell_type": "code",
   "execution_count": 220,
   "metadata": {},
   "outputs": [
    {
     "name": "stdout",
     "output_type": "stream",
     "text": [
      "\n",
      "Thử nghiệm với chiến lược chọn lọc: Elitism Selection\n",
      "Best Solution: [1, 0, 1, 0, 0, 1, 0, 0, 1, 1, 1, 1, 0, 1, 0, 1, 0, 0, 1, 0, 1, 0, 0, 1, 1, 1, 1, 1, 0, 1, 0, 1, 1, 1, 1, 0, 0, 1, 0, 1, 0]\n",
      "Best Fitness: 46538\n",
      "Fitness History: [39918, 41386, 40448, 39807, 40858, 40858, 41160, 41900, 41900, 39674, 36351, 38279, 38399, 39493, 39486, 41250, 39928, 40970, 40664, 42582, 39875, 40898, 43730, 40911, 43728, 41629, 44712, 40504, 38244, 38858, 37881, 38675, 38326, 39320, 43179, 40045, 42409, 42220, 40400, 40348, 40932, 40932, 44589, 43939, 41621, 41822, 41981, 41471, 41107, 45381, 38939, 41679, 41575, 42867, 42941, 42625, 44842, 46126, 41745, 41852, 43584, 43584, 41320, 43584, 43463, 40680, 43142, 43142, 43378, 42178, 42178, 42178, 42178, 38708, 40264, 41959, 40973, 40028, 42594, 40847, 39610, 39610, 41803, 39779, 39779, 37283, 39709, 40365, 39858, 42109, 42109, 42816, 42816, 42332, 38610, 41507, 43045, 43885, 41722, 41722, 42600, 43442, 44207, 46227, 45939, 43282, 40960, 43594, 45600, 45600, 46538, 41897, 43344, 45518, 43509, 43714, 43714, 41716, 41841, 40639, 38812, 38812, 40275, 42805, 45012, 41947, 41069, 42177, 42747, 41600, 41264, 43215, 42307, 41675, 36667, 40545, 43860, 45304, 41413, 41645, 43603, 43603, 44210, 45432, 42381, 41615, 43099, 39569, 45230, 39870, 40763, 41823, 39817, 40867, 44937, 46174, 43938, 40076, 39536, 41830, 41029, 44327, 42065, 42523, 41490, 39730, 38468, 40493, 40493, 40493, 40673, 40576, 40035, 40328, 40328, 41494, 41494, 40931, 43235, 43235, 44616, 44533, 40907, 41440, 42218, 42526, 42526, 39488, 41930, 41668, 41484, 37994, 38178, 39680, 42309, 41475, 41230, 41124, 43134, 44755]\n",
      "\n",
      "Thử nghiệm với chiến lược chọn lọc: Roulette-wheel Selection\n",
      "Best Solution: [1, 0, 0, 0, 0, 0, 1, 1, 1, 1, 0, 1, 1, 1, 1, 0, 0, 0, 1, 0, 0, 0, 1, 1, 1, 1, 1, 1, 0, 1, 0, 1, 0, 1, 1, 1, 0, 1, 1, 0, 0]\n",
      "Best Fitness: 47856\n",
      "Fitness History: [40291, 41690, 39497, 41515, 39393, 37396, 38979, 39417, 40275, 39264, 45163, 46400, 42722, 38997, 40950, 39812, 40144, 39966, 39696, 38482, 43016, 40101, 43980, 41142, 41899, 41867, 37530, 40648, 38792, 39634, 37815, 38866, 39089, 41234, 42649, 43366, 42706, 44140, 42975, 45413, 45938, 44815, 43957, 41060, 41026, 38115, 39178, 39534, 40510, 39667, 41134, 42345, 43078, 39884, 44376, 43215, 42856, 41443, 40465, 45297, 42820, 41048, 43686, 40825, 40825, 40920, 41298, 40957, 42471, 41021, 42856, 41650, 39511, 40477, 41706, 41417, 40223, 41271, 41271, 39734, 37729, 38500, 42318, 39550, 40789, 40169, 38965, 39734, 40762, 45457, 43603, 41514, 43519, 42542, 41047, 39733, 40737, 46597, 46419, 46556, 38701, 44175, 44608, 44658, 48211, 41947, 41939, 43141, 41083, 40538, 44229, 42307, 42307, 40165, 40408, 39853, 40884, 40134, 38432, 36325, 38739, 39661, 43316, 41990, 40089, 42251, 41455, 45153, 45354, 46367, 40709, 43890, 41160, 40155, 39775, 40869, 41152, 40782, 39850, 41423, 39621, 39621, 41887, 41337, 43166, 42395, 42032, 43557, 41863, 43533, 45675, 44011, 44011, 45726, 38504, 43847, 38890, 40496, 40496, 40624, 38896, 39618, 39481, 40591, 41121, 41121, 42313, 41471, 44778, 39473, 40964, 41822, 43124, 47856, 45763, 45562, 45562, 41230, 38596, 41109, 41770, 40340, 40340, 41453, 42055, 43318, 38645, 40592, 42036, 44983, 42566, 43473, 43004, 41398, 40276, 42464, 41415, 39658, 39081, 40321]\n"
     ]
    }
   ],
   "source": [
    "def select_population_roulette(population):\n",
    "    size_to_select = min(POPULATION_SIZE, len(population))\n",
    "    fitness_values = [fitness(x) for x in population]\n",
    "    total_fitness = sum(fitness_values)\n",
    "    \n",
    "    # Tránh chia cho 0 nếu tổng fitness = 0\n",
    "    if total_fitness == 0:\n",
    "        return random.sample(population, size_to_select)\n",
    "    \n",
    "    # Tính xác suất cho mỗi cá thể\n",
    "    probabilities = [f/total_fitness for f in fitness_values]\n",
    "    selected_population = []\n",
    "    \n",
    "    for _ in range(size_to_select):\n",
    "        pick = random.uniform(0, 1)\n",
    "        cumulative_probability = 0\n",
    "        for i, prob in enumerate(probabilities):\n",
    "            cumulative_probability += prob\n",
    "            if pick <= cumulative_probability:\n",
    "                selected_population.append(population[i])\n",
    "                break\n",
    "    return selected_population\n",
    "\n",
    "# Danh sách các hàm chọn lọc\n",
    "selection_strategies = {\n",
    "    \"Elitism Selection\": select_population,\n",
    "    \"Roulette-wheel Selection\": select_population_roulette\n",
    "}\n",
    "\n",
    "experiment_results = {}\n",
    "\n",
    "def run_experiment_with_selection(selection_func):\n",
    "    global fitness_history, select_population\n",
    "\n",
    "    # Lưu giá trị hàm select_population ban đầu\n",
    "    original_select_population = select_population\n",
    "\n",
    "    # Thay thế hàm select_population cho thử nghiệm\n",
    "    select_population = selection_func\n",
    "\n",
    "    # Thực hiện thuật toán di truyền\n",
    "    best_solution, best_fitness = genetic_algorithm()\n",
    "\n",
    "    # Lưu kết quả\n",
    "    result = {\n",
    "        'best_solution': best_solution,\n",
    "        'best_fitness': best_fitness,\n",
    "        'fitness_history': fitness_history.copy()  # Lưu lại lịch sử fitness\n",
    "    }\n",
    "\n",
    "    # Reset fitness_history sau mỗi lần thử nghiệm\n",
    "    fitness_history.clear()\n",
    "\n",
    "    # Khôi phục hàm select_population ban đầu\n",
    "    select_population = original_select_population\n",
    "\n",
    "    return result\n",
    "\n",
    "# Thực hiện các thử nghiệm cho từng chiến lược chọn lọc\n",
    "for strategy_name, selection_func in selection_strategies.items():\n",
    "    print(f\"\\nThử nghiệm với chiến lược chọn lọc: {strategy_name}\")\n",
    "    \n",
    "    # Chạy thử nghiệm\n",
    "    result = run_experiment_with_selection(selection_func)\n",
    "    \n",
    "    # Lưu kết quả vào experiment_results\n",
    "    experiment_results[strategy_name] = result\n",
    "    \n",
    "    print(f\"Best Solution: {result['best_solution']}\")\n",
    "    print(f\"Best Fitness: {result['best_fitness']}\")\n",
    "    print(f\"Fitness History: {result['fitness_history']}\")\n"
   ]
  },
  {
   "cell_type": "markdown",
   "metadata": {},
   "source": [
    " -Chạy nhiều lần để cho ra các thông số trung bình"
   ]
  },
  {
   "cell_type": "code",
   "execution_count": 221,
   "metadata": {},
   "outputs": [
    {
     "name": "stdout",
     "output_type": "stream",
     "text": [
      "\n",
      "Chiến lược chọn lọc: Elitism Selection\n",
      "- Fitness trung bình: 40717.60 \n",
      "- Tốc độ hội tụ trung bình (thế hệ): 2.50 \n",
      "- Độ ổn định trung bình: 2223.50 \n",
      "\n",
      "Chiến lược chọn lọc: Roulette-wheel Selection\n",
      "- Fitness trung bình: 42598.00 \n",
      "- Tốc độ hội tụ trung bình (thế hệ): 6.10 \n",
      "- Độ ổn định trung bình: 2087.74 \n"
     ]
    }
   ],
   "source": [
    "import numpy as np\n",
    "\n",
    "# Số lần chạy thử nghiệm\n",
    "num_runs = 10\n",
    "\n",
    "# Dictionary chứa các chiến lược chọn lọc\n",
    "selection_strategies = {\n",
    "    \"Elitism Selection\": select_population,\n",
    "    \"Roulette-wheel Selection\": select_population_roulette\n",
    "}\n",
    "\n",
    "# Lưu kết quả tổng hợp\n",
    "aggregated_results = {}\n",
    "\n",
    "# Thực hiện thử nghiệm cho từng chiến lược chọn lọc\n",
    "for strategy_name, selection_func in selection_strategies.items():\n",
    "    fitness_final_list = []\n",
    "    convergence_gen_list = []\n",
    "    stability_std_list = []\n",
    "\n",
    "    print(f\"\\nChiến lược chọn lọc: {strategy_name}\")\n",
    "    \n",
    "    for run in range(num_runs):\n",
    "        # Chạy thử nghiệm với chiến lược chọn lọc hiện tại\n",
    "        result = run_experiment_with_selection(selection_func)\n",
    "        history = result['fitness_history']\n",
    "        final_fitness = history[-1]\n",
    "\n",
    "        # Tính các giá trị thống kê\n",
    "        fitness_final_list.append(final_fitness)\n",
    "        # Tìm thế hệ hội tụ (khi đạt 95% fitness cuối cùng)\n",
    "        convergence_gen = next((i for i, x in enumerate(history) if x >= 0.95 * final_fitness), len(history))\n",
    "        convergence_gen_list.append(convergence_gen)\n",
    "        # Tính độ lệch chuẩn của lịch sử fitness để đánh giá độ ổn định\n",
    "        stability_std = np.std(history)\n",
    "        stability_std_list.append(stability_std)\n",
    "\n",
    "    # Lưu kết quả trung bình và độ lệch chuẩn cho chiến lược hiện tại\n",
    "    aggregated_results[strategy_name] = {\n",
    "        \"average_fitness\": np.mean(fitness_final_list),\n",
    "        \"std_fitness\": np.std(fitness_final_list),\n",
    "        \"average_convergence_gen\": np.mean(convergence_gen_list),\n",
    "        \"std_convergence_gen\": np.std(convergence_gen_list),\n",
    "        \"average_stability_std\": np.mean(stability_std_list),\n",
    "        \"std_stability\": np.std(stability_std_list)\n",
    "    }\n",
    "\n",
    "    # In ra kết quả chi tiết\n",
    "    print(f\"- Fitness trung bình: {aggregated_results[strategy_name]['average_fitness']:.2f} \")\n",
    "    print(f\"- Tốc độ hội tụ trung bình (thế hệ): {aggregated_results[strategy_name]['average_convergence_gen']:.2f} \")\n",
    "    print(f\"- Độ ổn định trung bình: {aggregated_results[strategy_name]['average_stability_std']:.2f} \")\n"
   ]
  },
  {
   "cell_type": "markdown",
   "metadata": {},
   "source": [
    "<h3>One-point crossover vs Uniform Crossover</h3>"
   ]
  },
  {
   "cell_type": "code",
   "execution_count": 226,
   "metadata": {},
   "outputs": [
    {
     "name": "stdout",
     "output_type": "stream",
     "text": [
      "\n",
      "Thử nghiệm với chiến lược lai ghép: One-point Crossover\n",
      "Best Solution: [1, 0, 0, 0, 1, 1, 0, 1, 1, 1, 1, 1, 0, 1, 0, 0, 0, 0, 1, 0, 1, 1, 1, 1, 0, 1, 1, 1, 0, 1, 0, 1, 0, 1, 1, 1, 0, 1, 0, 1, 0]\n",
      "Best Fitness: 48116\n",
      "Fitness History: [39207, 39207, 38240, 38311, 38688, 42986, 43123, 42718, 42340, 40513, 43501, 44452, 42300, 42300, 40761, 41641, 41504, 41681, 42832, 42873, 43140, 42130, 43521, 43930, 43641, 41636, 42362, 40132, 45621, 45621, 42099, 44428, 41509, 42907, 41617, 41394, 41629, 42198, 41320, 41730, 41742, 40250, 39450, 38606, 40664, 44659, 43847, 42462, 41928, 45028, 44981, 44566, 40880, 43394, 43351, 38187, 43226, 39918, 39933, 42668, 40475, 41727, 40472, 39891, 39891, 41464, 44368, 42081, 42081, 43057, 43057, 41349, 41193, 40995, 41894, 42573, 40034, 42186, 41199, 43608, 42584, 43826, 43870, 43870, 40965, 41994, 42590, 40744, 41097, 41167, 42887, 42527, 48014, 47877, 40432, 43010, 43069, 45066, 43346, 40825, 39208, 39456, 44216, 40802, 40588, 39826, 44607, 43829, 41290, 42207, 44277, 44722, 44414, 44982, 38802, 42456, 37338, 39216, 37882, 42207, 40976, 40976, 39603, 38850, 42678, 42678, 39625, 41692, 44660, 44660, 44215, 37381, 44096, 43984, 44160, 47558, 44688, 45219, 45219, 47211, 44165, 42011, 43086, 42773, 38155, 40229, 40276, 40837, 40837, 41424, 41424, 41174, 41591, 39308, 42454, 45449, 42099, 44329, 41771, 41771, 41047, 38719, 41253, 40491, 39386, 39650, 41914, 44390, 43648, 43562, 45269, 40507, 43721, 43144, 42373, 42947, 43798, 42099, 40145, 46362, 41942, 38598, 45934, 42047, 43417, 43417, 42619, 41301, 41845, 45899, 46366, 43871, 45254, 47790, 48116, 48000, 48000, 45746, 46379, 45934]\n",
      "\n",
      "Thử nghiệm với chiến lược lai ghép: Uniform Crossover\n",
      "Best Solution: [1, 0, 0, 0, 1, 0, 0, 1, 1, 1, 1, 0, 1, 1, 0, 0, 0, 0, 1, 0, 1, 0, 0, 1, 1, 1, 1, 1, 0, 1, 1, 1, 1, 1, 1, 1, 0, 1, 0, 1, 0]\n",
      "Best Fitness: 49105\n",
      "Fitness History: [40431, 37568, 35680, 40522, 40717, 40527, 38923, 41946, 40907, 40907, 41701, 40839, 42152, 44788, 42242, 42773, 41806, 41806, 39582, 38077, 41674, 41674, 37451, 41323, 39320, 43898, 42112, 37566, 40517, 40046, 41653, 39543, 39144, 38836, 41124, 41124, 45131, 45010, 47286, 45566, 43464, 42918, 44240, 40189, 41340, 39526, 42223, 45130, 45130, 44091, 44862, 45054, 45901, 45353, 45353, 45353, 45353, 38570, 38935, 43358, 37393, 46251, 44070, 41291, 42528, 39803, 38122, 37543, 40125, 39970, 40964, 41726, 40258, 40459, 40151, 41429, 41941, 42180, 41709, 44107, 40514, 42787, 41091, 41329, 42584, 41387, 39462, 41719, 42071, 40658, 42314, 41001, 42592, 40466, 43083, 44143, 43489, 43580, 43580, 43409, 41761, 41277, 42238, 44350, 47468, 43872, 43872, 44835, 42894, 46166, 47234, 41908, 44389, 46243, 43783, 44802, 44802, 45110, 45110, 44667, 44999, 44147, 44438, 44419, 44507, 44985, 45948, 45336, 42313, 44084, 44829, 43332, 45634, 40378, 48004, 45605, 43329, 40003, 42184, 42003, 46130, 43004, 42742, 43521, 45986, 46170, 43451, 43896, 43326, 42911, 43165, 40901, 38764, 39042, 41661, 41156, 40323, 43408, 42077, 40722, 42783, 38279, 38279, 42225, 41363, 38719, 42717, 41926, 38240, 39455, 40081, 40428, 43887, 44195, 44195, 42809, 42839, 41588, 40142, 45017, 48766, 49105, 43334, 43657, 43496, 42207, 39913, 40199, 38877, 42146, 41922, 42120, 41078, 38580, 39632, 38817, 37045, 39068, 39704, 39512]\n"
     ]
    }
   ],
   "source": [
    "def crossover_uniform(parent1, parent2, probability=0.5):\n",
    "    child1, child2 = parent1[:], parent2[:]\n",
    "    for i in range(len(parent1)):\n",
    "        coin_flip = random.choice([0, 1])\n",
    "        if coin_flip == 0:\n",
    "            child1[i] = parent1[i]\n",
    "            child2[i] = parent2[i]\n",
    "        else:\n",
    "            child1[i] = parent2[i]\n",
    "            child2[i] = parent1[i]\n",
    "    return child1, child2\n",
    "\n",
    "# Danh sách các hàm lai ghép\n",
    "crossover_strategies = {\n",
    "    \"One-point Crossover\": crossover,  # Lai ghép một điểm\n",
    "    \"Uniform Crossover\": crossover_uniform  # Lai ghép đều\n",
    "}\n",
    "\n",
    "experiment_results = {}\n",
    "\n",
    "# Hàm thực hiện thử nghiệm với từng chiến lược lai ghép\n",
    "def run_experiment_with_crossover(crossover_func):\n",
    "    global fitness_history, crossover\n",
    "\n",
    "    # Lưu giá trị hàm crossover ban đầu\n",
    "    original_crossover = crossover\n",
    "\n",
    "    # Thay thế hàm crossover cho thử nghiệm\n",
    "    crossover = crossover_func\n",
    "\n",
    "    # Thực hiện thuật toán di truyền\n",
    "    best_solution, best_fitness = genetic_algorithm()\n",
    "\n",
    "    # Lưu kết quả\n",
    "    result = {\n",
    "        'best_solution': best_solution,\n",
    "        'best_fitness': best_fitness,\n",
    "        'fitness_history': fitness_history.copy()  # Lưu lại lịch sử fitness\n",
    "    }\n",
    "\n",
    "    # Reset fitness_history sau mỗi lần thử nghiệm\n",
    "    fitness_history.clear()\n",
    "\n",
    "    # Khôi phục hàm crossover ban đầu\n",
    "    crossover = original_crossover\n",
    "\n",
    "    return result\n",
    "\n",
    "# Thực hiện các thử nghiệm cho từng chiến lược lai ghép\n",
    "for strategy_name, crossover_func in crossover_strategies.items():\n",
    "    print(f\"\\nThử nghiệm với chiến lược lai ghép: {strategy_name}\")\n",
    "    \n",
    "    # Chạy thử nghiệm\n",
    "    result = run_experiment_with_crossover(crossover_func)\n",
    "    \n",
    "    # Lưu kết quả vào experiment_results\n",
    "    experiment_results[strategy_name] = result\n",
    "    \n",
    "    print(f\"Best Solution: {result['best_solution']}\")\n",
    "    print(f\"Best Fitness: {result['best_fitness']}\")\n",
    "    print(f\"Fitness History: {result['fitness_history']}\")"
   ]
  },
  {
   "cell_type": "markdown",
   "metadata": {},
   "source": [
    " -Chạy nhiều lần để cho ra các thông số trung bình"
   ]
  },
  {
   "cell_type": "code",
   "execution_count": 227,
   "metadata": {},
   "outputs": [
    {
     "name": "stdout",
     "output_type": "stream",
     "text": [
      "\n",
      "Chiến lược lai ghép: One-point Crossover\n",
      "- Fitness trung bình: 42097.00\n",
      "- Tốc độ hội tụ trung bình: 4.80\n",
      "- Độ ổn định trung bình: 2151.89\n",
      "\n",
      "Chiến lược lai ghép: Uniform Crossover\n",
      "- Fitness trung bình: 41647.70\n",
      "- Tốc độ hội tụ trung bình: 1.10\n",
      "- Độ ổn định trung bình: 2189.19\n"
     ]
    }
   ],
   "source": [
    "import numpy as np\n",
    "\n",
    "# Số lần chạy thử nghiệm\n",
    "num_runs = 10\n",
    "\n",
    "# Dictionary chứa các chiến lược lai ghép\n",
    "crossover_strategies = {\n",
    "    \"One-point Crossover\": crossover,\n",
    "    \"Uniform Crossover\": crossover_uniform\n",
    "}\n",
    "\n",
    "# Lưu kết quả tổng hợp\n",
    "aggregated_results = {}\n",
    "\n",
    "# Thực hiện thử nghiệm cho từng chiến lược lai ghép\n",
    "for strategy_name, crossover_func in crossover_strategies.items():\n",
    "    fitness_final_list = []\n",
    "    convergence_gen_list = []\n",
    "    stability_std_list = []\n",
    "    \n",
    "    print(f\"\\nChiến lược lai ghép: {strategy_name}\")\n",
    "        \n",
    "    for run in range(num_runs):\n",
    "        # Chạy thử nghiệm với chiến lược lai ghép hiện tại\n",
    "        result = run_experiment_with_crossover(crossover_func)\n",
    "        history = result['fitness_history']\n",
    "        final_fitness = history[-1]\n",
    "        \n",
    "        # Tính các giá trị thống kê\n",
    "        fitness_final_list.append(final_fitness)\n",
    "        convergence_gen = next((i for i, x in enumerate(history) if x >= 0.95 * final_fitness), len(history))\n",
    "        convergence_gen_list.append(convergence_gen)\n",
    "        stability_std = np.std(history)\n",
    "        stability_std_list.append(stability_std)\n",
    "    \n",
    "    # Lưu kết quả trung bình cho chiến lược hiện tại\n",
    "    aggregated_results[strategy_name] = {\n",
    "        \"average_fitness\": np.mean(fitness_final_list),\n",
    "        \"average_convergence_gen\": np.mean(convergence_gen_list),\n",
    "        \"average_stability_std\": np.mean(stability_std_list),\n",
    "    }\n",
    "    \n",
    "    # In ra kết quả\n",
    "    print(f\"- Fitness trung bình: {aggregated_results[strategy_name]['average_fitness']:.2f}\")\n",
    "    print(f\"- Tốc độ hội tụ trung bình: {aggregated_results[strategy_name]['average_convergence_gen']:.2f}\")\n",
    "    print(f\"- Độ ổn định trung bình: {aggregated_results[strategy_name]['average_stability_std']:.2f}\")"
   ]
  },
  {
   "cell_type": "markdown",
   "metadata": {},
   "source": [
    "<h3>Bit-flip Mutation và Scramble Mutation </h3>"
   ]
  },
  {
   "cell_type": "code",
   "execution_count": 232,
   "metadata": {},
   "outputs": [
    {
     "name": "stdout",
     "output_type": "stream",
     "text": [
      "\n",
      "Thử nghiệm với chiến lược đột biến: Bit-flip Mutation\n",
      "Best Solution: [1, 0, 0, 0, 1, 0, 0, 0, 1, 1, 0, 1, 1, 1, 0, 1, 0, 1, 1, 0, 1, 1, 0, 1, 0, 1, 1, 1, 0, 1, 0, 1, 0, 1, 1, 1, 1, 1, 0, 1, 0]\n",
      "Best Fitness: 49456\n",
      "Fitness History: [39855, 40180, 39979, 42849, 41302, 39731, 40281, 41622, 40730, 40721, 40721, 42292, 39367, 39005, 41334, 43083, 39651, 42892, 44047, 44012, 42772, 43567, 43567, 43992, 41864, 42608, 41346, 43586, 41969, 41556, 42539, 42516, 41855, 43349, 41934, 41582, 41793, 40169, 41007, 41007, 42984, 43337, 42767, 42459, 42868, 40239, 41562, 40391, 41097, 40652, 39254, 40513, 40513, 43264, 39475, 39040, 41052, 40955, 43410, 42206, 41247, 43882, 43914, 46294, 45271, 45271, 40660, 41932, 44450, 45555, 42930, 41507, 39576, 36512, 41546, 42329, 38126, 43867, 43867, 39146, 41785, 46214, 42841, 42888, 42817, 43756, 42141, 42610, 44414, 46009, 43943, 46536, 40446, 42049, 42813, 43075, 42813, 43006, 44965, 41906, 40407, 44342, 43132, 42699, 46717, 46717, 46878, 44415, 44415, 46878, 46878, 42960, 42573, 49456, 42444, 43098, 43374, 41872, 42492, 42383, 41893, 40545, 39673, 43735, 42228, 41949, 42222, 41914, 41438, 42813, 42813, 43769, 45789, 41811, 39786, 39923, 44729, 45692, 45259, 39062, 38637, 42473, 41813, 43056, 43056, 45652, 43978, 41347, 41347, 42002, 45240, 45240, 44167, 45508, 42047, 41261, 43008, 40922, 40803, 42120, 42120, 42459, 42591, 42581, 44737, 44737, 43800, 43061, 45576, 46257, 45576, 44182, 43874, 42942, 41914, 40737, 44850, 39337, 39337, 40110, 39167, 40394, 40558, 38258, 41669, 42998, 40810, 40384, 43979, 43137, 38623, 39715, 40486, 43220, 43220, 41848, 41895, 46630, 46630, 40357]\n",
      "\n",
      "Thử nghiệm với chiến lược đột biến: Scramble Mutation\n",
      "Best Solution: [1, 0, 1, 0, 1, 0, 0, 1, 1, 1, 1, 1, 0, 1, 0, 1, 0, 0, 0, 1, 1, 1, 0, 1, 1, 1, 0, 1, 0, 1, 0, 1, 0, 1, 1, 1, 0, 1, 1, 1, 1]\n",
      "Best Fitness: 47004\n",
      "Fitness History: [44832, 41691, 40685, 41363, 47004, 44237, 43636, 43355, 46336, 44101, 43579, 40139, 40478, 40116, 40062, 38719, 44905, 40742, 39878, 40133, 43782, 43298, 44011, 41877, 41860, 38906, 38949, 41374, 42127, 42688, 42806, 39911, 37825, 39051, 38596, 40709, 39749, 39676, 39368, 40210, 40889, 41191, 41704, 40889, 41767, 41459, 40314, 44930, 43599, 42513, 41834, 43688, 42418, 42344, 42344, 42344, 39216, 38948, 40961, 42341, 44489, 38318, 44285, 42431, 40881, 39538, 42216, 42216, 44723, 43420, 40974, 42374, 41257, 42913, 42661, 45587, 44890, 43675, 45180, 45180, 42517, 43000, 39721, 37836, 41571, 42776, 43146, 45278, 44708, 43885, 41109, 41109, 38846, 42573, 41353, 41980, 42613, 44280, 44262, 39610, 38879, 39366, 39915, 39714, 40712, 38890, 40537, 39965, 42492, 39532, 39532, 39516, 38522, 39100, 40368, 40930, 36278, 38628, 40438, 40231, 41822, 40447, 39753, 38991, 38944, 41347, 41203, 41203, 40350, 40438, 40644, 39940, 40255, 42252, 39638, 40594, 42423, 41972, 41544, 42590, 43608, 43300, 43992, 41937, 41766, 41657, 46745, 43199, 43928, 43928, 42278, 44047, 40211, 42688, 42688, 43213, 41859, 41189, 41733, 42092, 42422, 41457, 41291, 41074, 41093, 40975, 39822, 39169, 39169, 38454, 38968, 39259, 38779, 38447, 39913, 39911, 41192, 40880, 40610, 43637, 41394, 41033, 42639, 39741, 41070, 41383, 43885, 42648, 42648, 42648, 41006, 40521, 43586, 39870, 38932, 39411, 42017, 40725, 40632, 41501]\n"
     ]
    }
   ],
   "source": [
    "def Scramble_mutate(individual):\n",
    "   mutated_individual = individual[:]\n",
    "   for i in range(len(individual)):\n",
    "       if random.random() < MUTATION_RATE:\n",
    "           j = random.randint(0, len(individual) - 1)\n",
    "           mutated_individual[i], mutated_individual[j] = mutated_individual[j], mutated_individual[i]\n",
    "   return mutated_individual\n",
    "# Danh sách các hàm đột biến\n",
    "mutation_strategies = {\n",
    "    \"Bit-flip Mutation\": mutate,  # Đột biến Bit-flip\n",
    "    \"Scramble Mutation\": Scramble_mutate  # Đột biến Scramble\n",
    "}\n",
    "\n",
    "experiment_results = {}\n",
    "\n",
    "# Hàm thực hiện thử nghiệm với từng chiến lược đột biến\n",
    "def run_experiment_with_mutation(mutation_func):\n",
    "    global fitness_history, mutate\n",
    "\n",
    "    # Lưu giá trị hàm mutate ban đầu\n",
    "    original_mutate = mutate\n",
    "\n",
    "    # Thay thế hàm mutate cho thử nghiệm\n",
    "    mutate = mutation_func\n",
    "\n",
    "    # Thực hiện thuật toán di truyền\n",
    "    best_solution, best_fitness = genetic_algorithm()\n",
    "\n",
    "    # Lưu kết quả\n",
    "    result = {\n",
    "        'best_solution': best_solution,\n",
    "        'best_fitness': best_fitness,\n",
    "        'fitness_history': fitness_history.copy()  # Lưu lại lịch sử fitness\n",
    "    }\n",
    "\n",
    "    # Reset fitness_history sau mỗi lần thử nghiệm\n",
    "    fitness_history.clear()\n",
    "\n",
    "    # Khôi phục hàm mutate ban đầu\n",
    "    mutate = original_mutate\n",
    "\n",
    "    return result\n",
    "\n",
    "# Thực hiện các thử nghiệm cho từng chiến lược đột biến\n",
    "for strategy_name, mutation_func in mutation_strategies.items():\n",
    "    print(f\"\\nThử nghiệm với chiến lược đột biến: {strategy_name}\")\n",
    "    \n",
    "    # Chạy thử nghiệm\n",
    "    result = run_experiment_with_mutation(mutation_func)\n",
    "    \n",
    "    # Lưu kết quả vào experiment_results\n",
    "    experiment_results[strategy_name] = result\n",
    "    \n",
    "    print(f\"Best Solution: {result['best_solution']}\")\n",
    "    print(f\"Best Fitness: {result['best_fitness']}\")\n",
    "    print(f\"Fitness History: {result['fitness_history']}\")"
   ]
  },
  {
   "cell_type": "markdown",
   "metadata": {},
   "source": [
    "- Chạy nhiều lần để cho ra các thông số trung bình"
   ]
  },
  {
   "cell_type": "code",
   "execution_count": 233,
   "metadata": {},
   "outputs": [
    {
     "name": "stdout",
     "output_type": "stream",
     "text": [
      "\n",
      "Chiến lược đột biến: Bit-flip Mutation\n",
      "- Fitness trung bình: 41659.50\n",
      "- Tốc độ hội tụ trung bình: 1.40\n",
      "- Độ ổn định trung bình: 2210.50\n",
      "\n",
      "Chiến lược đột biến: Scramble Mutation\n",
      "- Fitness trung bình: 42216.00\n",
      "- Tốc độ hội tụ trung bình: 2.50\n",
      "- Độ ổn định trung bình: 2156.77\n"
     ]
    }
   ],
   "source": [
    "import numpy as np\n",
    "\n",
    "# Số lần chạy thử nghiệm\n",
    "num_runs = 10\n",
    "\n",
    "# Dictionary chứa các chiến lược đột biến\n",
    "mutation_strategies = {\n",
    "    \"Bit-flip Mutation\": mutate,\n",
    "    \"Scramble Mutation\": Scramble_mutate\n",
    "}\n",
    "\n",
    "# Lưu kết quả tổng hợp\n",
    "aggregated_results = {}\n",
    "\n",
    "# Thực hiện thử nghiệm cho từng chiến lược đột biến\n",
    "for strategy_name, mutation_func in mutation_strategies.items():\n",
    "    fitness_final_list = []\n",
    "    convergence_gen_list = []\n",
    "    stability_std_list = []\n",
    "\n",
    "    print(f\"\\nChiến lược đột biến: {strategy_name}\")\n",
    "    \n",
    "    for run in range(num_runs):\n",
    "        # Chạy thử nghiệm với chiến lược đột biến hiện tại\n",
    "        result = run_experiment_with_mutation(mutation_func)\n",
    "        history = result['fitness_history']\n",
    "        final_fitness = history[-1]\n",
    "\n",
    "        # Tính các giá trị thống kê\n",
    "        fitness_final_list.append(final_fitness)\n",
    "        convergence_gen = next((i for i, x in enumerate(history) if x >= 0.95 * final_fitness), len(history))\n",
    "        convergence_gen_list.append(convergence_gen)\n",
    "        stability_std = np.std(history)\n",
    "        stability_std_list.append(stability_std)\n",
    "\n",
    "    # Lưu kết quả trung bình cho chiến lược hiện tại\n",
    "    aggregated_results[strategy_name] = {\n",
    "        \"average_fitness\": np.mean(fitness_final_list),\n",
    "        \"average_convergence_gen\": np.mean(convergence_gen_list),\n",
    "        \"average_stability_std\": np.mean(stability_std_list),\n",
    "    }\n",
    "\n",
    "    # In ra kết quả\n",
    "    print(f\"- Fitness trung bình: {aggregated_results[strategy_name]['average_fitness']:.2f}\")\n",
    "    print(f\"- Tốc độ hội tụ trung bình: {aggregated_results[strategy_name]['average_convergence_gen']:.2f}\")\n",
    "    print(f\"- Độ ổn định trung bình: {aggregated_results[strategy_name]['average_stability_std']:.2f}\")"
   ]
  },
  {
   "cell_type": "markdown",
   "metadata": {},
   "source": [
    "---\n",
    "\n",
    "<h2> Tổng hợp </h3>  \n",
    "\n",
    "---"
   ]
  },
  {
   "cell_type": "markdown",
   "metadata": {},
   "source": [
    "Các Tình huống :\n",
    "- Chạy nhiều lần mỗi case từ 10 lần trở lên .\n",
    "- Chạy hết 6 testcase trong Testcase.txt\n",
    "- Tính trung bình cộng toàn bộ thông số bao gồm: fitness cuối cùng, tốc độ hội tụ, độ ổn định sau số lần chạy tuỳ ý."
   ]
  },
  {
   "cell_type": "markdown",
   "metadata": {},
   "source": [
    "    - TestCase 1:"
   ]
  },
  {
   "cell_type": "markdown",
   "metadata": {},
   "source": [
    "| Kỹ thuật ảnh hưởng     | Fitness cuối cùng | Tốc độ hội tụ (thế hệ) | Độ ổn định (std) |\n",
    "|------------------------|-------------------|-----------------------|------------------|\n",
    "| **Elitism Selection**  | 49.6            | 1                    | 3.18             |\n",
    "| **Roulette-wheel Selection**      | 49.9             | 1                     | 3.20              |\n",
    "|------------------------|-------------------|-----------------------|------------------|\n",
    "| **One-point Crossover** | 48.70             | 3                     | 3.06              |\n",
    "| **Uniform Crossover**| 51.2            | 1                     | 3.17              |\n",
    "|------------------------|-------------------|-----------------------|------------------|\n",
    "| **Bit-flip Mutation**   | 49.10               | 1                     | 3.31             |\n",
    "| **Scramble Mutation**       | 51.90             | 2                     | 3.17             |"
   ]
  },
  {
   "cell_type": "markdown",
   "metadata": {},
   "source": [
    "    - TestCase 2:"
   ]
  },
  {
   "cell_type": "markdown",
   "metadata": {},
   "source": [
    "| Kỹ thuật ảnh hưởng     | Fitness cuối cùng | Tốc độ hội tụ (thế hệ) | Độ ổn định (std) |\n",
    "|------------------------|-------------------|-----------------------|------------------|\n",
    "| **Elitism Selection**  | 58.82            | 1                    | 4.13           |\n",
    "| **Roulette-wheel Selection**      | 60.06             | 1                     | 4.55              |\n",
    "|------------------------|-------------------|-----------------------|------------------|\n",
    "| **One-point Crossover** | 58.70             | 1                     | 4.10              |\n",
    "| **Uniform Crossover**| 59.10           | 3                     | 4.14              |\n",
    "|------------------------|-------------------|-----------------------|------------------|\n",
    "| **Bit-flip Mutation**   | 58.00               | 1                     | 4.08            |\n",
    "| **Scramble Mutation**       | 60.90             | 1                     | 3.99             |"
   ]
  },
  {
   "cell_type": "markdown",
   "metadata": {},
   "source": [
    "    - TestCase 3:"
   ]
  },
  {
   "cell_type": "markdown",
   "metadata": {},
   "source": [
    "| Kỹ thuật ảnh hưởng     | Fitness cuối cùng | Tốc độ hội tụ (thế hệ) | Độ ổn định (std) |\n",
    "|------------------------|-------------------|-----------------------|------------------|\n",
    "| **Elitism Selection**  | 2393.4            | 1                    | 82.34             |\n",
    "| **Roulette-wheel Selection**      | 2862.3              | 1                     | 81.43              |\n",
    "|------------------------|-------------------|-----------------------|------------------|\n",
    "| **One-point Crossover** | 2847.6            | 1                     | 84.23              |\n",
    "| **Uniform Crossover**| 2898.3           | 4                     | 81.27              |\n",
    "|------------------------|-------------------|-----------------------|------------------|\n",
    "| **Bit-flip Mutation**   | 2825.0 | 2                     | 86.03            |\n",
    "| **Scramble Mutation**       | 2883.8            | 2                     | 81.17           |"
   ]
  },
  {
   "cell_type": "markdown",
   "metadata": {},
   "source": [
    "    - TestCase 4:\n",
    "    "
   ]
  },
  {
   "cell_type": "markdown",
   "metadata": {},
   "source": [
    "| Kỹ thuật ảnh hưởng     | Fitness cuối cùng | Tốc độ hội tụ (thế hệ) | Độ ổn định (std) |\n",
    "|------------------------|-------------------|-----------------------|------------------|\n",
    "| **Elitism Selection**  | 6904.3            | 2                    | 179.69           |\n",
    "| **Roulette-wheel Selection**      | 6868.90             | 2                     | 173.04             |\n",
    "|------------------------|-------------------|-----------------------|------------------|\n",
    "| **One-point Crossover** | 6859.2             | 3                     | 174.03             |\n",
    "| **Uniform Crossover**| 6819.1           | 1                     | 177.67              |\n",
    "|------------------------|-------------------|-----------------------|------------------|\n",
    "| **Bit-flip Mutation**   | 6821.2              | 3                     | 178.73             |\n",
    "| **Scramble Mutation**       | 7028.1             | 2                     | 180.31           |"
   ]
  },
  {
   "cell_type": "markdown",
   "metadata": {},
   "source": [
    "    - TestCase 5:"
   ]
  },
  {
   "cell_type": "markdown",
   "metadata": {},
   "source": [
    "| Kỹ thuật ảnh hưởng     | Fitness cuối cùng | Tốc độ hội tụ (thế hệ) | Độ ổn định (std) |\n",
    "|------------------------|-------------------|-----------------------|------------------|\n",
    "| **Elitism Selection**  | 64421.1           | 1                    | 2832.44             |\n",
    "| **Roulette-wheel Selection**      | 64778.7             | 2                     | 2704.99              |\n",
    "|------------------------|-------------------|-----------------------|------------------|\n",
    "| **One-point Crossover** | 63908.6             | 3                     | 2754.93              |\n",
    "| **Uniform Crossover**| 66024.2            | 2                     | 2946.92             |\n",
    "|------------------------|-------------------|-----------------------|------------------|\n",
    "| **Bit-flip Mutation**   | 62581.8              | 1                     | 2708.96            |\n",
    "| **Scramble Mutation**       | 64804.5            | 1                     | 2770.95             |"
   ]
  },
  {
   "cell_type": "markdown",
   "metadata": {},
   "source": [
    "    - TestCase 6:"
   ]
  },
  {
   "cell_type": "markdown",
   "metadata": {},
   "source": [
    "| Kỹ thuật ảnh hưởng     | Fitness cuối cùng | Tốc độ hội tụ (thế hệ) | Độ ổn định (std) |\n",
    "|------------------------|-------------------|-----------------------|------------------|\n",
    "| **Elitism Selection**  | 45437.6            |     9              |2623.5             |\n",
    "| **Roulette-wheel Selection**      | 48798             | 8                   | 2437.74             |\n",
    "|------------------------|-------------------|-----------------------|------------------|\n",
    "| **One-point Crossover** | 42287.5             | 15                     | 2231.89              |\n",
    "| **Uniform Crossover**| 41767.7          | 10                     | 2449.19             |\n",
    "|------------------------|-------------------|-----------------------|------------------|\n",
    "| **Bit-flip Mutation**   | 42336.2            | 10                    | 2750.5             |\n",
    "| **Scramble Mutation**       | 46321.9             | 12                    |  2836.77            |"
   ]
  },
  {
   "cell_type": "markdown",
   "metadata": {},
   "source": [
    "<h3> 2. Đánh giá </h3>"
   ]
  },
  {
   "cell_type": "markdown",
   "metadata": {},
   "source": [
    "- Elitism Selection:\n",
    "\n",
    "Fitness cuối cùng đạt mức 55.9, cho thấy rằng kỹ thuật này giúp duy trì các cá thể tốt nhất qua các thế hệ.\n",
    "Tốc độ hội tụ khá nhanh (2 thế hệ), điều này chứng tỏ thuật toán có khả năng tìm kiếm giải pháp tối ưu nhanh chóng.\n",
    "Độ ổn định là 0.53, cho thấy độ biến thiên trong các giải pháp không quá cao, giúp ổn định trong quá trình tiến hóa.\n",
    "\n",
    "- One-point Crossover:\n",
    "\n",
    "Fitness cuối cùng tương đương với Elitism Selection (55.9), cho thấy khả năng sinh ra các cá thể tốt không hề thua kém.\n",
    "Tốc độ hội tụ là 2 thế hệ, giống như Elitism Selection, cho thấy khả năng tìm kiếm khá nhanh chóng.\n",
    "Độ ổn định là 0.5, có vẻ như mức độ ổn định tương đương với Elitism Selection, với một mức độ biến thiên không quá lớn.\n",
    "\n",
    "- Bit-flip Mutation:\n",
    "\n",
    "Fitness cuối cùng là 56, cao nhất trong bảng, cho thấy kỹ thuật này giúp cải thiện chất lượng các giải pháp.\n",
    "Tốc độ hội tụ là 3 thế hệ, chậm hơn một chút so với các kỹ thuật chọn lọc và lai ghép, điều này có thể chỉ ra rằng việc thay đổi ngẫu nhiên bit đôi khi không dẫn đến sự tiến hóa nhanh chóng.\n",
    "Độ ổn định là 0.65, cao nhất, cho thấy kỹ thuật này tạo ra độ biến thiên cao hơn trong quá trình tiến hóa, có thể là do tác động mạnh mẽ của sự thay đổi bit."
   ]
  },
  {
   "cell_type": "markdown",
   "metadata": {},
   "source": []
  }
 ],
 "metadata": {
  "kernelspec": {
   "display_name": "Python 3",
   "language": "python",
   "name": "python3"
  },
  "language_info": {
   "codemirror_mode": {
    "name": "ipython",
    "version": 3
   },
   "file_extension": ".py",
   "mimetype": "text/x-python",
   "name": "python",
   "nbconvert_exporter": "python",
   "pygments_lexer": "ipython3",
   "version": "3.12.6"
  }
 },
 "nbformat": 4,
 "nbformat_minor": 2
}
