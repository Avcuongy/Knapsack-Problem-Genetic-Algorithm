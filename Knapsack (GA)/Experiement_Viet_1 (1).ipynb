{
  "cells": [
    {
      "cell_type": "markdown",
      "metadata": {
        "id": "CDz8PfUjADjH"
      },
      "source": [
        "**Thí nghiệm các tham số đột biến:**\n",
        "\n",
        "- Crossover rate = 0.8\n",
        "\n",
        "- Mutation rate = 0.04"
      ]
    },
    {
      "cell_type": "code",
      "execution_count": null,
      "metadata": {
        "id": "uVX2ZEOtADjD"
      },
      "outputs": [],
      "source": [
        "import random\n",
        "import matplotlib.pyplot as plt\n",
        "import pandas as pd  # Import pandas"
      ]
    },
    {
      "cell_type": "code",
      "execution_count": null,
      "metadata": {
        "id": "zdNBxudLADjE"
      },
      "outputs": [],
      "source": [
        "POPULATION_SIZE = 200  # Kích thước quần thể\n",
        "GENERATIONS = 200  # Số thế hệ"
      ]
    },
    {
      "cell_type": "code",
      "execution_count": null,
      "metadata": {
        "id": "vO16Rjm7ADjF"
      },
      "outputs": [],
      "source": [
        "items = []  # Vật phẩm chứa weights và values\n",
        "max_capacity = 0  # Maximum capacity\n",
        "fitness_history = []  # Danh sách lưu trữ giá trị fitness của các cá thể tốt nhất qua từng thế hệ."
      ]
    },
    {
      "cell_type": "code",
      "execution_count": null,
      "metadata": {
        "id": "yJutscalADjF"
      },
      "outputs": [],
      "source": [
        "def get_user_input():\n",
        "    global items, max_capacity, CROSSOVER_RATE, MUTATION_RATE\n",
        "\n",
        "    # Nhập danh sách vật phẩm và sức chứa\n",
        "    weights_str = input(\"Nhập danh sách trọng lượng (phân tách bằng dấu phẩy): \")\n",
        "    values_str = input(\"Nhập danh sách giá trị (phân tách bằng dấu phẩy): \")\n",
        "    max_capacity = int(input(\"Nhập sức chứa tối đa: \"))\n",
        "\n",
        "    # Nhập tỷ lệ lai ghép và đột biến\n",
        "    CROSSOVER_RATE = float(input(\"Nhập tỷ lệ lai ghép (giá trị từ 0 đến 1): \"))\n",
        "    MUTATION_RATE = float(input(\"Nhập tỷ lệ đột biến (giá trị từ 0 đến 1): \"))\n",
        "\n",
        "    # Chuyển đổi đầu vào thành danh sách trọng lượng và giá trị\n",
        "    weights = list(map(int, weights_str.split(\",\")))\n",
        "    values = list(map(int, values_str.split(\",\")))\n",
        "    items = list(zip(weights, values))\n",
        "\n",
        "    return items, max_capacity, CROSSOVER_RATE, MUTATION_RATE\n",
        "\n",
        "\n",
        "def get_info():\n",
        "    print(\"\\nThông tin bài toán:\\n\")\n",
        "    stt = 1\n",
        "    for weight, value in items:\n",
        "        print(f\"Vật phẩm {stt}: Weight = {weight}, Value = {value}\")\n",
        "        stt += 1\n",
        "    print(f\"\\nMaximum capacity = {max_capacity}\")\n",
        "    print(f\"Crossover rate = {CROSSOVER_RATE}\")\n",
        "    print(f\"Mutation rate = {MUTATION_RATE}\")\n",
        "\n",
        "\n",
        "def fitness(individual):\n",
        "    total_weight = sum(individual[i] * items[i][0] for i in range(len(items)))\n",
        "    total_value = sum(individual[i] * items[i][1] for i in range(len(items)))\n",
        "    return total_value if total_weight <= max_capacity else 0\n",
        "\n",
        "\n",
        "def initialize_population(num_items):\n",
        "    return [[random.randint(0, 1) for _ in range(num_items)] for _ in range(POPULATION_SIZE)]\n",
        "\n",
        "\n",
        "def select_population(population):\n",
        "    sorted_population = sorted(population, key=lambda x: fitness(x), reverse=True)\n",
        "    return sorted_population[:POPULATION_SIZE]\n",
        "\n",
        "\n",
        "def crossover(parent1, parent2):\n",
        "    child1, child2 = parent1[:], parent2[:]\n",
        "    for i in range(len(parent1)):\n",
        "        coin_flip = random.choice([0, 1])\n",
        "        if coin_flip == 0:\n",
        "            child1[i] = parent1[i]\n",
        "            child2[i] = parent2[i]\n",
        "        else:\n",
        "            child1[i] = parent2[i]\n",
        "            child2[i] = parent1[i]\n",
        "    return child1, child2\n",
        "\n",
        "\n",
        "def mutate(individual):\n",
        "    for i in range(len(individual)):\n",
        "        if random.random() < MUTATION_RATE:\n",
        "            individual[i] = 1 - individual[i]\n",
        "    return individual\n",
        "\n",
        "\n",
        "def genetic_algorithm():\n",
        "    global fitness_history\n",
        "\n",
        "    # Khởi tạo quần thể\n",
        "    population = initialize_population(len(items))\n",
        "    best_individual = max(population, key=lambda ind: fitness(ind))\n",
        "\n",
        "    # DataFrame để lưu lịch sử fitness và chromosome\n",
        "    fitness_df = pd.DataFrame(columns=[\"Generation\", \"Chromosome\", \"Best_Fitness\", \"Mean_Fitness\"])\n",
        "\n",
        "    best_fitness_history = []  # Lưu trữ fitness tốt nhất\n",
        "    mean_fitness_history = []  # Lưu trữ fitness trung bình\n",
        "\n",
        "    for gen in range(GENERATIONS):\n",
        "        # Chọn lọc quần thể\n",
        "        selected_population = select_population(population)\n",
        "\n",
        "        # Tạo danh sách offspring thông qua crossover\n",
        "        num_to_crossover = int(POPULATION_SIZE * CROSSOVER_RATE)\n",
        "        selected_for_crossover = selected_population[:num_to_crossover]\n",
        "\n",
        "        offspring = []\n",
        "        for i in range(0, len(selected_for_crossover), 2):\n",
        "            if i + 1 < len(selected_for_crossover):  # Đảm bảo cặp cha mẹ hợp lệ\n",
        "                child1, child2 = crossover(selected_for_crossover[i], selected_for_crossover[i + 1])\n",
        "                offspring.extend([child1, child2])\n",
        "\n",
        "        # Đột biến offspring\n",
        "        offspring = [mutate(ind) for ind in offspring]\n",
        "\n",
        "        # Thêm offspring vào quần thể và sắp xếp dựa trên fitness\n",
        "        population.extend(offspring)\n",
        "        population = sorted(population, key=lambda ind: fitness(ind), reverse=True)\n",
        "        population = population[:POPULATION_SIZE]\n",
        "\n",
        "        # Lấy cá thể tốt nhất và tính fitness\n",
        "        current_best = max(population, key=lambda ind: fitness(ind))\n",
        "        best_fitness = fitness(current_best)\n",
        "        best_fitness_history.append(best_fitness)\n",
        "\n",
        "        # Tính fitness trung bình\n",
        "        mean_fitness = sum(fitness(ind) for ind in population) / len(population)\n",
        "        mean_fitness_history.append(mean_fitness)\n",
        "\n",
        "        # Cập nhật DataFrame lịch sử\n",
        "        new_row = pd.DataFrame([{\n",
        "            \"Generation\": gen + 1,\n",
        "            \"Chromosome\": current_best,  # Lưu Chromosome\n",
        "            \"Best_Fitness\": best_fitness,\n",
        "            \"Mean_Fitness\": mean_fitness\n",
        "        }])\n",
        "        fitness_df = pd.concat([fitness_df, new_row], ignore_index=True)\n",
        "\n",
        "        # Cập nhật cá thể tốt nhất\n",
        "        if best_fitness > fitness(best_individual):\n",
        "            best_individual = current_best\n",
        "\n",
        "    return best_individual, fitness(best_individual), best_fitness_history, mean_fitness_history, fitness_df\n",
        "\n"
      ]
    },
    {
      "cell_type": "markdown",
      "source": [
        "**Test Case 5:**\n",
        "\n",
        "- weights = [879, 3946, 3736, 2324, 2104, 1971, 3252, 3712, 2493, 2780, 1350, 1463, 3868, 2466, 191, 1960, 2347, 343, 2348, 2902, 2840, 3047, 77, 2390, 1454, 153, 3741, 1872, 370, 3658, 2525, 1488, 261, 1755, 899, 3782, 1147, 455, 3858, 2640, 2493]\n",
        "\n",
        "- values = [3083, 836, 3615, 3391, 1409, 3999, 1829, 1216, 3220, 278, 774, 3602, 158, 761, 3771, 288, 797, 1953, 3947, 2882, 3993, 3179, 1353, 654, 3481, 3914, 543, 709, 2035, 3998, 2837, 2678, 456, 691, 2941, 800, 1804, 2817, 3910, 2594, 953]\n",
        "\n",
        "- items = 41\n",
        "\n",
        "- Best fitness = 79009\n",
        "\n",
        "- Max Capacity = 50000"
      ],
      "metadata": {
        "id": "mZV8bMZQXd6M"
      }
    },
    {
      "cell_type": "code",
      "execution_count": null,
      "metadata": {
        "colab": {
          "base_uri": "https://localhost:8080/"
        },
        "id": "yLJl-hF3ADjG",
        "outputId": "3623aefd-af73-4d3d-c408-71edcb495f25"
      },
      "outputs": [
        {
          "output_type": "stream",
          "name": "stdout",
          "text": [
            "Nhập danh sách trọng lượng (phân tách bằng dấu phẩy): 879, 3946, 3736, 2324, 2104, 1971, 3252, 3712, 2493, 2780, 1350, 1463, 3868, 2466, 191, 1960, 2347, 343, 2348, 2902, 2840, 3047, 77, 2390, 1454, 153, 3741, 1872, 370, 3658, 2525, 1488, 261, 1755, 899, 3782, 1147, 455, 3858, 2640, 2493\n",
            "Nhập danh sách giá trị (phân tách bằng dấu phẩy): 3083, 836, 3615, 3391, 1409, 3999, 1829, 1216, 3220, 278, 774, 3602, 158, 761, 3771, 288, 797, 1953, 3947, 2882, 3993, 3179, 1353, 654, 3481, 3914, 543, 709, 2035, 3998, 2837, 2678, 456, 691, 2941, 800, 1804, 2817, 3910, 2594, 953\n",
            "Nhập sức chứa tối đa: 50000\n",
            "Nhập tỷ lệ lai ghép (giá trị từ 0 đến 1): 0.8\n",
            "Nhập tỷ lệ đột biến (giá trị từ 0 đến 1): 0.04\n",
            "\n",
            "Thông tin bài toán:\n",
            "\n",
            "Vật phẩm 1: Weight = 879, Value = 3083\n",
            "Vật phẩm 2: Weight = 3946, Value = 836\n",
            "Vật phẩm 3: Weight = 3736, Value = 3615\n",
            "Vật phẩm 4: Weight = 2324, Value = 3391\n",
            "Vật phẩm 5: Weight = 2104, Value = 1409\n",
            "Vật phẩm 6: Weight = 1971, Value = 3999\n",
            "Vật phẩm 7: Weight = 3252, Value = 1829\n",
            "Vật phẩm 8: Weight = 3712, Value = 1216\n",
            "Vật phẩm 9: Weight = 2493, Value = 3220\n",
            "Vật phẩm 10: Weight = 2780, Value = 278\n",
            "Vật phẩm 11: Weight = 1350, Value = 774\n",
            "Vật phẩm 12: Weight = 1463, Value = 3602\n",
            "Vật phẩm 13: Weight = 3868, Value = 158\n",
            "Vật phẩm 14: Weight = 2466, Value = 761\n",
            "Vật phẩm 15: Weight = 191, Value = 3771\n",
            "Vật phẩm 16: Weight = 1960, Value = 288\n",
            "Vật phẩm 17: Weight = 2347, Value = 797\n",
            "Vật phẩm 18: Weight = 343, Value = 1953\n",
            "Vật phẩm 19: Weight = 2348, Value = 3947\n",
            "Vật phẩm 20: Weight = 2902, Value = 2882\n",
            "Vật phẩm 21: Weight = 2840, Value = 3993\n",
            "Vật phẩm 22: Weight = 3047, Value = 3179\n",
            "Vật phẩm 23: Weight = 77, Value = 1353\n",
            "Vật phẩm 24: Weight = 2390, Value = 654\n",
            "Vật phẩm 25: Weight = 1454, Value = 3481\n",
            "Vật phẩm 26: Weight = 153, Value = 3914\n",
            "Vật phẩm 27: Weight = 3741, Value = 543\n",
            "Vật phẩm 28: Weight = 1872, Value = 709\n",
            "Vật phẩm 29: Weight = 370, Value = 2035\n",
            "Vật phẩm 30: Weight = 3658, Value = 3998\n",
            "Vật phẩm 31: Weight = 2525, Value = 2837\n",
            "Vật phẩm 32: Weight = 1488, Value = 2678\n",
            "Vật phẩm 33: Weight = 261, Value = 456\n",
            "Vật phẩm 34: Weight = 1755, Value = 691\n",
            "Vật phẩm 35: Weight = 899, Value = 2941\n",
            "Vật phẩm 36: Weight = 3782, Value = 800\n",
            "Vật phẩm 37: Weight = 1147, Value = 1804\n",
            "Vật phẩm 38: Weight = 455, Value = 2817\n",
            "Vật phẩm 39: Weight = 3858, Value = 3910\n",
            "Vật phẩm 40: Weight = 2640, Value = 2594\n",
            "Vật phẩm 41: Weight = 2493, Value = 953\n",
            "\n",
            "Maximum capacity = 50000\n",
            "Crossover rate = 0.8\n",
            "Mutation rate = 0.04\n"
          ]
        }
      ],
      "source": [
        "000# Main Program\n",
        "items, max_capacity, CROSSOVER_RATE, MUTATION_RATE = get_user_input()\n",
        "get_info()"
      ]
    },
    {
      "cell_type": "markdown",
      "source": [
        "**Chạy thuật toán 100 lần để thống kê kết quả:**"
      ],
      "metadata": {
        "id": "mRQenbM9FJ8G"
      }
    },
    {
      "cell_type": "code",
      "execution_count": null,
      "metadata": {
        "colab": {
          "base_uri": "https://localhost:8080/",
          "height": 1000
        },
        "id": "W2DVC-VLADjG",
        "outputId": "0fb39bb4-491a-4606-e66e-334906467285"
      },
      "outputs": [
        {
          "output_type": "stream",
          "name": "stdout",
          "text": [
            "Run 1/100\n"
          ]
        },
        {
          "output_type": "stream",
          "name": "stderr",
          "text": [
            "<ipython-input-4-df9a58c0fb4c>:118: FutureWarning: The behavior of DataFrame concatenation with empty or all-NA entries is deprecated. In a future version, this will no longer exclude empty or all-NA columns when determining the result dtypes. To retain the old behavior, exclude the relevant entries before the concat operation.\n",
            "  fitness_df = pd.concat([fitness_df, new_row], ignore_index=True)\n"
          ]
        },
        {
          "output_type": "stream",
          "name": "stdout",
          "text": [
            "Run 1: Best Fitness = 79009 [Correct]\n",
            "Run 2/100\n"
          ]
        },
        {
          "output_type": "stream",
          "name": "stderr",
          "text": [
            "<ipython-input-4-df9a58c0fb4c>:118: FutureWarning: The behavior of DataFrame concatenation with empty or all-NA entries is deprecated. In a future version, this will no longer exclude empty or all-NA columns when determining the result dtypes. To retain the old behavior, exclude the relevant entries before the concat operation.\n",
            "  fitness_df = pd.concat([fitness_df, new_row], ignore_index=True)\n"
          ]
        },
        {
          "output_type": "stream",
          "name": "stdout",
          "text": [
            "Run 2: Best Fitness = 79009 [Correct]\n",
            "Run 3/100\n"
          ]
        },
        {
          "output_type": "stream",
          "name": "stderr",
          "text": [
            "<ipython-input-4-df9a58c0fb4c>:118: FutureWarning: The behavior of DataFrame concatenation with empty or all-NA entries is deprecated. In a future version, this will no longer exclude empty or all-NA columns when determining the result dtypes. To retain the old behavior, exclude the relevant entries before the concat operation.\n",
            "  fitness_df = pd.concat([fitness_df, new_row], ignore_index=True)\n"
          ]
        },
        {
          "output_type": "stream",
          "name": "stdout",
          "text": [
            "Run 3: Best Fitness = 79009 [Correct]\n",
            "Run 4/100\n"
          ]
        },
        {
          "output_type": "stream",
          "name": "stderr",
          "text": [
            "<ipython-input-4-df9a58c0fb4c>:118: FutureWarning: The behavior of DataFrame concatenation with empty or all-NA entries is deprecated. In a future version, this will no longer exclude empty or all-NA columns when determining the result dtypes. To retain the old behavior, exclude the relevant entries before the concat operation.\n",
            "  fitness_df = pd.concat([fitness_df, new_row], ignore_index=True)\n"
          ]
        },
        {
          "output_type": "stream",
          "name": "stdout",
          "text": [
            "Run 4: Best Fitness = 79009 [Correct]\n",
            "Run 5/100\n"
          ]
        },
        {
          "output_type": "stream",
          "name": "stderr",
          "text": [
            "<ipython-input-4-df9a58c0fb4c>:118: FutureWarning: The behavior of DataFrame concatenation with empty or all-NA entries is deprecated. In a future version, this will no longer exclude empty or all-NA columns when determining the result dtypes. To retain the old behavior, exclude the relevant entries before the concat operation.\n",
            "  fitness_df = pd.concat([fitness_df, new_row], ignore_index=True)\n"
          ]
        },
        {
          "output_type": "stream",
          "name": "stdout",
          "text": [
            "Run 5: Best Fitness = 78691 [Incorrect]\n",
            "Run 6/100\n"
          ]
        },
        {
          "output_type": "stream",
          "name": "stderr",
          "text": [
            "<ipython-input-4-df9a58c0fb4c>:118: FutureWarning: The behavior of DataFrame concatenation with empty or all-NA entries is deprecated. In a future version, this will no longer exclude empty or all-NA columns when determining the result dtypes. To retain the old behavior, exclude the relevant entries before the concat operation.\n",
            "  fitness_df = pd.concat([fitness_df, new_row], ignore_index=True)\n"
          ]
        },
        {
          "output_type": "stream",
          "name": "stdout",
          "text": [
            "Run 6: Best Fitness = 78765 [Incorrect]\n",
            "Run 7/100\n"
          ]
        },
        {
          "output_type": "stream",
          "name": "stderr",
          "text": [
            "<ipython-input-4-df9a58c0fb4c>:118: FutureWarning: The behavior of DataFrame concatenation with empty or all-NA entries is deprecated. In a future version, this will no longer exclude empty or all-NA columns when determining the result dtypes. To retain the old behavior, exclude the relevant entries before the concat operation.\n",
            "  fitness_df = pd.concat([fitness_df, new_row], ignore_index=True)\n"
          ]
        },
        {
          "output_type": "stream",
          "name": "stdout",
          "text": [
            "Run 7: Best Fitness = 79009 [Correct]\n",
            "Run 8/100\n"
          ]
        },
        {
          "output_type": "stream",
          "name": "stderr",
          "text": [
            "<ipython-input-4-df9a58c0fb4c>:118: FutureWarning: The behavior of DataFrame concatenation with empty or all-NA entries is deprecated. In a future version, this will no longer exclude empty or all-NA columns when determining the result dtypes. To retain the old behavior, exclude the relevant entries before the concat operation.\n",
            "  fitness_df = pd.concat([fitness_df, new_row], ignore_index=True)\n"
          ]
        },
        {
          "output_type": "stream",
          "name": "stdout",
          "text": [
            "Run 8: Best Fitness = 79009 [Correct]\n",
            "Run 9/100\n"
          ]
        },
        {
          "output_type": "stream",
          "name": "stderr",
          "text": [
            "<ipython-input-4-df9a58c0fb4c>:118: FutureWarning: The behavior of DataFrame concatenation with empty or all-NA entries is deprecated. In a future version, this will no longer exclude empty or all-NA columns when determining the result dtypes. To retain the old behavior, exclude the relevant entries before the concat operation.\n",
            "  fitness_df = pd.concat([fitness_df, new_row], ignore_index=True)\n"
          ]
        },
        {
          "output_type": "stream",
          "name": "stdout",
          "text": [
            "Run 9: Best Fitness = 79009 [Correct]\n",
            "Run 10/100\n"
          ]
        },
        {
          "output_type": "stream",
          "name": "stderr",
          "text": [
            "<ipython-input-4-df9a58c0fb4c>:118: FutureWarning: The behavior of DataFrame concatenation with empty or all-NA entries is deprecated. In a future version, this will no longer exclude empty or all-NA columns when determining the result dtypes. To retain the old behavior, exclude the relevant entries before the concat operation.\n",
            "  fitness_df = pd.concat([fitness_df, new_row], ignore_index=True)\n"
          ]
        },
        {
          "output_type": "stream",
          "name": "stdout",
          "text": [
            "Run 10: Best Fitness = 79009 [Correct]\n",
            "Run 11/100\n"
          ]
        },
        {
          "output_type": "stream",
          "name": "stderr",
          "text": [
            "<ipython-input-4-df9a58c0fb4c>:118: FutureWarning: The behavior of DataFrame concatenation with empty or all-NA entries is deprecated. In a future version, this will no longer exclude empty or all-NA columns when determining the result dtypes. To retain the old behavior, exclude the relevant entries before the concat operation.\n",
            "  fitness_df = pd.concat([fitness_df, new_row], ignore_index=True)\n"
          ]
        },
        {
          "output_type": "stream",
          "name": "stdout",
          "text": [
            "Run 11: Best Fitness = 79009 [Correct]\n",
            "Run 12/100\n"
          ]
        },
        {
          "output_type": "stream",
          "name": "stderr",
          "text": [
            "<ipython-input-4-df9a58c0fb4c>:118: FutureWarning: The behavior of DataFrame concatenation with empty or all-NA entries is deprecated. In a future version, this will no longer exclude empty or all-NA columns when determining the result dtypes. To retain the old behavior, exclude the relevant entries before the concat operation.\n",
            "  fitness_df = pd.concat([fitness_df, new_row], ignore_index=True)\n"
          ]
        },
        {
          "output_type": "stream",
          "name": "stdout",
          "text": [
            "Run 12: Best Fitness = 79009 [Correct]\n",
            "Run 13/100\n"
          ]
        },
        {
          "output_type": "stream",
          "name": "stderr",
          "text": [
            "<ipython-input-4-df9a58c0fb4c>:118: FutureWarning: The behavior of DataFrame concatenation with empty or all-NA entries is deprecated. In a future version, this will no longer exclude empty or all-NA columns when determining the result dtypes. To retain the old behavior, exclude the relevant entries before the concat operation.\n",
            "  fitness_df = pd.concat([fitness_df, new_row], ignore_index=True)\n"
          ]
        },
        {
          "output_type": "stream",
          "name": "stdout",
          "text": [
            "Run 13: Best Fitness = 79009 [Correct]\n",
            "Run 14/100\n"
          ]
        },
        {
          "output_type": "stream",
          "name": "stderr",
          "text": [
            "<ipython-input-4-df9a58c0fb4c>:118: FutureWarning: The behavior of DataFrame concatenation with empty or all-NA entries is deprecated. In a future version, this will no longer exclude empty or all-NA columns when determining the result dtypes. To retain the old behavior, exclude the relevant entries before the concat operation.\n",
            "  fitness_df = pd.concat([fitness_df, new_row], ignore_index=True)\n"
          ]
        },
        {
          "output_type": "stream",
          "name": "stdout",
          "text": [
            "Run 14: Best Fitness = 79009 [Correct]\n",
            "Run 15/100\n"
          ]
        },
        {
          "output_type": "stream",
          "name": "stderr",
          "text": [
            "<ipython-input-4-df9a58c0fb4c>:118: FutureWarning: The behavior of DataFrame concatenation with empty or all-NA entries is deprecated. In a future version, this will no longer exclude empty or all-NA columns when determining the result dtypes. To retain the old behavior, exclude the relevant entries before the concat operation.\n",
            "  fitness_df = pd.concat([fitness_df, new_row], ignore_index=True)\n"
          ]
        },
        {
          "output_type": "stream",
          "name": "stdout",
          "text": [
            "Run 15: Best Fitness = 79009 [Correct]\n",
            "Run 16/100\n"
          ]
        },
        {
          "output_type": "stream",
          "name": "stderr",
          "text": [
            "<ipython-input-4-df9a58c0fb4c>:118: FutureWarning: The behavior of DataFrame concatenation with empty or all-NA entries is deprecated. In a future version, this will no longer exclude empty or all-NA columns when determining the result dtypes. To retain the old behavior, exclude the relevant entries before the concat operation.\n",
            "  fitness_df = pd.concat([fitness_df, new_row], ignore_index=True)\n"
          ]
        },
        {
          "output_type": "stream",
          "name": "stdout",
          "text": [
            "Run 16: Best Fitness = 79009 [Correct]\n",
            "Run 17/100\n"
          ]
        },
        {
          "output_type": "stream",
          "name": "stderr",
          "text": [
            "<ipython-input-4-df9a58c0fb4c>:118: FutureWarning: The behavior of DataFrame concatenation with empty or all-NA entries is deprecated. In a future version, this will no longer exclude empty or all-NA columns when determining the result dtypes. To retain the old behavior, exclude the relevant entries before the concat operation.\n",
            "  fitness_df = pd.concat([fitness_df, new_row], ignore_index=True)\n"
          ]
        },
        {
          "output_type": "stream",
          "name": "stdout",
          "text": [
            "Run 17: Best Fitness = 79009 [Correct]\n",
            "Run 18/100\n"
          ]
        },
        {
          "output_type": "stream",
          "name": "stderr",
          "text": [
            "<ipython-input-4-df9a58c0fb4c>:118: FutureWarning: The behavior of DataFrame concatenation with empty or all-NA entries is deprecated. In a future version, this will no longer exclude empty or all-NA columns when determining the result dtypes. To retain the old behavior, exclude the relevant entries before the concat operation.\n",
            "  fitness_df = pd.concat([fitness_df, new_row], ignore_index=True)\n"
          ]
        },
        {
          "output_type": "stream",
          "name": "stdout",
          "text": [
            "Run 18: Best Fitness = 79009 [Correct]\n",
            "Run 19/100\n"
          ]
        },
        {
          "output_type": "stream",
          "name": "stderr",
          "text": [
            "<ipython-input-4-df9a58c0fb4c>:118: FutureWarning: The behavior of DataFrame concatenation with empty or all-NA entries is deprecated. In a future version, this will no longer exclude empty or all-NA columns when determining the result dtypes. To retain the old behavior, exclude the relevant entries before the concat operation.\n",
            "  fitness_df = pd.concat([fitness_df, new_row], ignore_index=True)\n"
          ]
        },
        {
          "output_type": "stream",
          "name": "stdout",
          "text": [
            "Run 19: Best Fitness = 79009 [Correct]\n",
            "Run 20/100\n"
          ]
        },
        {
          "output_type": "stream",
          "name": "stderr",
          "text": [
            "<ipython-input-4-df9a58c0fb4c>:118: FutureWarning: The behavior of DataFrame concatenation with empty or all-NA entries is deprecated. In a future version, this will no longer exclude empty or all-NA columns when determining the result dtypes. To retain the old behavior, exclude the relevant entries before the concat operation.\n",
            "  fitness_df = pd.concat([fitness_df, new_row], ignore_index=True)\n"
          ]
        },
        {
          "output_type": "stream",
          "name": "stdout",
          "text": [
            "Run 20: Best Fitness = 79009 [Correct]\n",
            "Run 21/100\n"
          ]
        },
        {
          "output_type": "stream",
          "name": "stderr",
          "text": [
            "<ipython-input-4-df9a58c0fb4c>:118: FutureWarning: The behavior of DataFrame concatenation with empty or all-NA entries is deprecated. In a future version, this will no longer exclude empty or all-NA columns when determining the result dtypes. To retain the old behavior, exclude the relevant entries before the concat operation.\n",
            "  fitness_df = pd.concat([fitness_df, new_row], ignore_index=True)\n"
          ]
        },
        {
          "output_type": "stream",
          "name": "stdout",
          "text": [
            "Run 21: Best Fitness = 79009 [Correct]\n",
            "Run 22/100\n"
          ]
        },
        {
          "output_type": "stream",
          "name": "stderr",
          "text": [
            "<ipython-input-4-df9a58c0fb4c>:118: FutureWarning: The behavior of DataFrame concatenation with empty or all-NA entries is deprecated. In a future version, this will no longer exclude empty or all-NA columns when determining the result dtypes. To retain the old behavior, exclude the relevant entries before the concat operation.\n",
            "  fitness_df = pd.concat([fitness_df, new_row], ignore_index=True)\n"
          ]
        },
        {
          "output_type": "stream",
          "name": "stdout",
          "text": [
            "Run 22: Best Fitness = 79009 [Correct]\n",
            "Run 23/100\n"
          ]
        },
        {
          "output_type": "stream",
          "name": "stderr",
          "text": [
            "<ipython-input-4-df9a58c0fb4c>:118: FutureWarning: The behavior of DataFrame concatenation with empty or all-NA entries is deprecated. In a future version, this will no longer exclude empty or all-NA columns when determining the result dtypes. To retain the old behavior, exclude the relevant entries before the concat operation.\n",
            "  fitness_df = pd.concat([fitness_df, new_row], ignore_index=True)\n"
          ]
        },
        {
          "output_type": "stream",
          "name": "stdout",
          "text": [
            "Run 23: Best Fitness = 79009 [Correct]\n",
            "Run 24/100\n"
          ]
        },
        {
          "output_type": "stream",
          "name": "stderr",
          "text": [
            "<ipython-input-4-df9a58c0fb4c>:118: FutureWarning: The behavior of DataFrame concatenation with empty or all-NA entries is deprecated. In a future version, this will no longer exclude empty or all-NA columns when determining the result dtypes. To retain the old behavior, exclude the relevant entries before the concat operation.\n",
            "  fitness_df = pd.concat([fitness_df, new_row], ignore_index=True)\n"
          ]
        },
        {
          "output_type": "stream",
          "name": "stdout",
          "text": [
            "Run 24: Best Fitness = 79009 [Correct]\n",
            "Run 25/100\n"
          ]
        },
        {
          "output_type": "stream",
          "name": "stderr",
          "text": [
            "<ipython-input-4-df9a58c0fb4c>:118: FutureWarning: The behavior of DataFrame concatenation with empty or all-NA entries is deprecated. In a future version, this will no longer exclude empty or all-NA columns when determining the result dtypes. To retain the old behavior, exclude the relevant entries before the concat operation.\n",
            "  fitness_df = pd.concat([fitness_df, new_row], ignore_index=True)\n"
          ]
        },
        {
          "output_type": "stream",
          "name": "stdout",
          "text": [
            "Run 25: Best Fitness = 79009 [Correct]\n",
            "Run 26/100\n"
          ]
        },
        {
          "output_type": "stream",
          "name": "stderr",
          "text": [
            "<ipython-input-4-df9a58c0fb4c>:118: FutureWarning: The behavior of DataFrame concatenation with empty or all-NA entries is deprecated. In a future version, this will no longer exclude empty or all-NA columns when determining the result dtypes. To retain the old behavior, exclude the relevant entries before the concat operation.\n",
            "  fitness_df = pd.concat([fitness_df, new_row], ignore_index=True)\n"
          ]
        },
        {
          "output_type": "stream",
          "name": "stdout",
          "text": [
            "Run 26: Best Fitness = 78765 [Incorrect]\n",
            "Run 27/100\n"
          ]
        },
        {
          "output_type": "stream",
          "name": "stderr",
          "text": [
            "<ipython-input-4-df9a58c0fb4c>:118: FutureWarning: The behavior of DataFrame concatenation with empty or all-NA entries is deprecated. In a future version, this will no longer exclude empty or all-NA columns when determining the result dtypes. To retain the old behavior, exclude the relevant entries before the concat operation.\n",
            "  fitness_df = pd.concat([fitness_df, new_row], ignore_index=True)\n"
          ]
        },
        {
          "output_type": "stream",
          "name": "stdout",
          "text": [
            "Run 27: Best Fitness = 79009 [Correct]\n",
            "Run 28/100\n"
          ]
        },
        {
          "output_type": "stream",
          "name": "stderr",
          "text": [
            "<ipython-input-4-df9a58c0fb4c>:118: FutureWarning: The behavior of DataFrame concatenation with empty or all-NA entries is deprecated. In a future version, this will no longer exclude empty or all-NA columns when determining the result dtypes. To retain the old behavior, exclude the relevant entries before the concat operation.\n",
            "  fitness_df = pd.concat([fitness_df, new_row], ignore_index=True)\n"
          ]
        },
        {
          "output_type": "stream",
          "name": "stdout",
          "text": [
            "Run 28: Best Fitness = 79009 [Correct]\n",
            "Run 29/100\n"
          ]
        },
        {
          "output_type": "stream",
          "name": "stderr",
          "text": [
            "<ipython-input-4-df9a58c0fb4c>:118: FutureWarning: The behavior of DataFrame concatenation with empty or all-NA entries is deprecated. In a future version, this will no longer exclude empty or all-NA columns when determining the result dtypes. To retain the old behavior, exclude the relevant entries before the concat operation.\n",
            "  fitness_df = pd.concat([fitness_df, new_row], ignore_index=True)\n"
          ]
        },
        {
          "output_type": "stream",
          "name": "stdout",
          "text": [
            "Run 29: Best Fitness = 78765 [Incorrect]\n",
            "Run 30/100\n"
          ]
        },
        {
          "output_type": "stream",
          "name": "stderr",
          "text": [
            "<ipython-input-4-df9a58c0fb4c>:118: FutureWarning: The behavior of DataFrame concatenation with empty or all-NA entries is deprecated. In a future version, this will no longer exclude empty or all-NA columns when determining the result dtypes. To retain the old behavior, exclude the relevant entries before the concat operation.\n",
            "  fitness_df = pd.concat([fitness_df, new_row], ignore_index=True)\n"
          ]
        },
        {
          "output_type": "stream",
          "name": "stdout",
          "text": [
            "Run 30: Best Fitness = 79009 [Correct]\n",
            "Run 31/100\n"
          ]
        },
        {
          "output_type": "stream",
          "name": "stderr",
          "text": [
            "<ipython-input-4-df9a58c0fb4c>:118: FutureWarning: The behavior of DataFrame concatenation with empty or all-NA entries is deprecated. In a future version, this will no longer exclude empty or all-NA columns when determining the result dtypes. To retain the old behavior, exclude the relevant entries before the concat operation.\n",
            "  fitness_df = pd.concat([fitness_df, new_row], ignore_index=True)\n"
          ]
        },
        {
          "output_type": "stream",
          "name": "stdout",
          "text": [
            "Run 31: Best Fitness = 79009 [Correct]\n",
            "Run 32/100\n"
          ]
        },
        {
          "output_type": "stream",
          "name": "stderr",
          "text": [
            "<ipython-input-4-df9a58c0fb4c>:118: FutureWarning: The behavior of DataFrame concatenation with empty or all-NA entries is deprecated. In a future version, this will no longer exclude empty or all-NA columns when determining the result dtypes. To retain the old behavior, exclude the relevant entries before the concat operation.\n",
            "  fitness_df = pd.concat([fitness_df, new_row], ignore_index=True)\n"
          ]
        },
        {
          "output_type": "stream",
          "name": "stdout",
          "text": [
            "Run 32: Best Fitness = 79009 [Correct]\n",
            "Run 33/100\n"
          ]
        },
        {
          "output_type": "stream",
          "name": "stderr",
          "text": [
            "<ipython-input-4-df9a58c0fb4c>:118: FutureWarning: The behavior of DataFrame concatenation with empty or all-NA entries is deprecated. In a future version, this will no longer exclude empty or all-NA columns when determining the result dtypes. To retain the old behavior, exclude the relevant entries before the concat operation.\n",
            "  fitness_df = pd.concat([fitness_df, new_row], ignore_index=True)\n"
          ]
        },
        {
          "output_type": "stream",
          "name": "stdout",
          "text": [
            "Run 33: Best Fitness = 79009 [Correct]\n",
            "Run 34/100\n"
          ]
        },
        {
          "output_type": "stream",
          "name": "stderr",
          "text": [
            "<ipython-input-4-df9a58c0fb4c>:118: FutureWarning: The behavior of DataFrame concatenation with empty or all-NA entries is deprecated. In a future version, this will no longer exclude empty or all-NA columns when determining the result dtypes. To retain the old behavior, exclude the relevant entries before the concat operation.\n",
            "  fitness_df = pd.concat([fitness_df, new_row], ignore_index=True)\n"
          ]
        },
        {
          "output_type": "stream",
          "name": "stdout",
          "text": [
            "Run 34: Best Fitness = 79009 [Correct]\n",
            "Run 35/100\n"
          ]
        },
        {
          "output_type": "stream",
          "name": "stderr",
          "text": [
            "<ipython-input-4-df9a58c0fb4c>:118: FutureWarning: The behavior of DataFrame concatenation with empty or all-NA entries is deprecated. In a future version, this will no longer exclude empty or all-NA columns when determining the result dtypes. To retain the old behavior, exclude the relevant entries before the concat operation.\n",
            "  fitness_df = pd.concat([fitness_df, new_row], ignore_index=True)\n"
          ]
        },
        {
          "output_type": "stream",
          "name": "stdout",
          "text": [
            "Run 35: Best Fitness = 79009 [Correct]\n",
            "Run 36/100\n"
          ]
        },
        {
          "output_type": "stream",
          "name": "stderr",
          "text": [
            "<ipython-input-4-df9a58c0fb4c>:118: FutureWarning: The behavior of DataFrame concatenation with empty or all-NA entries is deprecated. In a future version, this will no longer exclude empty or all-NA columns when determining the result dtypes. To retain the old behavior, exclude the relevant entries before the concat operation.\n",
            "  fitness_df = pd.concat([fitness_df, new_row], ignore_index=True)\n"
          ]
        },
        {
          "output_type": "stream",
          "name": "stdout",
          "text": [
            "Run 36: Best Fitness = 79009 [Correct]\n",
            "Run 37/100\n"
          ]
        },
        {
          "output_type": "stream",
          "name": "stderr",
          "text": [
            "<ipython-input-4-df9a58c0fb4c>:118: FutureWarning: The behavior of DataFrame concatenation with empty or all-NA entries is deprecated. In a future version, this will no longer exclude empty or all-NA columns when determining the result dtypes. To retain the old behavior, exclude the relevant entries before the concat operation.\n",
            "  fitness_df = pd.concat([fitness_df, new_row], ignore_index=True)\n"
          ]
        },
        {
          "output_type": "stream",
          "name": "stdout",
          "text": [
            "Run 37: Best Fitness = 79009 [Correct]\n",
            "Run 38/100\n"
          ]
        },
        {
          "output_type": "stream",
          "name": "stderr",
          "text": [
            "<ipython-input-4-df9a58c0fb4c>:118: FutureWarning: The behavior of DataFrame concatenation with empty or all-NA entries is deprecated. In a future version, this will no longer exclude empty or all-NA columns when determining the result dtypes. To retain the old behavior, exclude the relevant entries before the concat operation.\n",
            "  fitness_df = pd.concat([fitness_df, new_row], ignore_index=True)\n"
          ]
        },
        {
          "output_type": "stream",
          "name": "stdout",
          "text": [
            "Run 38: Best Fitness = 79009 [Correct]\n",
            "Run 39/100\n"
          ]
        },
        {
          "output_type": "stream",
          "name": "stderr",
          "text": [
            "<ipython-input-4-df9a58c0fb4c>:118: FutureWarning: The behavior of DataFrame concatenation with empty or all-NA entries is deprecated. In a future version, this will no longer exclude empty or all-NA columns when determining the result dtypes. To retain the old behavior, exclude the relevant entries before the concat operation.\n",
            "  fitness_df = pd.concat([fitness_df, new_row], ignore_index=True)\n"
          ]
        },
        {
          "output_type": "stream",
          "name": "stdout",
          "text": [
            "Run 39: Best Fitness = 78589 [Incorrect]\n",
            "Run 40/100\n"
          ]
        },
        {
          "output_type": "stream",
          "name": "stderr",
          "text": [
            "<ipython-input-4-df9a58c0fb4c>:118: FutureWarning: The behavior of DataFrame concatenation with empty or all-NA entries is deprecated. In a future version, this will no longer exclude empty or all-NA columns when determining the result dtypes. To retain the old behavior, exclude the relevant entries before the concat operation.\n",
            "  fitness_df = pd.concat([fitness_df, new_row], ignore_index=True)\n"
          ]
        },
        {
          "output_type": "stream",
          "name": "stdout",
          "text": [
            "Run 40: Best Fitness = 79009 [Correct]\n",
            "Run 41/100\n"
          ]
        },
        {
          "output_type": "stream",
          "name": "stderr",
          "text": [
            "<ipython-input-4-df9a58c0fb4c>:118: FutureWarning: The behavior of DataFrame concatenation with empty or all-NA entries is deprecated. In a future version, this will no longer exclude empty or all-NA columns when determining the result dtypes. To retain the old behavior, exclude the relevant entries before the concat operation.\n",
            "  fitness_df = pd.concat([fitness_df, new_row], ignore_index=True)\n"
          ]
        },
        {
          "output_type": "stream",
          "name": "stdout",
          "text": [
            "Run 41: Best Fitness = 79009 [Correct]\n",
            "Run 42/100\n"
          ]
        },
        {
          "output_type": "stream",
          "name": "stderr",
          "text": [
            "<ipython-input-4-df9a58c0fb4c>:118: FutureWarning: The behavior of DataFrame concatenation with empty or all-NA entries is deprecated. In a future version, this will no longer exclude empty or all-NA columns when determining the result dtypes. To retain the old behavior, exclude the relevant entries before the concat operation.\n",
            "  fitness_df = pd.concat([fitness_df, new_row], ignore_index=True)\n"
          ]
        },
        {
          "output_type": "stream",
          "name": "stdout",
          "text": [
            "Run 42: Best Fitness = 79009 [Correct]\n",
            "Run 43/100\n"
          ]
        },
        {
          "output_type": "stream",
          "name": "stderr",
          "text": [
            "<ipython-input-4-df9a58c0fb4c>:118: FutureWarning: The behavior of DataFrame concatenation with empty or all-NA entries is deprecated. In a future version, this will no longer exclude empty or all-NA columns when determining the result dtypes. To retain the old behavior, exclude the relevant entries before the concat operation.\n",
            "  fitness_df = pd.concat([fitness_df, new_row], ignore_index=True)\n"
          ]
        },
        {
          "output_type": "stream",
          "name": "stdout",
          "text": [
            "Run 43: Best Fitness = 79009 [Correct]\n",
            "Run 44/100\n"
          ]
        },
        {
          "output_type": "stream",
          "name": "stderr",
          "text": [
            "<ipython-input-4-df9a58c0fb4c>:118: FutureWarning: The behavior of DataFrame concatenation with empty or all-NA entries is deprecated. In a future version, this will no longer exclude empty or all-NA columns when determining the result dtypes. To retain the old behavior, exclude the relevant entries before the concat operation.\n",
            "  fitness_df = pd.concat([fitness_df, new_row], ignore_index=True)\n"
          ]
        },
        {
          "output_type": "stream",
          "name": "stdout",
          "text": [
            "Run 44: Best Fitness = 79009 [Correct]\n",
            "Run 45/100\n"
          ]
        },
        {
          "output_type": "stream",
          "name": "stderr",
          "text": [
            "<ipython-input-4-df9a58c0fb4c>:118: FutureWarning: The behavior of DataFrame concatenation with empty or all-NA entries is deprecated. In a future version, this will no longer exclude empty or all-NA columns when determining the result dtypes. To retain the old behavior, exclude the relevant entries before the concat operation.\n",
            "  fitness_df = pd.concat([fitness_df, new_row], ignore_index=True)\n"
          ]
        },
        {
          "output_type": "stream",
          "name": "stdout",
          "text": [
            "Run 45: Best Fitness = 79009 [Correct]\n",
            "Run 46/100\n"
          ]
        },
        {
          "output_type": "stream",
          "name": "stderr",
          "text": [
            "<ipython-input-4-df9a58c0fb4c>:118: FutureWarning: The behavior of DataFrame concatenation with empty or all-NA entries is deprecated. In a future version, this will no longer exclude empty or all-NA columns when determining the result dtypes. To retain the old behavior, exclude the relevant entries before the concat operation.\n",
            "  fitness_df = pd.concat([fitness_df, new_row], ignore_index=True)\n"
          ]
        },
        {
          "output_type": "stream",
          "name": "stdout",
          "text": [
            "Run 46: Best Fitness = 79009 [Correct]\n",
            "Run 47/100\n"
          ]
        },
        {
          "output_type": "stream",
          "name": "stderr",
          "text": [
            "<ipython-input-4-df9a58c0fb4c>:118: FutureWarning: The behavior of DataFrame concatenation with empty or all-NA entries is deprecated. In a future version, this will no longer exclude empty or all-NA columns when determining the result dtypes. To retain the old behavior, exclude the relevant entries before the concat operation.\n",
            "  fitness_df = pd.concat([fitness_df, new_row], ignore_index=True)\n"
          ]
        },
        {
          "output_type": "stream",
          "name": "stdout",
          "text": [
            "Run 47: Best Fitness = 79009 [Correct]\n",
            "Run 48/100\n"
          ]
        },
        {
          "output_type": "stream",
          "name": "stderr",
          "text": [
            "<ipython-input-4-df9a58c0fb4c>:118: FutureWarning: The behavior of DataFrame concatenation with empty or all-NA entries is deprecated. In a future version, this will no longer exclude empty or all-NA columns when determining the result dtypes. To retain the old behavior, exclude the relevant entries before the concat operation.\n",
            "  fitness_df = pd.concat([fitness_df, new_row], ignore_index=True)\n"
          ]
        },
        {
          "output_type": "stream",
          "name": "stdout",
          "text": [
            "Run 48: Best Fitness = 79009 [Correct]\n",
            "Run 49/100\n"
          ]
        },
        {
          "output_type": "stream",
          "name": "stderr",
          "text": [
            "<ipython-input-4-df9a58c0fb4c>:118: FutureWarning: The behavior of DataFrame concatenation with empty or all-NA entries is deprecated. In a future version, this will no longer exclude empty or all-NA columns when determining the result dtypes. To retain the old behavior, exclude the relevant entries before the concat operation.\n",
            "  fitness_df = pd.concat([fitness_df, new_row], ignore_index=True)\n"
          ]
        },
        {
          "output_type": "stream",
          "name": "stdout",
          "text": [
            "Run 49: Best Fitness = 79009 [Correct]\n",
            "Run 50/100\n"
          ]
        },
        {
          "output_type": "stream",
          "name": "stderr",
          "text": [
            "<ipython-input-4-df9a58c0fb4c>:118: FutureWarning: The behavior of DataFrame concatenation with empty or all-NA entries is deprecated. In a future version, this will no longer exclude empty or all-NA columns when determining the result dtypes. To retain the old behavior, exclude the relevant entries before the concat operation.\n",
            "  fitness_df = pd.concat([fitness_df, new_row], ignore_index=True)\n"
          ]
        },
        {
          "output_type": "stream",
          "name": "stdout",
          "text": [
            "Run 50: Best Fitness = 79009 [Correct]\n",
            "Run 51/100\n"
          ]
        },
        {
          "output_type": "stream",
          "name": "stderr",
          "text": [
            "<ipython-input-4-df9a58c0fb4c>:118: FutureWarning: The behavior of DataFrame concatenation with empty or all-NA entries is deprecated. In a future version, this will no longer exclude empty or all-NA columns when determining the result dtypes. To retain the old behavior, exclude the relevant entries before the concat operation.\n",
            "  fitness_df = pd.concat([fitness_df, new_row], ignore_index=True)\n"
          ]
        },
        {
          "output_type": "stream",
          "name": "stdout",
          "text": [
            "Run 51: Best Fitness = 79009 [Correct]\n",
            "Run 52/100\n"
          ]
        },
        {
          "output_type": "stream",
          "name": "stderr",
          "text": [
            "<ipython-input-4-df9a58c0fb4c>:118: FutureWarning: The behavior of DataFrame concatenation with empty or all-NA entries is deprecated. In a future version, this will no longer exclude empty or all-NA columns when determining the result dtypes. To retain the old behavior, exclude the relevant entries before the concat operation.\n",
            "  fitness_df = pd.concat([fitness_df, new_row], ignore_index=True)\n"
          ]
        },
        {
          "output_type": "stream",
          "name": "stdout",
          "text": [
            "Run 52: Best Fitness = 79009 [Correct]\n",
            "Run 53/100\n"
          ]
        },
        {
          "output_type": "stream",
          "name": "stderr",
          "text": [
            "<ipython-input-4-df9a58c0fb4c>:118: FutureWarning: The behavior of DataFrame concatenation with empty or all-NA entries is deprecated. In a future version, this will no longer exclude empty or all-NA columns when determining the result dtypes. To retain the old behavior, exclude the relevant entries before the concat operation.\n",
            "  fitness_df = pd.concat([fitness_df, new_row], ignore_index=True)\n"
          ]
        },
        {
          "output_type": "stream",
          "name": "stdout",
          "text": [
            "Run 53: Best Fitness = 79009 [Correct]\n",
            "Run 54/100\n"
          ]
        },
        {
          "output_type": "stream",
          "name": "stderr",
          "text": [
            "<ipython-input-4-df9a58c0fb4c>:118: FutureWarning: The behavior of DataFrame concatenation with empty or all-NA entries is deprecated. In a future version, this will no longer exclude empty or all-NA columns when determining the result dtypes. To retain the old behavior, exclude the relevant entries before the concat operation.\n",
            "  fitness_df = pd.concat([fitness_df, new_row], ignore_index=True)\n"
          ]
        },
        {
          "output_type": "stream",
          "name": "stdout",
          "text": [
            "Run 54: Best Fitness = 79009 [Correct]\n",
            "Run 55/100\n"
          ]
        },
        {
          "output_type": "stream",
          "name": "stderr",
          "text": [
            "<ipython-input-4-df9a58c0fb4c>:118: FutureWarning: The behavior of DataFrame concatenation with empty or all-NA entries is deprecated. In a future version, this will no longer exclude empty or all-NA columns when determining the result dtypes. To retain the old behavior, exclude the relevant entries before the concat operation.\n",
            "  fitness_df = pd.concat([fitness_df, new_row], ignore_index=True)\n"
          ]
        },
        {
          "output_type": "stream",
          "name": "stdout",
          "text": [
            "Run 55: Best Fitness = 79009 [Correct]\n",
            "Run 56/100\n"
          ]
        },
        {
          "output_type": "stream",
          "name": "stderr",
          "text": [
            "<ipython-input-4-df9a58c0fb4c>:118: FutureWarning: The behavior of DataFrame concatenation with empty or all-NA entries is deprecated. In a future version, this will no longer exclude empty or all-NA columns when determining the result dtypes. To retain the old behavior, exclude the relevant entries before the concat operation.\n",
            "  fitness_df = pd.concat([fitness_df, new_row], ignore_index=True)\n"
          ]
        },
        {
          "output_type": "stream",
          "name": "stdout",
          "text": [
            "Run 56: Best Fitness = 79009 [Correct]\n",
            "Run 57/100\n"
          ]
        },
        {
          "output_type": "stream",
          "name": "stderr",
          "text": [
            "<ipython-input-4-df9a58c0fb4c>:118: FutureWarning: The behavior of DataFrame concatenation with empty or all-NA entries is deprecated. In a future version, this will no longer exclude empty or all-NA columns when determining the result dtypes. To retain the old behavior, exclude the relevant entries before the concat operation.\n",
            "  fitness_df = pd.concat([fitness_df, new_row], ignore_index=True)\n"
          ]
        },
        {
          "output_type": "stream",
          "name": "stdout",
          "text": [
            "Run 57: Best Fitness = 79009 [Correct]\n",
            "Run 58/100\n"
          ]
        },
        {
          "output_type": "stream",
          "name": "stderr",
          "text": [
            "<ipython-input-4-df9a58c0fb4c>:118: FutureWarning: The behavior of DataFrame concatenation with empty or all-NA entries is deprecated. In a future version, this will no longer exclude empty or all-NA columns when determining the result dtypes. To retain the old behavior, exclude the relevant entries before the concat operation.\n",
            "  fitness_df = pd.concat([fitness_df, new_row], ignore_index=True)\n"
          ]
        },
        {
          "output_type": "stream",
          "name": "stdout",
          "text": [
            "Run 58: Best Fitness = 79009 [Correct]\n",
            "Run 59/100\n"
          ]
        },
        {
          "output_type": "stream",
          "name": "stderr",
          "text": [
            "<ipython-input-4-df9a58c0fb4c>:118: FutureWarning: The behavior of DataFrame concatenation with empty or all-NA entries is deprecated. In a future version, this will no longer exclude empty or all-NA columns when determining the result dtypes. To retain the old behavior, exclude the relevant entries before the concat operation.\n",
            "  fitness_df = pd.concat([fitness_df, new_row], ignore_index=True)\n"
          ]
        },
        {
          "output_type": "stream",
          "name": "stdout",
          "text": [
            "Run 59: Best Fitness = 79009 [Correct]\n",
            "Run 60/100\n"
          ]
        },
        {
          "output_type": "stream",
          "name": "stderr",
          "text": [
            "<ipython-input-4-df9a58c0fb4c>:118: FutureWarning: The behavior of DataFrame concatenation with empty or all-NA entries is deprecated. In a future version, this will no longer exclude empty or all-NA columns when determining the result dtypes. To retain the old behavior, exclude the relevant entries before the concat operation.\n",
            "  fitness_df = pd.concat([fitness_df, new_row], ignore_index=True)\n"
          ]
        },
        {
          "output_type": "stream",
          "name": "stdout",
          "text": [
            "Run 60: Best Fitness = 79009 [Correct]\n",
            "Run 61/100\n"
          ]
        },
        {
          "output_type": "stream",
          "name": "stderr",
          "text": [
            "<ipython-input-4-df9a58c0fb4c>:118: FutureWarning: The behavior of DataFrame concatenation with empty or all-NA entries is deprecated. In a future version, this will no longer exclude empty or all-NA columns when determining the result dtypes. To retain the old behavior, exclude the relevant entries before the concat operation.\n",
            "  fitness_df = pd.concat([fitness_df, new_row], ignore_index=True)\n"
          ]
        },
        {
          "output_type": "stream",
          "name": "stdout",
          "text": [
            "Run 61: Best Fitness = 79009 [Correct]\n",
            "Run 62/100\n"
          ]
        },
        {
          "output_type": "stream",
          "name": "stderr",
          "text": [
            "<ipython-input-4-df9a58c0fb4c>:118: FutureWarning: The behavior of DataFrame concatenation with empty or all-NA entries is deprecated. In a future version, this will no longer exclude empty or all-NA columns when determining the result dtypes. To retain the old behavior, exclude the relevant entries before the concat operation.\n",
            "  fitness_df = pd.concat([fitness_df, new_row], ignore_index=True)\n"
          ]
        },
        {
          "output_type": "stream",
          "name": "stdout",
          "text": [
            "Run 62: Best Fitness = 78765 [Incorrect]\n",
            "Run 63/100\n"
          ]
        },
        {
          "output_type": "stream",
          "name": "stderr",
          "text": [
            "<ipython-input-4-df9a58c0fb4c>:118: FutureWarning: The behavior of DataFrame concatenation with empty or all-NA entries is deprecated. In a future version, this will no longer exclude empty or all-NA columns when determining the result dtypes. To retain the old behavior, exclude the relevant entries before the concat operation.\n",
            "  fitness_df = pd.concat([fitness_df, new_row], ignore_index=True)\n"
          ]
        },
        {
          "output_type": "stream",
          "name": "stdout",
          "text": [
            "Run 63: Best Fitness = 78765 [Incorrect]\n",
            "Run 64/100\n"
          ]
        },
        {
          "output_type": "stream",
          "name": "stderr",
          "text": [
            "<ipython-input-4-df9a58c0fb4c>:118: FutureWarning: The behavior of DataFrame concatenation with empty or all-NA entries is deprecated. In a future version, this will no longer exclude empty or all-NA columns when determining the result dtypes. To retain the old behavior, exclude the relevant entries before the concat operation.\n",
            "  fitness_df = pd.concat([fitness_df, new_row], ignore_index=True)\n"
          ]
        },
        {
          "output_type": "stream",
          "name": "stdout",
          "text": [
            "Run 64: Best Fitness = 79009 [Correct]\n",
            "Run 65/100\n"
          ]
        },
        {
          "output_type": "stream",
          "name": "stderr",
          "text": [
            "<ipython-input-4-df9a58c0fb4c>:118: FutureWarning: The behavior of DataFrame concatenation with empty or all-NA entries is deprecated. In a future version, this will no longer exclude empty or all-NA columns when determining the result dtypes. To retain the old behavior, exclude the relevant entries before the concat operation.\n",
            "  fitness_df = pd.concat([fitness_df, new_row], ignore_index=True)\n"
          ]
        },
        {
          "output_type": "stream",
          "name": "stdout",
          "text": [
            "Run 65: Best Fitness = 78765 [Incorrect]\n",
            "Run 66/100\n"
          ]
        },
        {
          "output_type": "stream",
          "name": "stderr",
          "text": [
            "<ipython-input-4-df9a58c0fb4c>:118: FutureWarning: The behavior of DataFrame concatenation with empty or all-NA entries is deprecated. In a future version, this will no longer exclude empty or all-NA columns when determining the result dtypes. To retain the old behavior, exclude the relevant entries before the concat operation.\n",
            "  fitness_df = pd.concat([fitness_df, new_row], ignore_index=True)\n"
          ]
        },
        {
          "output_type": "stream",
          "name": "stdout",
          "text": [
            "Run 66: Best Fitness = 79009 [Correct]\n",
            "Run 67/100\n"
          ]
        },
        {
          "output_type": "stream",
          "name": "stderr",
          "text": [
            "<ipython-input-4-df9a58c0fb4c>:118: FutureWarning: The behavior of DataFrame concatenation with empty or all-NA entries is deprecated. In a future version, this will no longer exclude empty or all-NA columns when determining the result dtypes. To retain the old behavior, exclude the relevant entries before the concat operation.\n",
            "  fitness_df = pd.concat([fitness_df, new_row], ignore_index=True)\n"
          ]
        },
        {
          "output_type": "stream",
          "name": "stdout",
          "text": [
            "Run 67: Best Fitness = 79009 [Correct]\n",
            "Run 68/100\n"
          ]
        },
        {
          "output_type": "stream",
          "name": "stderr",
          "text": [
            "<ipython-input-4-df9a58c0fb4c>:118: FutureWarning: The behavior of DataFrame concatenation with empty or all-NA entries is deprecated. In a future version, this will no longer exclude empty or all-NA columns when determining the result dtypes. To retain the old behavior, exclude the relevant entries before the concat operation.\n",
            "  fitness_df = pd.concat([fitness_df, new_row], ignore_index=True)\n"
          ]
        },
        {
          "output_type": "stream",
          "name": "stdout",
          "text": [
            "Run 68: Best Fitness = 79009 [Correct]\n",
            "Run 69/100\n"
          ]
        },
        {
          "output_type": "stream",
          "name": "stderr",
          "text": [
            "<ipython-input-4-df9a58c0fb4c>:118: FutureWarning: The behavior of DataFrame concatenation with empty or all-NA entries is deprecated. In a future version, this will no longer exclude empty or all-NA columns when determining the result dtypes. To retain the old behavior, exclude the relevant entries before the concat operation.\n",
            "  fitness_df = pd.concat([fitness_df, new_row], ignore_index=True)\n"
          ]
        },
        {
          "output_type": "stream",
          "name": "stdout",
          "text": [
            "Run 69: Best Fitness = 79009 [Correct]\n",
            "Run 70/100\n"
          ]
        },
        {
          "output_type": "stream",
          "name": "stderr",
          "text": [
            "<ipython-input-4-df9a58c0fb4c>:118: FutureWarning: The behavior of DataFrame concatenation with empty or all-NA entries is deprecated. In a future version, this will no longer exclude empty or all-NA columns when determining the result dtypes. To retain the old behavior, exclude the relevant entries before the concat operation.\n",
            "  fitness_df = pd.concat([fitness_df, new_row], ignore_index=True)\n"
          ]
        },
        {
          "output_type": "stream",
          "name": "stdout",
          "text": [
            "Run 70: Best Fitness = 78765 [Incorrect]\n",
            "Run 71/100\n"
          ]
        },
        {
          "output_type": "stream",
          "name": "stderr",
          "text": [
            "<ipython-input-4-df9a58c0fb4c>:118: FutureWarning: The behavior of DataFrame concatenation with empty or all-NA entries is deprecated. In a future version, this will no longer exclude empty or all-NA columns when determining the result dtypes. To retain the old behavior, exclude the relevant entries before the concat operation.\n",
            "  fitness_df = pd.concat([fitness_df, new_row], ignore_index=True)\n"
          ]
        },
        {
          "output_type": "stream",
          "name": "stdout",
          "text": [
            "Run 71: Best Fitness = 79009 [Correct]\n",
            "Run 72/100\n"
          ]
        },
        {
          "output_type": "stream",
          "name": "stderr",
          "text": [
            "<ipython-input-4-df9a58c0fb4c>:118: FutureWarning: The behavior of DataFrame concatenation with empty or all-NA entries is deprecated. In a future version, this will no longer exclude empty or all-NA columns when determining the result dtypes. To retain the old behavior, exclude the relevant entries before the concat operation.\n",
            "  fitness_df = pd.concat([fitness_df, new_row], ignore_index=True)\n"
          ]
        },
        {
          "output_type": "stream",
          "name": "stdout",
          "text": [
            "Run 72: Best Fitness = 79009 [Correct]\n",
            "Run 73/100\n"
          ]
        },
        {
          "output_type": "stream",
          "name": "stderr",
          "text": [
            "<ipython-input-4-df9a58c0fb4c>:118: FutureWarning: The behavior of DataFrame concatenation with empty or all-NA entries is deprecated. In a future version, this will no longer exclude empty or all-NA columns when determining the result dtypes. To retain the old behavior, exclude the relevant entries before the concat operation.\n",
            "  fitness_df = pd.concat([fitness_df, new_row], ignore_index=True)\n"
          ]
        },
        {
          "output_type": "stream",
          "name": "stdout",
          "text": [
            "Run 73: Best Fitness = 78765 [Incorrect]\n",
            "Run 74/100\n"
          ]
        },
        {
          "output_type": "stream",
          "name": "stderr",
          "text": [
            "<ipython-input-4-df9a58c0fb4c>:118: FutureWarning: The behavior of DataFrame concatenation with empty or all-NA entries is deprecated. In a future version, this will no longer exclude empty or all-NA columns when determining the result dtypes. To retain the old behavior, exclude the relevant entries before the concat operation.\n",
            "  fitness_df = pd.concat([fitness_df, new_row], ignore_index=True)\n"
          ]
        },
        {
          "output_type": "stream",
          "name": "stdout",
          "text": [
            "Run 74: Best Fitness = 79009 [Correct]\n",
            "Run 75/100\n"
          ]
        },
        {
          "output_type": "stream",
          "name": "stderr",
          "text": [
            "<ipython-input-4-df9a58c0fb4c>:118: FutureWarning: The behavior of DataFrame concatenation with empty or all-NA entries is deprecated. In a future version, this will no longer exclude empty or all-NA columns when determining the result dtypes. To retain the old behavior, exclude the relevant entries before the concat operation.\n",
            "  fitness_df = pd.concat([fitness_df, new_row], ignore_index=True)\n"
          ]
        },
        {
          "output_type": "stream",
          "name": "stdout",
          "text": [
            "Run 75: Best Fitness = 78765 [Incorrect]\n",
            "Run 76/100\n"
          ]
        },
        {
          "output_type": "stream",
          "name": "stderr",
          "text": [
            "<ipython-input-4-df9a58c0fb4c>:118: FutureWarning: The behavior of DataFrame concatenation with empty or all-NA entries is deprecated. In a future version, this will no longer exclude empty or all-NA columns when determining the result dtypes. To retain the old behavior, exclude the relevant entries before the concat operation.\n",
            "  fitness_df = pd.concat([fitness_df, new_row], ignore_index=True)\n"
          ]
        },
        {
          "output_type": "stream",
          "name": "stdout",
          "text": [
            "Run 76: Best Fitness = 79009 [Correct]\n",
            "Run 77/100\n"
          ]
        },
        {
          "output_type": "stream",
          "name": "stderr",
          "text": [
            "<ipython-input-4-df9a58c0fb4c>:118: FutureWarning: The behavior of DataFrame concatenation with empty or all-NA entries is deprecated. In a future version, this will no longer exclude empty or all-NA columns when determining the result dtypes. To retain the old behavior, exclude the relevant entries before the concat operation.\n",
            "  fitness_df = pd.concat([fitness_df, new_row], ignore_index=True)\n"
          ]
        },
        {
          "output_type": "stream",
          "name": "stdout",
          "text": [
            "Run 77: Best Fitness = 79009 [Correct]\n",
            "Run 78/100\n"
          ]
        },
        {
          "output_type": "stream",
          "name": "stderr",
          "text": [
            "<ipython-input-4-df9a58c0fb4c>:118: FutureWarning: The behavior of DataFrame concatenation with empty or all-NA entries is deprecated. In a future version, this will no longer exclude empty or all-NA columns when determining the result dtypes. To retain the old behavior, exclude the relevant entries before the concat operation.\n",
            "  fitness_df = pd.concat([fitness_df, new_row], ignore_index=True)\n"
          ]
        },
        {
          "output_type": "stream",
          "name": "stdout",
          "text": [
            "Run 78: Best Fitness = 79009 [Correct]\n",
            "Run 79/100\n"
          ]
        },
        {
          "output_type": "stream",
          "name": "stderr",
          "text": [
            "<ipython-input-4-df9a58c0fb4c>:118: FutureWarning: The behavior of DataFrame concatenation with empty or all-NA entries is deprecated. In a future version, this will no longer exclude empty or all-NA columns when determining the result dtypes. To retain the old behavior, exclude the relevant entries before the concat operation.\n",
            "  fitness_df = pd.concat([fitness_df, new_row], ignore_index=True)\n"
          ]
        },
        {
          "output_type": "stream",
          "name": "stdout",
          "text": [
            "Run 79: Best Fitness = 79009 [Correct]\n",
            "Run 80/100\n"
          ]
        },
        {
          "output_type": "stream",
          "name": "stderr",
          "text": [
            "<ipython-input-4-df9a58c0fb4c>:118: FutureWarning: The behavior of DataFrame concatenation with empty or all-NA entries is deprecated. In a future version, this will no longer exclude empty or all-NA columns when determining the result dtypes. To retain the old behavior, exclude the relevant entries before the concat operation.\n",
            "  fitness_df = pd.concat([fitness_df, new_row], ignore_index=True)\n"
          ]
        },
        {
          "output_type": "stream",
          "name": "stdout",
          "text": [
            "Run 80: Best Fitness = 79009 [Correct]\n",
            "Run 81/100\n"
          ]
        },
        {
          "output_type": "stream",
          "name": "stderr",
          "text": [
            "<ipython-input-4-df9a58c0fb4c>:118: FutureWarning: The behavior of DataFrame concatenation with empty or all-NA entries is deprecated. In a future version, this will no longer exclude empty or all-NA columns when determining the result dtypes. To retain the old behavior, exclude the relevant entries before the concat operation.\n",
            "  fitness_df = pd.concat([fitness_df, new_row], ignore_index=True)\n"
          ]
        },
        {
          "output_type": "stream",
          "name": "stdout",
          "text": [
            "Run 81: Best Fitness = 78765 [Incorrect]\n",
            "Run 82/100\n"
          ]
        },
        {
          "output_type": "stream",
          "name": "stderr",
          "text": [
            "<ipython-input-4-df9a58c0fb4c>:118: FutureWarning: The behavior of DataFrame concatenation with empty or all-NA entries is deprecated. In a future version, this will no longer exclude empty or all-NA columns when determining the result dtypes. To retain the old behavior, exclude the relevant entries before the concat operation.\n",
            "  fitness_df = pd.concat([fitness_df, new_row], ignore_index=True)\n"
          ]
        },
        {
          "output_type": "stream",
          "name": "stdout",
          "text": [
            "Run 82: Best Fitness = 79009 [Correct]\n",
            "Run 83/100\n"
          ]
        },
        {
          "output_type": "stream",
          "name": "stderr",
          "text": [
            "<ipython-input-4-df9a58c0fb4c>:118: FutureWarning: The behavior of DataFrame concatenation with empty or all-NA entries is deprecated. In a future version, this will no longer exclude empty or all-NA columns when determining the result dtypes. To retain the old behavior, exclude the relevant entries before the concat operation.\n",
            "  fitness_df = pd.concat([fitness_df, new_row], ignore_index=True)\n"
          ]
        },
        {
          "output_type": "stream",
          "name": "stdout",
          "text": [
            "Run 83: Best Fitness = 79009 [Correct]\n",
            "Run 84/100\n"
          ]
        },
        {
          "output_type": "stream",
          "name": "stderr",
          "text": [
            "<ipython-input-4-df9a58c0fb4c>:118: FutureWarning: The behavior of DataFrame concatenation with empty or all-NA entries is deprecated. In a future version, this will no longer exclude empty or all-NA columns when determining the result dtypes. To retain the old behavior, exclude the relevant entries before the concat operation.\n",
            "  fitness_df = pd.concat([fitness_df, new_row], ignore_index=True)\n"
          ]
        },
        {
          "output_type": "stream",
          "name": "stdout",
          "text": [
            "Run 84: Best Fitness = 79009 [Correct]\n",
            "Run 85/100\n"
          ]
        },
        {
          "output_type": "stream",
          "name": "stderr",
          "text": [
            "<ipython-input-4-df9a58c0fb4c>:118: FutureWarning: The behavior of DataFrame concatenation with empty or all-NA entries is deprecated. In a future version, this will no longer exclude empty or all-NA columns when determining the result dtypes. To retain the old behavior, exclude the relevant entries before the concat operation.\n",
            "  fitness_df = pd.concat([fitness_df, new_row], ignore_index=True)\n"
          ]
        },
        {
          "output_type": "stream",
          "name": "stdout",
          "text": [
            "Run 85: Best Fitness = 79009 [Correct]\n",
            "Run 86/100\n"
          ]
        },
        {
          "output_type": "stream",
          "name": "stderr",
          "text": [
            "<ipython-input-4-df9a58c0fb4c>:118: FutureWarning: The behavior of DataFrame concatenation with empty or all-NA entries is deprecated. In a future version, this will no longer exclude empty or all-NA columns when determining the result dtypes. To retain the old behavior, exclude the relevant entries before the concat operation.\n",
            "  fitness_df = pd.concat([fitness_df, new_row], ignore_index=True)\n"
          ]
        },
        {
          "output_type": "stream",
          "name": "stdout",
          "text": [
            "Run 86: Best Fitness = 79009 [Correct]\n",
            "Run 87/100\n"
          ]
        },
        {
          "output_type": "stream",
          "name": "stderr",
          "text": [
            "<ipython-input-4-df9a58c0fb4c>:118: FutureWarning: The behavior of DataFrame concatenation with empty or all-NA entries is deprecated. In a future version, this will no longer exclude empty or all-NA columns when determining the result dtypes. To retain the old behavior, exclude the relevant entries before the concat operation.\n",
            "  fitness_df = pd.concat([fitness_df, new_row], ignore_index=True)\n"
          ]
        },
        {
          "output_type": "stream",
          "name": "stdout",
          "text": [
            "Run 87: Best Fitness = 79009 [Correct]\n",
            "Run 88/100\n"
          ]
        },
        {
          "output_type": "stream",
          "name": "stderr",
          "text": [
            "<ipython-input-4-df9a58c0fb4c>:118: FutureWarning: The behavior of DataFrame concatenation with empty or all-NA entries is deprecated. In a future version, this will no longer exclude empty or all-NA columns when determining the result dtypes. To retain the old behavior, exclude the relevant entries before the concat operation.\n",
            "  fitness_df = pd.concat([fitness_df, new_row], ignore_index=True)\n"
          ]
        },
        {
          "output_type": "stream",
          "name": "stdout",
          "text": [
            "Run 88: Best Fitness = 79009 [Correct]\n",
            "Run 89/100\n"
          ]
        },
        {
          "output_type": "stream",
          "name": "stderr",
          "text": [
            "<ipython-input-4-df9a58c0fb4c>:118: FutureWarning: The behavior of DataFrame concatenation with empty or all-NA entries is deprecated. In a future version, this will no longer exclude empty or all-NA columns when determining the result dtypes. To retain the old behavior, exclude the relevant entries before the concat operation.\n",
            "  fitness_df = pd.concat([fitness_df, new_row], ignore_index=True)\n"
          ]
        },
        {
          "output_type": "stream",
          "name": "stdout",
          "text": [
            "Run 89: Best Fitness = 78589 [Incorrect]\n",
            "Run 90/100\n"
          ]
        },
        {
          "output_type": "stream",
          "name": "stderr",
          "text": [
            "<ipython-input-4-df9a58c0fb4c>:118: FutureWarning: The behavior of DataFrame concatenation with empty or all-NA entries is deprecated. In a future version, this will no longer exclude empty or all-NA columns when determining the result dtypes. To retain the old behavior, exclude the relevant entries before the concat operation.\n",
            "  fitness_df = pd.concat([fitness_df, new_row], ignore_index=True)\n"
          ]
        },
        {
          "output_type": "stream",
          "name": "stdout",
          "text": [
            "Run 90: Best Fitness = 78765 [Incorrect]\n",
            "Run 91/100\n"
          ]
        },
        {
          "output_type": "stream",
          "name": "stderr",
          "text": [
            "<ipython-input-4-df9a58c0fb4c>:118: FutureWarning: The behavior of DataFrame concatenation with empty or all-NA entries is deprecated. In a future version, this will no longer exclude empty or all-NA columns when determining the result dtypes. To retain the old behavior, exclude the relevant entries before the concat operation.\n",
            "  fitness_df = pd.concat([fitness_df, new_row], ignore_index=True)\n"
          ]
        },
        {
          "output_type": "stream",
          "name": "stdout",
          "text": [
            "Run 91: Best Fitness = 78765 [Incorrect]\n",
            "Run 92/100\n"
          ]
        },
        {
          "output_type": "stream",
          "name": "stderr",
          "text": [
            "<ipython-input-4-df9a58c0fb4c>:118: FutureWarning: The behavior of DataFrame concatenation with empty or all-NA entries is deprecated. In a future version, this will no longer exclude empty or all-NA columns when determining the result dtypes. To retain the old behavior, exclude the relevant entries before the concat operation.\n",
            "  fitness_df = pd.concat([fitness_df, new_row], ignore_index=True)\n"
          ]
        },
        {
          "output_type": "stream",
          "name": "stdout",
          "text": [
            "Run 92: Best Fitness = 79009 [Correct]\n",
            "Run 93/100\n"
          ]
        },
        {
          "output_type": "stream",
          "name": "stderr",
          "text": [
            "<ipython-input-4-df9a58c0fb4c>:118: FutureWarning: The behavior of DataFrame concatenation with empty or all-NA entries is deprecated. In a future version, this will no longer exclude empty or all-NA columns when determining the result dtypes. To retain the old behavior, exclude the relevant entries before the concat operation.\n",
            "  fitness_df = pd.concat([fitness_df, new_row], ignore_index=True)\n"
          ]
        },
        {
          "output_type": "stream",
          "name": "stdout",
          "text": [
            "Run 93: Best Fitness = 79009 [Correct]\n",
            "Run 94/100\n"
          ]
        },
        {
          "output_type": "stream",
          "name": "stderr",
          "text": [
            "<ipython-input-4-df9a58c0fb4c>:118: FutureWarning: The behavior of DataFrame concatenation with empty or all-NA entries is deprecated. In a future version, this will no longer exclude empty or all-NA columns when determining the result dtypes. To retain the old behavior, exclude the relevant entries before the concat operation.\n",
            "  fitness_df = pd.concat([fitness_df, new_row], ignore_index=True)\n"
          ]
        },
        {
          "output_type": "stream",
          "name": "stdout",
          "text": [
            "Run 94: Best Fitness = 78765 [Incorrect]\n",
            "Run 95/100\n"
          ]
        },
        {
          "output_type": "stream",
          "name": "stderr",
          "text": [
            "<ipython-input-4-df9a58c0fb4c>:118: FutureWarning: The behavior of DataFrame concatenation with empty or all-NA entries is deprecated. In a future version, this will no longer exclude empty or all-NA columns when determining the result dtypes. To retain the old behavior, exclude the relevant entries before the concat operation.\n",
            "  fitness_df = pd.concat([fitness_df, new_row], ignore_index=True)\n"
          ]
        },
        {
          "output_type": "stream",
          "name": "stdout",
          "text": [
            "Run 95: Best Fitness = 79009 [Correct]\n",
            "Run 96/100\n"
          ]
        },
        {
          "output_type": "stream",
          "name": "stderr",
          "text": [
            "<ipython-input-4-df9a58c0fb4c>:118: FutureWarning: The behavior of DataFrame concatenation with empty or all-NA entries is deprecated. In a future version, this will no longer exclude empty or all-NA columns when determining the result dtypes. To retain the old behavior, exclude the relevant entries before the concat operation.\n",
            "  fitness_df = pd.concat([fitness_df, new_row], ignore_index=True)\n"
          ]
        },
        {
          "output_type": "stream",
          "name": "stdout",
          "text": [
            "Run 96: Best Fitness = 79009 [Correct]\n",
            "Run 97/100\n"
          ]
        },
        {
          "output_type": "stream",
          "name": "stderr",
          "text": [
            "<ipython-input-4-df9a58c0fb4c>:118: FutureWarning: The behavior of DataFrame concatenation with empty or all-NA entries is deprecated. In a future version, this will no longer exclude empty or all-NA columns when determining the result dtypes. To retain the old behavior, exclude the relevant entries before the concat operation.\n",
            "  fitness_df = pd.concat([fitness_df, new_row], ignore_index=True)\n"
          ]
        },
        {
          "output_type": "stream",
          "name": "stdout",
          "text": [
            "Run 97: Best Fitness = 79009 [Correct]\n",
            "Run 98/100\n"
          ]
        },
        {
          "output_type": "stream",
          "name": "stderr",
          "text": [
            "<ipython-input-4-df9a58c0fb4c>:118: FutureWarning: The behavior of DataFrame concatenation with empty or all-NA entries is deprecated. In a future version, this will no longer exclude empty or all-NA columns when determining the result dtypes. To retain the old behavior, exclude the relevant entries before the concat operation.\n",
            "  fitness_df = pd.concat([fitness_df, new_row], ignore_index=True)\n"
          ]
        },
        {
          "output_type": "stream",
          "name": "stdout",
          "text": [
            "Run 98: Best Fitness = 78765 [Incorrect]\n",
            "Run 99/100\n"
          ]
        },
        {
          "output_type": "stream",
          "name": "stderr",
          "text": [
            "<ipython-input-4-df9a58c0fb4c>:118: FutureWarning: The behavior of DataFrame concatenation with empty or all-NA entries is deprecated. In a future version, this will no longer exclude empty or all-NA columns when determining the result dtypes. To retain the old behavior, exclude the relevant entries before the concat operation.\n",
            "  fitness_df = pd.concat([fitness_df, new_row], ignore_index=True)\n"
          ]
        },
        {
          "output_type": "stream",
          "name": "stdout",
          "text": [
            "Run 99: Best Fitness = 79009 [Correct]\n",
            "Run 100/100\n"
          ]
        },
        {
          "output_type": "stream",
          "name": "stderr",
          "text": [
            "<ipython-input-4-df9a58c0fb4c>:118: FutureWarning: The behavior of DataFrame concatenation with empty or all-NA entries is deprecated. In a future version, this will no longer exclude empty or all-NA columns when determining the result dtypes. To retain the old behavior, exclude the relevant entries before the concat operation.\n",
            "  fitness_df = pd.concat([fitness_df, new_row], ignore_index=True)\n"
          ]
        },
        {
          "output_type": "stream",
          "name": "stdout",
          "text": [
            "Run 100: Best Fitness = 79009 [Correct]\n",
            "\n",
            "Tổng kết:\n",
            "Số lần đúng: 83\n",
            "Số lần sai: 17\n",
            "Tỷ lệ đúng: 83.00%\n",
            "Tỷ lệ sai: 17.00%\n"
          ]
        },
        {
          "output_type": "execute_result",
          "data": {
            "text/plain": [
              "   Run                                      Best_Solution  Best_Fitness  \\\n",
              "0    1  [1, 0, 1, 1, 1, 1, 1, 0, 1, 0, 1, 1, 0, 0, 1, ...         79009   \n",
              "1    2  [1, 0, 1, 1, 1, 1, 1, 0, 1, 0, 1, 1, 0, 0, 1, ...         79009   \n",
              "2    3  [1, 0, 1, 1, 1, 1, 1, 0, 1, 0, 1, 1, 0, 0, 1, ...         79009   \n",
              "3    4  [1, 0, 1, 1, 1, 1, 1, 0, 1, 0, 1, 1, 0, 0, 1, ...         79009   \n",
              "4    5  [1, 0, 1, 1, 1, 1, 1, 0, 1, 0, 0, 1, 0, 0, 1, ...         78691   \n",
              "\n",
              "   Is_Correct                                    Fitness_History  \\\n",
              "0        True  [64339, 64339, 66587, 66587, 66587, 68341, 706...   \n",
              "1        True  [61459, 64278, 66396, 67807, 68448, 69889, 714...   \n",
              "2        True  [59492, 67144, 67144, 67166, 67866, 69518, 695...   \n",
              "3        True  [62570, 64892, 64892, 65300, 66359, 72355, 723...   \n",
              "4       False  [60084, 63131, 67791, 67791, 68614, 68614, 695...   \n",
              "\n",
              "                                Mean_Fitness_History  \\\n",
              "0  [45715.115, 49278.15, 52379.935, 54501.21, 570...   \n",
              "1  [45744.24, 49275.815, 52080.235, 54892.805, 57...   \n",
              "2  [46156.845, 50192.015, 52922.23, 55708.01, 578...   \n",
              "3  [45002.295, 48576.85, 51553.625, 54050.265, 55...   \n",
              "4  [45661.305, 48705.865, 51553.305, 53931.98, 55...   \n",
              "\n",
              "                                          Fitness_DF  \n",
              "0      Generation                                ...  \n",
              "1      Generation                                ...  \n",
              "2      Generation                                ...  \n",
              "3      Generation                                ...  \n",
              "4      Generation                                ...  "
            ],
            "text/html": [
              "\n",
              "  <div id=\"df-93f45e88-ef78-4be9-a9d5-010b091a93de\" class=\"colab-df-container\">\n",
              "    <div>\n",
              "<style scoped>\n",
              "    .dataframe tbody tr th:only-of-type {\n",
              "        vertical-align: middle;\n",
              "    }\n",
              "\n",
              "    .dataframe tbody tr th {\n",
              "        vertical-align: top;\n",
              "    }\n",
              "\n",
              "    .dataframe thead th {\n",
              "        text-align: right;\n",
              "    }\n",
              "</style>\n",
              "<table border=\"1\" class=\"dataframe\">\n",
              "  <thead>\n",
              "    <tr style=\"text-align: right;\">\n",
              "      <th></th>\n",
              "      <th>Run</th>\n",
              "      <th>Best_Solution</th>\n",
              "      <th>Best_Fitness</th>\n",
              "      <th>Is_Correct</th>\n",
              "      <th>Fitness_History</th>\n",
              "      <th>Mean_Fitness_History</th>\n",
              "      <th>Fitness_DF</th>\n",
              "    </tr>\n",
              "  </thead>\n",
              "  <tbody>\n",
              "    <tr>\n",
              "      <th>0</th>\n",
              "      <td>1</td>\n",
              "      <td>[1, 0, 1, 1, 1, 1, 1, 0, 1, 0, 1, 1, 0, 0, 1, ...</td>\n",
              "      <td>79009</td>\n",
              "      <td>True</td>\n",
              "      <td>[64339, 64339, 66587, 66587, 66587, 68341, 706...</td>\n",
              "      <td>[45715.115, 49278.15, 52379.935, 54501.21, 570...</td>\n",
              "      <td>Generation                                ...</td>\n",
              "    </tr>\n",
              "    <tr>\n",
              "      <th>1</th>\n",
              "      <td>2</td>\n",
              "      <td>[1, 0, 1, 1, 1, 1, 1, 0, 1, 0, 1, 1, 0, 0, 1, ...</td>\n",
              "      <td>79009</td>\n",
              "      <td>True</td>\n",
              "      <td>[61459, 64278, 66396, 67807, 68448, 69889, 714...</td>\n",
              "      <td>[45744.24, 49275.815, 52080.235, 54892.805, 57...</td>\n",
              "      <td>Generation                                ...</td>\n",
              "    </tr>\n",
              "    <tr>\n",
              "      <th>2</th>\n",
              "      <td>3</td>\n",
              "      <td>[1, 0, 1, 1, 1, 1, 1, 0, 1, 0, 1, 1, 0, 0, 1, ...</td>\n",
              "      <td>79009</td>\n",
              "      <td>True</td>\n",
              "      <td>[59492, 67144, 67144, 67166, 67866, 69518, 695...</td>\n",
              "      <td>[46156.845, 50192.015, 52922.23, 55708.01, 578...</td>\n",
              "      <td>Generation                                ...</td>\n",
              "    </tr>\n",
              "    <tr>\n",
              "      <th>3</th>\n",
              "      <td>4</td>\n",
              "      <td>[1, 0, 1, 1, 1, 1, 1, 0, 1, 0, 1, 1, 0, 0, 1, ...</td>\n",
              "      <td>79009</td>\n",
              "      <td>True</td>\n",
              "      <td>[62570, 64892, 64892, 65300, 66359, 72355, 723...</td>\n",
              "      <td>[45002.295, 48576.85, 51553.625, 54050.265, 55...</td>\n",
              "      <td>Generation                                ...</td>\n",
              "    </tr>\n",
              "    <tr>\n",
              "      <th>4</th>\n",
              "      <td>5</td>\n",
              "      <td>[1, 0, 1, 1, 1, 1, 1, 0, 1, 0, 0, 1, 0, 0, 1, ...</td>\n",
              "      <td>78691</td>\n",
              "      <td>False</td>\n",
              "      <td>[60084, 63131, 67791, 67791, 68614, 68614, 695...</td>\n",
              "      <td>[45661.305, 48705.865, 51553.305, 53931.98, 55...</td>\n",
              "      <td>Generation                                ...</td>\n",
              "    </tr>\n",
              "  </tbody>\n",
              "</table>\n",
              "</div>\n",
              "    <div class=\"colab-df-buttons\">\n",
              "\n",
              "  <div class=\"colab-df-container\">\n",
              "    <button class=\"colab-df-convert\" onclick=\"convertToInteractive('df-93f45e88-ef78-4be9-a9d5-010b091a93de')\"\n",
              "            title=\"Convert this dataframe to an interactive table.\"\n",
              "            style=\"display:none;\">\n",
              "\n",
              "  <svg xmlns=\"http://www.w3.org/2000/svg\" height=\"24px\" viewBox=\"0 -960 960 960\">\n",
              "    <path d=\"M120-120v-720h720v720H120Zm60-500h600v-160H180v160Zm220 220h160v-160H400v160Zm0 220h160v-160H400v160ZM180-400h160v-160H180v160Zm440 0h160v-160H620v160ZM180-180h160v-160H180v160Zm440 0h160v-160H620v160Z\"/>\n",
              "  </svg>\n",
              "    </button>\n",
              "\n",
              "  <style>\n",
              "    .colab-df-container {\n",
              "      display:flex;\n",
              "      gap: 12px;\n",
              "    }\n",
              "\n",
              "    .colab-df-convert {\n",
              "      background-color: #E8F0FE;\n",
              "      border: none;\n",
              "      border-radius: 50%;\n",
              "      cursor: pointer;\n",
              "      display: none;\n",
              "      fill: #1967D2;\n",
              "      height: 32px;\n",
              "      padding: 0 0 0 0;\n",
              "      width: 32px;\n",
              "    }\n",
              "\n",
              "    .colab-df-convert:hover {\n",
              "      background-color: #E2EBFA;\n",
              "      box-shadow: 0px 1px 2px rgba(60, 64, 67, 0.3), 0px 1px 3px 1px rgba(60, 64, 67, 0.15);\n",
              "      fill: #174EA6;\n",
              "    }\n",
              "\n",
              "    .colab-df-buttons div {\n",
              "      margin-bottom: 4px;\n",
              "    }\n",
              "\n",
              "    [theme=dark] .colab-df-convert {\n",
              "      background-color: #3B4455;\n",
              "      fill: #D2E3FC;\n",
              "    }\n",
              "\n",
              "    [theme=dark] .colab-df-convert:hover {\n",
              "      background-color: #434B5C;\n",
              "      box-shadow: 0px 1px 3px 1px rgba(0, 0, 0, 0.15);\n",
              "      filter: drop-shadow(0px 1px 2px rgba(0, 0, 0, 0.3));\n",
              "      fill: #FFFFFF;\n",
              "    }\n",
              "  </style>\n",
              "\n",
              "    <script>\n",
              "      const buttonEl =\n",
              "        document.querySelector('#df-93f45e88-ef78-4be9-a9d5-010b091a93de button.colab-df-convert');\n",
              "      buttonEl.style.display =\n",
              "        google.colab.kernel.accessAllowed ? 'block' : 'none';\n",
              "\n",
              "      async function convertToInteractive(key) {\n",
              "        const element = document.querySelector('#df-93f45e88-ef78-4be9-a9d5-010b091a93de');\n",
              "        const dataTable =\n",
              "          await google.colab.kernel.invokeFunction('convertToInteractive',\n",
              "                                                    [key], {});\n",
              "        if (!dataTable) return;\n",
              "\n",
              "        const docLinkHtml = 'Like what you see? Visit the ' +\n",
              "          '<a target=\"_blank\" href=https://colab.research.google.com/notebooks/data_table.ipynb>data table notebook</a>'\n",
              "          + ' to learn more about interactive tables.';\n",
              "        element.innerHTML = '';\n",
              "        dataTable['output_type'] = 'display_data';\n",
              "        await google.colab.output.renderOutput(dataTable, element);\n",
              "        const docLink = document.createElement('div');\n",
              "        docLink.innerHTML = docLinkHtml;\n",
              "        element.appendChild(docLink);\n",
              "      }\n",
              "    </script>\n",
              "  </div>\n",
              "\n",
              "\n",
              "<div id=\"df-3bbf9289-2216-4a2b-8e76-3675cc7e8def\">\n",
              "  <button class=\"colab-df-quickchart\" onclick=\"quickchart('df-3bbf9289-2216-4a2b-8e76-3675cc7e8def')\"\n",
              "            title=\"Suggest charts\"\n",
              "            style=\"display:none;\">\n",
              "\n",
              "<svg xmlns=\"http://www.w3.org/2000/svg\" height=\"24px\"viewBox=\"0 0 24 24\"\n",
              "     width=\"24px\">\n",
              "    <g>\n",
              "        <path d=\"M19 3H5c-1.1 0-2 .9-2 2v14c0 1.1.9 2 2 2h14c1.1 0 2-.9 2-2V5c0-1.1-.9-2-2-2zM9 17H7v-7h2v7zm4 0h-2V7h2v10zm4 0h-2v-4h2v4z\"/>\n",
              "    </g>\n",
              "</svg>\n",
              "  </button>\n",
              "\n",
              "<style>\n",
              "  .colab-df-quickchart {\n",
              "      --bg-color: #E8F0FE;\n",
              "      --fill-color: #1967D2;\n",
              "      --hover-bg-color: #E2EBFA;\n",
              "      --hover-fill-color: #174EA6;\n",
              "      --disabled-fill-color: #AAA;\n",
              "      --disabled-bg-color: #DDD;\n",
              "  }\n",
              "\n",
              "  [theme=dark] .colab-df-quickchart {\n",
              "      --bg-color: #3B4455;\n",
              "      --fill-color: #D2E3FC;\n",
              "      --hover-bg-color: #434B5C;\n",
              "      --hover-fill-color: #FFFFFF;\n",
              "      --disabled-bg-color: #3B4455;\n",
              "      --disabled-fill-color: #666;\n",
              "  }\n",
              "\n",
              "  .colab-df-quickchart {\n",
              "    background-color: var(--bg-color);\n",
              "    border: none;\n",
              "    border-radius: 50%;\n",
              "    cursor: pointer;\n",
              "    display: none;\n",
              "    fill: var(--fill-color);\n",
              "    height: 32px;\n",
              "    padding: 0;\n",
              "    width: 32px;\n",
              "  }\n",
              "\n",
              "  .colab-df-quickchart:hover {\n",
              "    background-color: var(--hover-bg-color);\n",
              "    box-shadow: 0 1px 2px rgba(60, 64, 67, 0.3), 0 1px 3px 1px rgba(60, 64, 67, 0.15);\n",
              "    fill: var(--button-hover-fill-color);\n",
              "  }\n",
              "\n",
              "  .colab-df-quickchart-complete:disabled,\n",
              "  .colab-df-quickchart-complete:disabled:hover {\n",
              "    background-color: var(--disabled-bg-color);\n",
              "    fill: var(--disabled-fill-color);\n",
              "    box-shadow: none;\n",
              "  }\n",
              "\n",
              "  .colab-df-spinner {\n",
              "    border: 2px solid var(--fill-color);\n",
              "    border-color: transparent;\n",
              "    border-bottom-color: var(--fill-color);\n",
              "    animation:\n",
              "      spin 1s steps(1) infinite;\n",
              "  }\n",
              "\n",
              "  @keyframes spin {\n",
              "    0% {\n",
              "      border-color: transparent;\n",
              "      border-bottom-color: var(--fill-color);\n",
              "      border-left-color: var(--fill-color);\n",
              "    }\n",
              "    20% {\n",
              "      border-color: transparent;\n",
              "      border-left-color: var(--fill-color);\n",
              "      border-top-color: var(--fill-color);\n",
              "    }\n",
              "    30% {\n",
              "      border-color: transparent;\n",
              "      border-left-color: var(--fill-color);\n",
              "      border-top-color: var(--fill-color);\n",
              "      border-right-color: var(--fill-color);\n",
              "    }\n",
              "    40% {\n",
              "      border-color: transparent;\n",
              "      border-right-color: var(--fill-color);\n",
              "      border-top-color: var(--fill-color);\n",
              "    }\n",
              "    60% {\n",
              "      border-color: transparent;\n",
              "      border-right-color: var(--fill-color);\n",
              "    }\n",
              "    80% {\n",
              "      border-color: transparent;\n",
              "      border-right-color: var(--fill-color);\n",
              "      border-bottom-color: var(--fill-color);\n",
              "    }\n",
              "    90% {\n",
              "      border-color: transparent;\n",
              "      border-bottom-color: var(--fill-color);\n",
              "    }\n",
              "  }\n",
              "</style>\n",
              "\n",
              "  <script>\n",
              "    async function quickchart(key) {\n",
              "      const quickchartButtonEl =\n",
              "        document.querySelector('#' + key + ' button');\n",
              "      quickchartButtonEl.disabled = true;  // To prevent multiple clicks.\n",
              "      quickchartButtonEl.classList.add('colab-df-spinner');\n",
              "      try {\n",
              "        const charts = await google.colab.kernel.invokeFunction(\n",
              "            'suggestCharts', [key], {});\n",
              "      } catch (error) {\n",
              "        console.error('Error during call to suggestCharts:', error);\n",
              "      }\n",
              "      quickchartButtonEl.classList.remove('colab-df-spinner');\n",
              "      quickchartButtonEl.classList.add('colab-df-quickchart-complete');\n",
              "    }\n",
              "    (() => {\n",
              "      let quickchartButtonEl =\n",
              "        document.querySelector('#df-3bbf9289-2216-4a2b-8e76-3675cc7e8def button');\n",
              "      quickchartButtonEl.style.display =\n",
              "        google.colab.kernel.accessAllowed ? 'block' : 'none';\n",
              "    })();\n",
              "  </script>\n",
              "</div>\n",
              "\n",
              "    </div>\n",
              "  </div>\n"
            ],
            "application/vnd.google.colaboratory.intrinsic+json": {
              "type": "dataframe",
              "variable_name": "results_df",
              "summary": "{\n  \"name\": \"results_df\",\n  \"rows\": 100,\n  \"fields\": [\n    {\n      \"column\": \"Run\",\n      \"properties\": {\n        \"dtype\": \"number\",\n        \"std\": 29,\n        \"min\": 1,\n        \"max\": 100,\n        \"num_unique_values\": 100,\n        \"samples\": [\n          84,\n          54,\n          71\n        ],\n        \"semantic_type\": \"\",\n        \"description\": \"\"\n      }\n    },\n    {\n      \"column\": \"Best_Solution\",\n      \"properties\": {\n        \"dtype\": \"object\",\n        \"semantic_type\": \"\",\n        \"description\": \"\"\n      }\n    },\n    {\n      \"column\": \"Best_Fitness\",\n      \"properties\": {\n        \"dtype\": \"number\",\n        \"std\": 104,\n        \"min\": 78589,\n        \"max\": 79009,\n        \"num_unique_values\": 4,\n        \"samples\": [\n          78691,\n          78589,\n          79009\n        ],\n        \"semantic_type\": \"\",\n        \"description\": \"\"\n      }\n    },\n    {\n      \"column\": \"Is_Correct\",\n      \"properties\": {\n        \"dtype\": \"boolean\",\n        \"num_unique_values\": 2,\n        \"samples\": [\n          false,\n          true\n        ],\n        \"semantic_type\": \"\",\n        \"description\": \"\"\n      }\n    },\n    {\n      \"column\": \"Fitness_History\",\n      \"properties\": {\n        \"dtype\": \"object\",\n        \"semantic_type\": \"\",\n        \"description\": \"\"\n      }\n    },\n    {\n      \"column\": \"Mean_Fitness_History\",\n      \"properties\": {\n        \"dtype\": \"object\",\n        \"semantic_type\": \"\",\n        \"description\": \"\"\n      }\n    },\n    {\n      \"column\": \"Fitness_DF\",\n      \"properties\": {\n        \"dtype\": \"object\",\n        \"semantic_type\": \"\",\n        \"description\": \"\"\n      }\n    }\n  ]\n}"
            }
          },
          "metadata": {},
          "execution_count": 6
        }
      ],
      "source": [
        "import pandas as pd\n",
        "\n",
        "# Hàm chạy nhiều lần và thống kê\n",
        "def run_multiple_times(n_runs=100):\n",
        "    correct_count = 0\n",
        "    incorrect_count = 0\n",
        "\n",
        "    # Lưu trữ kết quả của tất cả lần chạy\n",
        "    results = []\n",
        "\n",
        "    for i in range(n_runs):\n",
        "        print(f\"Run {i+1}/{n_runs}\")\n",
        "        best_solution, best_fitness, best_fitness_history, mean_fitness_history, fitness_df = genetic_algorithm()\n",
        "\n",
        "        # Kiểm tra điều kiện best fitness\n",
        "        is_correct = best_fitness == 79009\n",
        "        if is_correct:\n",
        "            correct_count += 1\n",
        "        else:\n",
        "            incorrect_count += 1\n",
        "\n",
        "        # Lưu kết quả của lần chạy\n",
        "        results.append({\n",
        "            \"Run\": i + 1,\n",
        "            \"Best_Solution\": best_solution,\n",
        "            \"Best_Fitness\": best_fitness,\n",
        "            \"Is_Correct\": is_correct,\n",
        "            \"Fitness_History\": best_fitness_history,\n",
        "            \"Mean_Fitness_History\": mean_fitness_history,\n",
        "            \"Fitness_DF\": fitness_df\n",
        "        })\n",
        "\n",
        "        # In kết quả của từng lần chạy\n",
        "        print(f\"Run {i+1}: Best Fitness = {best_fitness} {'[Correct]' if is_correct else '[Incorrect]'}\")\n",
        "\n",
        "    # Thống kê kết quả\n",
        "    print(\"\\nTổng kết:\")\n",
        "    print(f\"Số lần đúng: {correct_count}\")\n",
        "    print(f\"Số lần sai: {incorrect_count}\")\n",
        "    print(f\"Tỷ lệ đúng: {correct_count / n_runs * 100:.2f}%\")\n",
        "    print(f\"Tỷ lệ sai: {incorrect_count / n_runs * 100:.2f}%\")\n",
        "\n",
        "    # Trả về kết quả\n",
        "    results_df = pd.DataFrame(results)\n",
        "    return results_df\n",
        "\n",
        "# Gọi hàm chạy nhiều lần\n",
        "results_df = run_multiple_times()\n",
        "\n",
        "# Phân tích hoặc xem kết quả\n",
        "results_df.head()\n"
      ]
    },
    {
      "cell_type": "markdown",
      "source": [
        "**Phân tích kết quả sai:**"
      ],
      "metadata": {
        "id": "XSOZkcXTFZGN"
      }
    },
    {
      "cell_type": "markdown",
      "source": [
        "**Sử dụng Mean Fitness để đánh giá hiệu suất:**\n",
        "\n",
        "Việc sử dụng **Mean Fitness** (fitness trung bình) để đánh giá hiệu suất của thuật toán di truyền (genetic algorithm) có ý nghĩa quan trọng trong việc theo dõi quá trình tiến hóa của quần thể qua các thế hệ như:\n",
        "\n",
        "**1. Đo lường sự tiến bộ của toàn bộ quần thể:**\n",
        "\n",
        "- Sự tăng Mean Fitness cho thấy quần thể đang phát triển theo hướng tốt hơn, và các giải pháp kém dần bị loại bỏ.\n",
        "\n",
        "**2. Phát hiện hiện tượng hội tụ (Convergence):**\n",
        "\n",
        "- Khi Mean Fitness tiến gần đến Best Fitness (đường màu xanh dương), điều này báo hiệu rằng:\n",
        "Hầu hết các cá thể trong quần thể đang đạt đến một mức độ chất lượng tương tự.\n",
        "Điều này là dấu hiệu hội tụ của thuật toán.\n",
        "- Nếu Mean Fitness không tăng hoặc bị \"đóng băng\" sớm, có thể đây là tín hiệu của việc hội tụ sớm (premature convergence), tức là quần thể bị mắc kẹt tại cực trị địa phương (local optimum).\n",
        "\n",
        "**3. Theo dõi sự đa dạng của quần thể:**\n",
        "\n",
        "Khoảng cách giữa Best Fitness và Mean Fitness cho biết mức độ đa dạng của quần thể:\n",
        "\n",
        "- **Khoảng cách lớn:** Quần thể còn nhiều cá thể kém hơn, tức là đa dạng vẫn tồn tại.\n",
        "\n",
        "- **Khoảng cách nhỏ:** Các cá thể trong quần thể trở nên đồng nhất, và thuật toán có thể đang khai thác (exploitation) thay vì khám phá (exploration).\n",
        "Nếu khoảng cách này giảm nhanh, đó là tín hiệu cho thấy quần thể có thể đang mất đi sự đa dạng, cần tăng cường đột biến để tạo thêm giải pháp mới.\n",
        "\n",
        "**4. Hỗ trợ điều chỉnh tham số:**\n",
        "\n",
        "Mean Fitness cung cấp thông tin quan trọng để tinh chỉnh tham số như:\n",
        "\n",
        "- Tăng/giảm tỷ lệ đột biến (mutation rate) để duy trì đa dạng khi Mean Fitness và Best Fitness hội tụ quá nhanh.\n",
        "\n",
        "- Thay đổi tỷ lệ chọn lọc (selection pressure) để cân bằng giữa các cá thể yếu và mạnh, tránh hiện tượng cá thể ưu tú lấn át toàn bộ quần thể (elitism dominance).\n",
        "\n",
        "**5. Phân tích hiệu năng thuật toán:**\n",
        "\n",
        "- Khi Mean Fitness tăng đều đặn qua các thế hệ, điều đó chỉ ra rằng thuật toán hoạt động hiệu quả.\n",
        "\n",
        "Nếu Mean Fitness tăng chậm hoặc dừng lại, có thể cần xem xét lại:\n",
        "\n",
        "- Thiết kế của hàm đánh giá (fitness function).\n",
        "\n",
        "- Các toán tử GA (lai ghép, đột biến, chọn lọc)."
      ],
      "metadata": {
        "id": "KVrst-OJFns6"
      }
    },
    {
      "cell_type": "code",
      "source": [
        "import matplotlib.pyplot as plt\n",
        "\n",
        "# Lọc các lần chạy sai\n",
        "incorrect_runs = results_df[results_df[\"Is_Correct\"] == False]\n",
        "\n",
        "# Kiểm tra nếu có bất kỳ lần chạy nào sai\n",
        "if not incorrect_runs.empty:\n",
        "    # Lấy lần chạy sai đầu tiên\n",
        "    first_incorrect_run = incorrect_runs.iloc[0]\n",
        "    run_number = first_incorrect_run[\"Run\"]\n",
        "    best_fitness_history = first_incorrect_run[\"Fitness_History\"]\n",
        "    mean_fitness_history = first_incorrect_run[\"Mean_Fitness_History\"]\n",
        "\n",
        "    # Lấy giá trị best fitness cuối cùng\n",
        "    final_best_fitness = best_fitness_history[-1]\n",
        "\n",
        "    # Vẽ biểu đồ fitness qua các thế hệ\n",
        "    plt.figure(figsize=(10, 6))\n",
        "    plt.plot(range(1, len(best_fitness_history) + 1), best_fitness_history, label=\"Best Fitness\")\n",
        "    plt.plot(range(1, len(mean_fitness_history) + 1), mean_fitness_history, label=\"Mean Fitness\", linestyle=\"--\")\n",
        "\n",
        "    # Thêm thông tin vào tiêu đề\n",
        "    plt.title(f\"Fitness History - Run {run_number}\\n Best Fitness = {final_best_fitness}\")\n",
        "    plt.xlabel(\"Generation\")\n",
        "    plt.ylabel(\"Fitness\")\n",
        "    plt.legend()\n",
        "    plt.grid()\n",
        "\n",
        "    # Hiển thị biểu đồ\n",
        "    plt.show()\n",
        "else:\n",
        "    print(\"Không có lần chạy nào sai.\")\n"
      ],
      "metadata": {
        "colab": {
          "base_uri": "https://localhost:8080/",
          "height": 585
        },
        "id": "L_eKmy4QCEl_",
        "outputId": "d2d652ca-8ad7-4699-80fa-5e0de8a03ed6"
      },
      "execution_count": null,
      "outputs": [
        {
          "output_type": "display_data",
          "data": {
            "text/plain": [
              "<Figure size 1000x600 with 1 Axes>"
            ],
            "image/png": "[encoded data removed]"
          },
          "metadata": {}
        }
      ]
    },
    {
      "cell_type": "markdown",
      "source": [
        "**Nhận định:**\n",
        "- Không đạt được giá trị tối ưu Best Fitness = 78691 (Best Fitness = 79009)\n",
        "- Khoảng cách giữa Mean Fitness và Best Fitness là trùng nhau là dấu hiệu của thiếu đa dạng quần thể.\n",
        "- Hội tụ sớm sau thế hệ 25 trở đi."
      ],
      "metadata": {
        "id": "J9qrFcdjKSBD"
      }
    },
    {
      "cell_type": "markdown",
      "source": [
        "**Thí nghiệm tương tự các thông số khác và thống kê kết quả:**"
      ],
      "metadata": {
        "id": "lYS2ugVOOdJY"
      }
    },
    {
      "cell_type": "markdown",
      "source": [
        "| Mutation Rate | Số lần đúng | Số lần sai | Tỷ lệ đúng (%) | Tỷ lệ sai (%) |\n",
        "|---------------|-------------|------------|----------------|---------------|\n",
        "| 0.02          | 71          | 29         | 71.00          | 29.00         |\n",
        "| 0.03          | 80          | 20         | 80.00          | 20.00         |\n",
        "| 0.04          | 83          | 17         | 83.00          | 17.00         |\n",
        "| 0.05          | 88          | 12         | 88.00          | 12.00         |\n"
      ],
      "metadata": {
        "id": "Bld7scttOA-M"
      }
    },
    {
      "cell_type": "markdown",
      "source": [
        "**Qua quan sát thí nghiệm rút ra được:**\n",
        "\n",
        "**Mutation Rate (0.02-0.04):** sẽ có Performance tương tự nhau càng tăng Muatation Rate càng cải thiện được khả năng ra kết quả đúng:\n",
        "\n",
        "Best Fitness = 79009\n"
      ],
      "metadata": {
        "id": "eAG9acCZO0pq"
      }
    },
    {
      "cell_type": "markdown",
      "source": [
        "![image.png](data:image/png;base64,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)"
      ],
      "metadata": {
        "id": "k5zva-hkSzyy"
      }
    },
    {
      "cell_type": "markdown",
      "source": [
        "**Mutation Rate (0.05+)**: sẽ cải thiện được kết quả đồng thời cải thiện được độ đa dạng của thuật toán nhưng lại làm chậm đi quá trình hội tụ.\n",
        "\n",
        "Best Fitness = 79009"
      ],
      "metadata": {
        "id": "d-YTS4gdWxuY"
      }
    },
    {
      "cell_type": "markdown",
      "source": [
        "![image.png](data:image/png;base64,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)"
      ],
      "metadata": {
        "id": "Vk748yC6Wscd"
      }
    },
    {
      "cell_type": "markdown",
      "source": [
        "**Kết luận:** Lựa chọn 0.04 là tỉ lệ đột biến sẽ phù hợp với bài toán vì đảm bảo ra được kết quả tốt hơn và hội tụ ổn định hơn mặc dù vẫn còn hạn chế về đa dạng quần thể."
      ],
      "metadata": {
        "id": "OIlQ0TQAMfZ6"
      }
    }
  ],
  "metadata": {
    "kernelspec": {
      "display_name": "Python 3",
      "language": "python",
      "name": "python3"
    },
    "language_info": {
      "codemirror_mode": {
        "name": "ipython",
        "version": 3
      },
      "file_extension": ".py",
      "mimetype": "text/x-python",
      "name": "python",
      "nbconvert_exporter": "python",
      "pygments_lexer": "ipython3",
      "version": "3.12.5"
    },
    "colab": {
      "provenance": []
    }
  },
  "nbformat": 4,
  "nbformat_minor": 0
}