{
 "cells": [
  {
   "cell_type": "markdown",
   "metadata": {},
   "source": [
    "# Knapsack 0/1 (Genetic Algorithm) "
   ]
  },
  {
   "cell_type": "code",
   "execution_count": 1,
   "metadata": {},
   "outputs": [],
   "source": [
    "from Genetic_Algorithm import *"
   ]
  },
  {
   "cell_type": "code",
   "execution_count": 2,
   "metadata": {},
   "outputs": [],
   "source": [
    "POPULATION_SIZE = 200  # Kích thước quần thể\n",
    "GENERATIONS = 200  # Số thế hệ\n",
    "CROSSOVER_RATE = 0.8  # Tỷ lệ lai ghép\n",
    "MUTATION_RATE = 0.04  # Tỷ lệ đột biến"
   ]
  },
  {
   "cell_type": "markdown",
   "metadata": {},
   "source": [
    "---\n",
    "\n",
    "<h3>I. Input Problem</h3>\n",
    "\n",
    "---"
   ]
  },
  {
   "cell_type": "code",
   "execution_count": 3,
   "metadata": {},
   "outputs": [],
   "source": [
    "def read_file(file_name):\n",
    "    items = []  \n",
    "    max_capacity = 0 \n",
    "    with open(file_name, 'r') as f:\n",
    "        lines = f.readlines()\n",
    "        weights_line = lines[0].strip()\n",
    "        weights = list(map(int, weights_line[weights_line.index('[')+1:weights_line.index(']')].split(',')))\n",
    "        values_line = lines[1].strip()\n",
    "        values = list(map(int, values_line[values_line.index('[')+1:values_line.index(']')].split(',')))\n",
    "        items = list(zip(weights, values))\n",
    "        max_capacity_line = lines[2].strip()\n",
    "        max_capacity = int(max_capacity_line.split('=')[1].strip())  \n",
    "    return items, max_capacity"
   ]
  },
  {
   "cell_type": "code",
   "execution_count": 4,
   "metadata": {},
   "outputs": [],
   "source": [
    "items, max_capacity = read_file(r\"D:/_Dev/Python/_Group Project/Knapsack-Problem-Genetic-Algorithm/Testcase/t6.txt\")"
   ]
  },
  {
   "cell_type": "code",
   "execution_count": 5,
   "metadata": {},
   "outputs": [],
   "source": [
    "def fitness(individual):\n",
    "    total_weight = sum(individual[i] * items[i][0] for i in range(len(items)))\n",
    "    total_value = sum(individual[i] * items[i][1] for i in range(len(items)))\n",
    "    return total_value if total_weight <= max_capacity else 0"
   ]
  },
  {
   "cell_type": "code",
   "execution_count": 6,
   "metadata": {},
   "outputs": [],
   "source": [
    "def initialize_population(num_items):\n",
    "    return [[random.randint(0, 1) for _ in range(num_items)] for _ in range(POPULATION_SIZE)]"
   ]
  },
  {
   "cell_type": "code",
   "execution_count": 7,
   "metadata": {},
   "outputs": [],
   "source": [
    "def select_population(population):\n",
    "    sorted_population = sorted(population, key=lambda x: fitness(x), reverse=True)\n",
    "    return sorted_population[:POPULATION_SIZE]"
   ]
  },
  {
   "cell_type": "code",
   "execution_count": 8,
   "metadata": {},
   "outputs": [],
   "source": [
    "def crossover(parent1, parent2):\n",
    "    child1, child2 = parent1[:], parent2[:]\n",
    "    for i in range(len(parent1)):\n",
    "        coin_flip = random.choice([0, 1])\n",
    "        if coin_flip == 0:\n",
    "            child1[i] = parent1[i]\n",
    "            child2[i] = parent2[i]\n",
    "        else:\n",
    "            child1[i] = parent2[i]\n",
    "            child2[i] = parent1[i]\n",
    "    return child1, child2  "
   ]
  },
  {
   "cell_type": "code",
   "execution_count": 9,
   "metadata": {},
   "outputs": [],
   "source": [
    "def mutate(individual):\n",
    "    for i in range(len(individual)):\n",
    "        if random.random() < MUTATION_RATE:\n",
    "            individual[i] = 1 - individual[i]\n",
    "    return individual"
   ]
  },
  {
   "cell_type": "code",
   "execution_count": 10,
   "metadata": {},
   "outputs": [],
   "source": [
    "def genetic_algorithm():\n",
    "    global fitness_history\n",
    "    \n",
    "    population = initialize_population(len(items))\n",
    "    best_individual = max(population, key=lambda ind: fitness(ind))\n",
    "\n",
    "    for gen in range(GENERATIONS):\n",
    "        selected_population = select_population(population)\n",
    "        \n",
    "        num_to_crossover = int(POPULATION_SIZE * CROSSOVER_RATE)\n",
    "        selected_for_crossover = selected_population[:num_to_crossover]\n",
    "        \n",
    "        offspring = []\n",
    "        for i in range(0, num_to_crossover, 2):\n",
    "            if i + 1 < len(selected_for_crossover):\n",
    "                child1, child2 = crossover(selected_for_crossover[i], selected_for_crossover[i + 1])\n",
    "                offspring.extend([child1, child2])\n",
    "        \n",
    "        offspring = [mutate(ind) for ind in offspring]\n",
    "        \n",
    "        # Cắt tỉa quần thể để đảm bảo kích thước không vượt quá POPULATION_SIZE\n",
    "        population.extend(offspring)\n",
    "        population = sorted(population, key=lambda ind: fitness(ind), reverse=True)\n",
    "        population = population[:POPULATION_SIZE]\n",
    "        \n",
    "        current_best = max(population, key=lambda ind: fitness(ind))\n",
    "        fitness_history.append(fitness(current_best))\n",
    "        \n",
    "        if fitness(current_best) > fitness(best_individual):\n",
    "            best_individual = current_best\n",
    "\n",
    "    return best_individual, fitness(best_individual)"
   ]
  },
  {
   "cell_type": "markdown",
   "metadata": {},
   "source": [
    "--- \n",
    "\n",
    "<h3>II. Solution</h3>\n",
    "\n",
    "---"
   ]
  },
  {
   "cell_type": "code",
   "execution_count": 11,
   "metadata": {},
   "outputs": [
    {
     "name": "stdout",
     "output_type": "stream",
     "text": [
      "Best solution: [1, 1, 0, 0, 0, 0, 0, 0, 1, 1, 0, 1, 1, 1, 0, 0, 0, 0, 1, 0, 1, 1, 1, 1, 1, 1, 1, 1, 0, 1, 0, 1, 0, 1, 1, 1, 1, 1, 0, 1, 1]\n",
      "Best value: 52840\n"
     ]
    }
   ],
   "source": [
    "best_solution, best_value = genetic_algorithm()\n",
    "print(\"Best solution:\", best_solution)\n",
    "print(\"Best value:\", best_value)"
   ]
  },
  {
   "cell_type": "markdown",
   "metadata": {},
   "source": [
    "---\n",
    "\n",
    "<h3>III. Biểu diễn biểu đồ hội tụ qua các thế hệ</h3>\n",
    "\n",
    "---"
   ]
  },
  {
   "cell_type": "code",
   "execution_count": 12,
   "metadata": {},
   "outputs": [
    {
     "data": {
      "image/png": "[encoded data removed]",
      "text/plain": [
       "<Figure size 700x500 with 1 Axes>"
      ]
     },
     "metadata": {},
     "output_type": "display_data"
    }
   ],
   "source": [
    "import matplotlib.pyplot as plt\n",
    "\n",
    "plt.figure(figsize=(7,5))\n",
    "plt.plot(fitness_history)\n",
    "plt.title('Fitness over generations')\n",
    "plt.xlabel('Generations')\n",
    "plt.ylabel('Best Fitness')\n",
    "plt.show()"
   ]
  }
 ],
 "metadata": {
  "kernelspec": {
   "display_name": "Python 3",
   "language": "python",
   "name": "python3"
  },
  "language_info": {
   "codemirror_mode": {
    "name": "ipython",
    "version": 3
   },
   "file_extension": ".py",
   "mimetype": "text/x-python",
   "name": "python",
   "nbconvert_exporter": "python",
   "pygments_lexer": "ipython3",
   "version": "3.12.5"
  }
 },
 "nbformat": 4,
 "nbformat_minor": 2
}
