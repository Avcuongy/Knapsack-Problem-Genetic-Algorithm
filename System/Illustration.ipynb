{
 "cells": [
  {
   "cell_type": "markdown",
   "metadata": {},
   "source": [
    "<h1>Biểu diễn biểu đồ hội tụ qua các thế</h1>"
   ]
  },
  {
   "cell_type": "code",
   "execution_count": 20,
   "metadata": {},
   "outputs": [],
   "source": [
    "import Example as e\n",
    "import matplotlib.pyplot as plt"
   ]
  },
  {
   "cell_type": "markdown",
   "metadata": {},
   "source": [
    "<h3>I. Input Problem</h3>"
   ]
  },
  {
   "cell_type": "code",
   "execution_count": 58,
   "metadata": {},
   "outputs": [
    {
     "name": "stdout",
     "output_type": "stream",
     "text": [
      "Vật phẩm 1: Weight = 1, Value = 1\n",
      "Vật phẩm 2: Weight = 2, Value = 3\n",
      "Vật phẩm 3: Weight = 5, Value = 6\n",
      "Vật phẩm 4: Weight = 7, Value = 7\n",
      "Vật phẩm 5: Weight = 10, Value = 12\n",
      "Vật phẩm 6: Weight = 12, Value = 15\n",
      "Vật phẩm 7: Weight = 15, Value = 25\n",
      "Vật phẩm 8: Weight = 23, Value = 32\n",
      "Vật phẩm 9: Weight = 32, Value = 44\n",
      "Vật phẩm 10: Weight = 33, Value = 45\n",
      "Vật phẩm 11: Weight = 35, Value = 47\n",
      "Vật phẩm 12: Weight = 37, Value = 50\n",
      "\n",
      "Maximum capacity = 70\n"
     ]
    }
   ],
   "source": [
    "e.items, e.max_capacity = e.get_user_input()\n",
    "e.get_info(e.items,e.max_capacity)"
   ]
  },
  {
   "cell_type": "markdown",
   "metadata": {},
   "source": [
    "<h3>II. Solution</h3>"
   ]
  },
  {
   "cell_type": "code",
   "execution_count": 59,
   "metadata": {},
   "outputs": [
    {
     "name": "stdout",
     "output_type": "stream",
     "text": [
      "\n",
      "Best solution: [1, 1, 1, 0, 0, 1, 1, 0, 0, 0, 1, 0]\n",
      "Best fitness: 97\n"
     ]
    }
   ],
   "source": [
    "e.genetic_algorithm()"
   ]
  },
  {
   "cell_type": "markdown",
   "metadata": {},
   "source": [
    "<h3>III. Biểu diễn biểu đồ hội tụ qua các thế hệ</h3>"
   ]
  },
  {
   "cell_type": "code",
   "execution_count": null,
   "metadata": {},
   "outputs": [
    {
     "data": {
      "image/png": "[encoded data removed]",
      "text/plain": [
       "<Figure size 800x500 with 1 Axes>"
      ]
     },
     "metadata": {},
     "output_type": "display_data"
    }
   ],
   "source": [
    "plt.figure(figsize=(8,5))\n",
    "plt.plot(e.fitness_history)\n",
    "plt.title('Fitness over generations')\n",
    "plt.xlabel('Generations')\n",
    "plt.ylabel('Best Fitness')\n",
    "plt.grid()\n",
    "plt.show()"
   ]
  }
 ],
 "metadata": {
  "kernelspec": {
   "display_name": "Python 3",
   "language": "python",
   "name": "python3"
  },
  "language_info": {
   "codemirror_mode": {
    "name": "ipython",
    "version": 3
   },
   "file_extension": ".py",
   "mimetype": "text/x-python",
   "name": "python",
   "nbconvert_exporter": "python",
   "pygments_lexer": "ipython3",
   "version": "3.12.5"
  }
 },
 "nbformat": 4,
 "nbformat_minor": 2
}
